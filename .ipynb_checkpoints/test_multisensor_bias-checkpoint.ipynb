{
 "cells": [
  {
   "cell_type": "code",
   "execution_count": 41,
   "id": "74ea5295",
   "metadata": {},
   "outputs": [],
   "source": [
    "import pandas as pd\n",
    "import os\n",
    "import numpy as np\n",
    "from collections import Counter\n",
    "import matplotlib.pyplot as plt"
   ]
  },
  {
   "cell_type": "code",
   "execution_count": null,
   "id": "56d31c04",
   "metadata": {},
   "outputs": [],
   "source": []
  },
  {
   "cell_type": "code",
   "execution_count": 5,
   "id": "b1ab110e",
   "metadata": {},
   "outputs": [],
   "source": [
    "codeDir = os.path.dirname(os.path.abspath(os.getcwd()))\n",
    "parentDir = os.path.dirname(codeDir)"
   ]
  },
  {
   "cell_type": "code",
   "execution_count": 24,
   "id": "7d6d579f",
   "metadata": {},
   "outputs": [],
   "source": [
    "df = pd.read_feather(parentDir+'\\\\intermediate_datadev2')\n",
    "\n",
    "# remove samples where max mrms intensity < min possible gage intensity\n",
    "min_int = pd.read_feather(parentDir+'\\\\min_intensity_gage')\n",
    "min_int['gage_id'] = min_int.index\n",
    "min_int.min_intensity = min_int.min_intensity\n",
    "df['min_int'] = [min_int.loc[min_int.gage_id==df.gage_id[i][0]].min_intensity.values[0] for i in df.index]\n",
    "\n",
    "df = df.query('max_mrms > min_int')\n",
    "# add gage source\n",
    "source = pd.read_csv(parentDir+'\\\\gage_source.csv',index_col=0)\n",
    "source['gage_id'] = source.index\n",
    "\n",
    "df['source'] = [source.loc[source.gage_id==df.gage_id[i][0]].source.values[0] for i in df.index]\n",
    "\n",
    "#df = df.reset_index(drop=True).drop(columns=['min_int','gage_id','max_accum_atgage'])\n",
    "df = df.reset_index(drop=True).drop(columns=['min_int','max_accum_atgage'])\n",
    "df.gage_id = [df.gage_id[i][0] for i in df.index]\n",
    "\n",
    "# remove multiple gages in same MRMS grid\n",
    "test = df.groupby(['latitude','longitude']).agg(list)\n",
    "test['num_gage'] = [len(np.unique(test.gage_id[i])) for i in test.index]\n",
    "test['i_gage'] = [np.unique(test.gage_id[i]) for i in test.index]\n",
    "\n",
    "dup = test.loc[test.num_gage>1].reset_index().i_gage\n",
    "gage_dup = [dup[i][1] for i in dup.index]\n",
    "df = df.loc[~df.gage_id.isin(gage_dup)]\n",
    "\n",
    "# shift lon to 255.5, was 255 when i developed dataset\n",
    "df = df.loc[df.longitude<255.5]\n",
    "\n",
    "df['label']=0\n",
    "df.loc[(df.AR_peak<=1/.3)&(df.AR_peak>=.3)&(df.AR_accum<=1/.25)&(df.AR_accum>=.25),['label']]=1\n",
    "\n",
    "df = df.loc[(df.AR_peak!=np.inf)&(df.AR_accum!=np.inf)]\n",
    "df = df.drop(columns=['AR_peak','AR_accum'])\n",
    "#df = df.drop(columns=['std_int_point','std_accum_point','mean_accum_point','accum_mean_storm','accum_std_storm'])\n",
    "\n",
    "df = df.dropna()"
   ]
  },
  {
   "cell_type": "code",
   "execution_count": 37,
   "id": "4a87501c",
   "metadata": {},
   "outputs": [
    {
     "data": {
      "text/plain": [
       "0.6166892808683854"
      ]
     },
     "execution_count": 37,
     "metadata": {},
     "output_type": "execute_result"
    }
   ],
   "source": [
    "len(df.loc[(df.source=='csu')&(df.label==0)])/len(df.loc[(df.source=='csu')])"
   ]
  },
  {
   "cell_type": "code",
   "execution_count": 44,
   "id": "f0b70c4d",
   "metadata": {},
   "outputs": [
    {
     "data": {
      "text/plain": [
       "<matplotlib.collections.PathCollection at 0x16c23a3f190>"
      ]
     },
     "execution_count": 44,
     "metadata": {},
     "output_type": "execute_result"
    },
    {
     "data": {
      "image/png": "[encoded data removed]",
      "text/plain": [
       "<Figure size 432x288 with 1 Axes>"
      ]
     },
     "metadata": {
      "needs_background": "light"
     },
     "output_type": "display_data"
    }
   ],
   "source": [
    "plt.scatter(df.loc[(df.source=='csu')].longitude,df.loc[(df.source=='csu')].latitude)\n",
    "plt.scatter(df.loc[(df.source!='csu')].longitude,df.loc[(df.source!='csu')].latitude)"
   ]
  },
  {
   "cell_type": "code",
   "execution_count": 45,
   "id": "0d321a7f",
   "metadata": {},
   "outputs": [
    {
     "data": {
      "text/plain": [
       "0.49862906384645517"
      ]
     },
     "execution_count": 45,
     "metadata": {},
     "output_type": "execute_result"
    }
   ],
   "source": [
    "len(df.loc[(df.source!='csu')&(df.label==0)])/len(df.loc[(df.source!='csu')])"
   ]
  },
  {
   "cell_type": "code",
   "execution_count": 38,
   "id": "e813db37",
   "metadata": {},
   "outputs": [
    {
     "data": {
      "text/plain": [
       "0.5070482699700982"
      ]
     },
     "execution_count": 38,
     "metadata": {},
     "output_type": "execute_result"
    }
   ],
   "source": [
    "len(df.loc[(df.source=='usgs')&(df.label==0)])/len(df.loc[(df.source=='usgs')])"
   ]
  },
  {
   "cell_type": "code",
   "execution_count": 39,
   "id": "bfe4218b",
   "metadata": {},
   "outputs": [
    {
     "data": {
      "text/plain": [
       "0.4754483975301382"
      ]
     },
     "execution_count": 39,
     "metadata": {},
     "output_type": "execute_result"
    }
   ],
   "source": [
    "len(df.loc[(df.source=='coagmet')&(df.label==0)])/len(df.loc[(df.source=='coagmet')])"
   ]
  },
  {
   "cell_type": "code",
   "execution_count": 46,
   "id": "8c166048",
   "metadata": {},
   "outputs": [],
   "source": [
    "xmax = df.loc[(df.source=='csu')].longitude.max()\n",
    "xmin = df.loc[(df.source=='csu')].longitude.min()\n",
    "ymax = df.loc[(df.source=='csu')].latitude.max()\n",
    "ymin = df.loc[(df.source=='csu')].latitude.min()"
   ]
  },
  {
   "cell_type": "code",
   "execution_count": 52,
   "id": "28325fe1",
   "metadata": {},
   "outputs": [],
   "source": [
    "sim_loc = df.loc[(df.source!='csu')&(df.longitude<=xmax)&(df.longitude>=xmin)&(df.latitude<=ymax)&(df.latitude>=ymin)]"
   ]
  },
  {
   "cell_type": "code",
   "execution_count": 53,
   "id": "80e0f790",
   "metadata": {},
   "outputs": [
    {
     "data": {
      "text/plain": [
       "0.8521897810218978"
      ]
     },
     "execution_count": 53,
     "metadata": {},
     "output_type": "execute_result"
    }
   ],
   "source": [
    "len(sim_loc.loc[(sim_loc.label==0)])/len(sim_loc)"
   ]
  },
  {
   "cell_type": "code",
   "execution_count": null,
   "id": "bf13a508",
   "metadata": {},
   "outputs": [],
   "source": []
  }
 ],
 "metadata": {
  "kernelspec": {
   "display_name": "Python 3 (ipykernel)",
   "language": "python",
   "name": "python3"
  },
  "language_info": {
   "codemirror_mode": {
    "name": "ipython",
    "version": 3
   },
   "file_extension": ".py",
   "mimetype": "text/x-python",
   "name": "python",
   "nbconvert_exporter": "python",
   "pygments_lexer": "ipython3",
   "version": "3.8.13"
  }
 },
 "nbformat": 4,
 "nbformat_minor": 5
}
