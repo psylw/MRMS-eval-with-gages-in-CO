{
 "cells": [
  {
   "cell_type": "code",
   "execution_count": 66,
   "id": "f190ee08",
   "metadata": {
    "scrolled": true
   },
   "outputs": [],
   "source": [
    "import pandas as pd\n",
    "from os import listdir\n",
    "import os\n",
    "import numpy as np\n",
    "from datetime import timedelta\n",
    "import glob\n",
    "\n",
    "codeDir = os.path.dirname(os.path.abspath(os.getcwd()))\n",
    "parentDir = os.path.dirname(codeDir)\n",
    "data_folder = os.path.join(parentDir,\"precip_gage\")\n",
    "\n",
    "def get_ET(data_folder):\n",
    "    locations = pd.read_csv(data_folder+'\\\\ET_meta.csv',index_col=0)\n",
    "    filenames = listdir(data_folder+'\\\\East Troublesome')\n",
    "    gage_id = np.unique([filenames[i][0:3] for i in range(len(filenames))])\n",
    "    gage=[]\n",
    "    for j in range(len(gage_id)):\n",
    "\n",
    "        # get all files for gage and concat\n",
    "        g = []\n",
    "        res = [i for i in filenames if gage_id[j] in i]\n",
    "        for i in res:\n",
    "            g.append(pd.read_csv(data_folder+'\\\\East Troublesome\\\\'+i,skiprows=1).iloc[:,0:3])\n",
    "\n",
    "        df = pd.concat(g)\n",
    "        df.iloc[:, 1] = pd.to_datetime(df.iloc[:, 1])\n",
    "        df = df.rename({df.iloc[:, 1].name: 'datetime'}, axis='columns')\n",
    "        df = df.rename({df.iloc[:, 2].name: 'accum'}, axis='columns')\n",
    "        df.accum = df.accum.astype('float')\n",
    "        df.accum = df.accum*25.4 #convert to mm from in\n",
    "\n",
    "        df = df.set_index('datetime')\n",
    "        df = df[~df.index.duplicated()] # remove duplicated timesteps\n",
    "        df = df.resample('1Min').asfreq().fillna(0)\n",
    "        rate = df.accum.rolling(15,min_periods=1).sum()\n",
    "        rate = (rate*(60/15))\n",
    "        df['15_int'] = rate\n",
    "        df = df.drop(columns='#')\n",
    "\n",
    "        gage.append(df)\n",
    "        \n",
    "    coord = zip(locations.Latitude,locations.Longitude)\n",
    "    ET = dict(zip(coord, gage))    \n",
    "    return ET"
   ]
  }
 ],
 "metadata": {
  "kernelspec": {
   "display_name": "Python 3 (ipykernel)",
   "language": "python",
   "name": "python3"
  },
  "language_info": {
   "codemirror_mode": {
    "name": "ipython",
    "version": 3
   },
   "file_extension": ".py",
   "mimetype": "text/x-python",
   "name": "python",
   "nbconvert_exporter": "python",
   "pygments_lexer": "ipython3",
   "version": "3.8.13"
  }
 },
 "nbformat": 4,
 "nbformat_minor": 5
}
