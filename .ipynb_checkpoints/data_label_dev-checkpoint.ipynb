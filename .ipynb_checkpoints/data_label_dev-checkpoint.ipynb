{
 "cells": [
  {
   "cell_type": "code",
   "execution_count": 1,
   "id": "63ec1b5d",
   "metadata": {},
   "outputs": [],
   "source": [
    "import os\n",
    "import xarray as xr\n",
    "from dask.distributed import Client\n",
    "import matplotlib.pyplot as plt\n",
    "from os import listdir\n",
    "import rioxarray as rxr"
   ]
  },
  {
   "cell_type": "code",
   "execution_count": 2,
   "id": "c6059eb0",
   "metadata": {},
   "outputs": [],
   "source": [
    "from CPF import *\n",
    "from grizzly import *\n",
    "from coagmet import *\n",
    "from disdrometer import *\n",
    "from mrms_gage import *"
   ]
  },
  {
   "cell_type": "code",
   "execution_count": 3,
   "id": "2412c9ad",
   "metadata": {},
   "outputs": [],
   "source": [
    "client = Client()"
   ]
  },
  {
   "cell_type": "code",
   "execution_count": 4,
   "id": "d35e6a6e",
   "metadata": {},
   "outputs": [],
   "source": [
    "# Create a path to the code file\n",
    "codeDir = os.path.dirname(os.path.abspath(os.getcwd()))\n",
    "parentDir = os.path.dirname(codeDir)"
   ]
  },
  {
   "cell_type": "markdown",
   "id": "07618bd0",
   "metadata": {},
   "source": [
    "Step 1: bring in cleaned gage data"
   ]
  },
  {
   "cell_type": "code",
   "execution_count": null,
   "id": "2db111ad",
   "metadata": {
    "scrolled": false
   },
   "outputs": [
    {
     "name": "stderr",
     "output_type": "stream",
     "text": [
      "Z:\\working code\\mrms_eval\\grizzly.py:23: FutureWarning: In a future version of pandas all arguments of DataFrame.drop except for the argument 'labels' will be keyword-only.\n",
      "  gage = [gage[i].drop(gage[i].columns.difference(['TimeStamp (Local)','15-minute Intensity (mm/h)','Bin Accum (mm)']), 1) for i in range(len(gage_id))]\n"
     ]
    }
   ],
   "source": [
    "gage_folder = os.path.join(parentDir,\"precip_gage\")\n",
    "\n",
    "# grizzly\n",
    "grizzly = get_grizzly(gage_folder)\n",
    "# cpf\n",
    "cpf = get_cpf(gage_folder+'\\\\cpf google drive')\n",
    "# disdrometer\n",
    "disdrom = get_disdrom(gage_folder)\n",
    "# coagmet\n",
    "coag = get_coagmet(gage_folder)\n",
    "# other gages??\n",
    "\n",
    "# bring everything together\n",
    "gage = {**grizzly, **cpf, **disdrom, **coag}\n",
    "\n",
    "# get list of keys (lat/lon)\n",
    "coord = [i for i in gage.keys()]"
   ]
  },
  {
   "cell_type": "markdown",
   "id": "87058d53",
   "metadata": {},
   "source": [
    "Step 2 : bring in MRMS"
   ]
  },
  {
   "cell_type": "code",
   "execution_count": 8,
   "id": "6a11b391",
   "metadata": {},
   "outputs": [
    {
     "name": "stderr",
     "output_type": "stream",
     "text": [
      "Ignoring index file 'Z:\\\\MRMS\\\\2min_rate_cat_month_CO\\\\eval\\\\may_2021_rate_CO.grib2.923a8.idx' incompatible with GRIB file\n",
      "Ignoring index file 'Z:\\\\MRMS\\\\2min_rate_cat_month_CO\\\\eval\\\\may_2022_rate_CO.grib2.923a8.idx' incompatible with GRIB file\n",
      "Ignoring index file 'Z:\\\\MRMS\\\\2min_rate_cat_month_CO\\\\eval\\\\jun_2021_rate_CO.grib2.923a8.idx' incompatible with GRIB file\n",
      "Ignoring index file 'Z:\\\\MRMS\\\\2min_rate_cat_month_CO\\\\eval\\\\jun_2022_rate_CO.grib2.923a8.idx' incompatible with GRIB file\n",
      "Ignoring index file 'Z:\\\\MRMS\\\\2min_rate_cat_month_CO\\\\eval\\\\jul_2021_rate_CO.grib2.923a8.idx' incompatible with GRIB file\n",
      "Ignoring index file 'Z:\\\\MRMS\\\\2min_rate_cat_month_CO\\\\eval\\\\jul_2022_rate_CO.grib2.923a8.idx' incompatible with GRIB file\n",
      "Ignoring index file 'Z:\\\\MRMS\\\\2min_rate_cat_month_CO\\\\eval\\\\sep_2021_rate_CO.grib2.923a8.idx' incompatible with GRIB file\n",
      "Ignoring index file 'Z:\\\\MRMS\\\\2min_rate_cat_month_CO\\\\eval\\\\sep_2022_rate_CO.grib2.923a8.idx' incompatible with GRIB file\n"
     ]
    }
   ],
   "source": [
    "mrms_rate_folder = os.path.join(parentDir,\"MRMS\",\"2min_rate_cat_month_CO\",\"eval\")\n",
    "months = ['may','jun','jul','aug','sep']\n",
    "years = [2021,2022]\n",
    "\n",
    "filenames_rate = [i+'_'+str(j)+'_rate_CO.grib2' for i in months for j in years]\n",
    "\n",
    "mrms_rate = []\n",
    "\n",
    "for i in range(len(filenames_rate)):\n",
    "    mrms_rate.append(xr.open_dataset(mrms_rate_folder+'\\\\'+filenames_rate[i], engine = \"cfgrib\",chunks={'time': '500MB'}))\n",
    "    \n",
    "mrms_rate = xr.concat(mrms_rate,dim='time')\n",
    "'''# open storm_ids\n",
    "storm_folder = os.path.join(parentDir,\"CO_storm_output\")\n",
    "\n",
    "filenames_storm = [i+'_'+str(j)+'storm_id.nc' for i in months for j in years]\n",
    "\n",
    "storm_id = []\n",
    "# add float to make storm_ids unique for each month \n",
    "unique = np.arange(0,0.1,0.01)\n",
    "\n",
    "for i in range(len(filenames_storm)):\n",
    "    storm = xr.open_dataset(storm_folder+'\\\\'+filenames_storm[i],chunks={'time': '500MB'})\n",
    "    storm = storm+unique[i]\n",
    "    storm_id.append(storm)\n",
    "\n",
    "storm_id = xr.concat(storm_id,dim='time')'''\n"
   ]
  },
  {
   "cell_type": "code",
   "execution_count": 9,
   "id": "49877e6c",
   "metadata": {},
   "outputs": [
    {
     "name": "stderr",
     "output_type": "stream",
     "text": [
      "C:\\Users\\whitep\\.conda\\envs\\radar\\lib\\site-packages\\xarray\\core\\dataset.py:4574: PerformanceWarning: Reshaping is producing a large chunk. To accept the large\n",
      "chunk and silence this warning, set the option\n",
      "    >>> with dask.config.set(**{'array.slicing.split_large_chunks': False}):\n",
      "    ...     array.reshape(shape)\n",
      "\n",
      "To avoid creating the large chunks, set the option\n",
      "    >>> with dask.config.set(**{'array.slicing.split_large_chunks': True}):\n",
      "    ...     array.reshape(shape)Explictly passing ``limit`` to ``reshape`` will also silence this warning\n",
      "    >>> array.reshape(shape, limit='128 MiB')\n",
      "  result = result._stack_once(dims, new_dim, index_cls, create_index)\n"
     ]
    }
   ],
   "source": [
    "# find closest mrms coordinates to gage and select those values\n",
    "lat,lon = nearest(mrms_rate,coord)\n",
    "mrms_rate = mrms_rate.sel(longitude=lon,latitude=lat,drop=True)\n",
    "\n",
    "storm_id = storm_id.sel(longitude=lon,latitude=lat,drop=True)\n",
    "storm_id = storm_id.storm_id.astype('float32')"
   ]
  },
  {
   "cell_type": "code",
   "execution_count": 5,
   "id": "0fbe0928",
   "metadata": {
    "scrolled": false
   },
   "outputs": [
    {
     "name": "stderr",
     "output_type": "stream",
     "text": [
      "Ignoring index file 'Z:\\\\MRMS\\\\2min_rate_cat_month_CO\\\\done\\\\apr_2021_rate_CO.grib2.923a8.idx' incompatible with GRIB file\n",
      "C:\\Users\\whitep\\.conda\\envs\\radar\\lib\\site-packages\\xarray\\core\\dataset.py:4574: PerformanceWarning: Reshaping is producing a large chunk. To accept the large\n",
      "chunk and silence this warning, set the option\n",
      "    >>> with dask.config.set(**{'array.slicing.split_large_chunks': False}):\n",
      "    ...     array.reshape(shape)\n",
      "\n",
      "To avoid creating the large chunks, set the option\n",
      "    >>> with dask.config.set(**{'array.slicing.split_large_chunks': True}):\n",
      "    ...     array.reshape(shape)Explictly passing ``limit`` to ``reshape`` will also silence this warning\n",
      "    >>> array.reshape(shape, limit='128 MiB')\n",
      "  result = result._stack_once(dims, new_dim, index_cls, create_index)\n"
     ]
    }
   ],
   "source": [
    "'''# open 2 min rate for 2021,2022\n",
    "# test with april 2021\n",
    "mrms_rate_folder = os.path.join(parentDir,\"MRMS\",\"2min_rate_cat_month_CO\")\n",
    "mrms_rate = xr.open_dataset(mrms_rate_folder+'\\\\done\\\\jul_2022_rate_CO.grib2', engine = \"cfgrib\",chunks={'time': '500MB'})\n",
    "\n",
    "# find closest mrms coordinates to gage and select those values\n",
    "lat,lon = nearest(mrms_rate,coord)\n",
    "mrms_rate = mrms_rate.sel(longitude=lon,latitude=lat,drop=True)\n",
    "\n",
    "# open storm_ids\n",
    "storm_folder = os.path.join(parentDir,\"CO_storm_output\")\n",
    "storm_id = xr.open_dataset(storm_folder+'\\\\jul_2022storm_id.nc',chunks={'time': '500MB'})\n",
    "\n",
    "storm_id = storm_id.sel(longitude=lon,latitude=lat,drop=True)\n",
    "storm_id = storm_id.storm_id.astype('float32')'''"
   ]
  },
  {
   "cell_type": "code",
   "execution_count": 20,
   "id": "364d53f8",
   "metadata": {},
   "outputs": [
    {
     "name": "stderr",
     "output_type": "stream",
     "text": [
      "Ignoring index file 'Z:\\\\MRMS\\\\1hr_QPE_multi_cat_yr_CO\\\\2022_multiQPE_CO.grib2.923a8.idx' incompatible with GRIB file\n"
     ]
    }
   ],
   "source": [
    "# open multisensor qpe for 2021,2022\n",
    "mrms_multi_folder = os.path.join(parentDir,\"MRMS\",\"1hr_QPE_multi_cat_yr_CO\")\n",
    "mrms_multi_21 = xr.open_dataset(mrms_multi_folder+'\\\\2021_multiQPE_CO.grib2',chunks={'time': '500MB'})\n",
    "mrms_multi_22 = xr.open_dataset(mrms_multi_folder+'\\\\2022_multiQPE_CO.grib2',chunks={'time': '500MB'})\n",
    "\n",
    "mrms_multi_21 = mrms_multi_21.sel(time=slice(\"2021-05-01\", \"2021-09-30\"))\n",
    "mrms_multi_21 = mrms_multi_21.sel(longitude=lon,latitude=lat,drop=True)\n",
    "\n",
    "mrms_multi_22 = mrms_multi_22.sel(time=slice(\"2022-05-01\", \"2022-09-30\"))\n",
    "mrms_multi_22 = mrms_multi_22.sel(longitude=lon,latitude=lat,drop=True)\n",
    "\n",
    "# open radaronly qpe for 2021,2022\n",
    "mrms_radar_folder = os.path.join(parentDir,\"MRMS\",\"1hr_QPE_radar_cat_yr_CO\")\n",
    "mrms_radar_21 = xr.open_dataset(mrms_radar_folder+'\\\\2021_radarQPE_CO.grib2',chunks={'time': '500MB'})\n",
    "mrms_radar_22 = xr.open_dataset(mrms_radar_folder+'\\\\2022_radarQPE_CO.grib2',chunks={'time': '500MB'})\n",
    "\n",
    "mrms_radar_21 = mrms_radar_21.sel(longitude=lon,latitude=lat,drop=True)\n",
    "mrms_radar_22 = mrms_radar_22.sel(longitude=lon,latitude=lat,drop=True)\n",
    "\n",
    "# divide multisesor by radar-only, fill Nan with 1\n",
    "correction_21 = (mrms_multi_21/mrms_radar_21).fillna(1)\n",
    "correction_22 = (mrms_multi_22/mrms_radar_22).fillna(1)\n",
    "# resample 1-hour to 2-min to apply to 2-min accumulation\n",
    "correction_21 = correction_21.resample(time='2min').pad()\n",
    "correction_22 = correction_22.resample(time='2min').pad()\n",
    "# fill inf with 1\n",
    "correction_21 = correction_21.where(correction_21.unknown != np.inf).fillna(1)\n",
    "correction_22 = correction_22.where(correction_22.unknown != np.inf).fillna(1)\n",
    "\n",
    "correction = xr.concat([correction_21,correction_22],dim='time')\n",
    "mrms_accum = mrms_rate*(2/60)\n",
    "mrms_2_corrected = mrms_accum*correction"
   ]
  },
  {
   "cell_type": "code",
   "execution_count": 22,
   "id": "9ae586d3",
   "metadata": {},
   "outputs": [],
   "source": [
    "# change time to MST\n",
    "mrms_2_corrected = time_change(mrms_2_corrected)\n",
    "storm_id = time_change(storm_id)\n"
   ]
  },
  {
   "cell_type": "code",
   "execution_count": null,
   "id": "7d93c55e",
   "metadata": {},
   "outputs": [],
   "source": [
    "# remove all variables except for storms and 2min accum\n",
    "# %reset_selective -f \"^a$\""
   ]
  },
  {
   "cell_type": "markdown",
   "id": "c4342497",
   "metadata": {},
   "source": [
    "Step 3 : Compare MRMS to gage"
   ]
  },
  {
   "cell_type": "code",
   "execution_count": 59,
   "id": "7f47f536",
   "metadata": {},
   "outputs": [
    {
     "name": "stdout",
     "output_type": "stream",
     "text": [
      "gagecount=0\n",
      "stormcount=0\n"
     ]
    },
    {
     "name": "stderr",
     "output_type": "stream",
     "text": [
      "Task exception was never retrieved\n",
      "future: <Task finished name='Task-149768' coro=<Client._gather.<locals>.wait() done, defined at C:\\Users\\whitep\\.conda\\envs\\radar\\lib\\site-packages\\distributed\\client.py:2054> exception=AllExit()>\n",
      "Traceback (most recent call last):\n",
      "  File \"C:\\Users\\whitep\\.conda\\envs\\radar\\lib\\site-packages\\distributed\\client.py\", line 2063, in wait\n",
      "    raise AllExit()\n",
      "distributed.client.AllExit\n",
      "Task exception was never retrieved\n",
      "future: <Task finished name='Task-149763' coro=<Client._gather.<locals>.wait() done, defined at C:\\Users\\whitep\\.conda\\envs\\radar\\lib\\site-packages\\distributed\\client.py:2054> exception=AllExit()>\n",
      "Traceback (most recent call last):\n",
      "  File \"C:\\Users\\whitep\\.conda\\envs\\radar\\lib\\site-packages\\distributed\\client.py\", line 2063, in wait\n",
      "    raise AllExit()\n",
      "distributed.client.AllExit\n",
      "Task exception was never retrieved\n",
      "future: <Task finished name='Task-149666' coro=<Client._gather.<locals>.wait() done, defined at C:\\Users\\whitep\\.conda\\envs\\radar\\lib\\site-packages\\distributed\\client.py:2054> exception=AllExit()>\n",
      "Traceback (most recent call last):\n",
      "  File \"C:\\Users\\whitep\\.conda\\envs\\radar\\lib\\site-packages\\distributed\\client.py\", line 2063, in wait\n",
      "    raise AllExit()\n",
      "distributed.client.AllExit\n",
      "Task exception was never retrieved\n",
      "future: <Task finished name='Task-149817' coro=<Client._gather.<locals>.wait() done, defined at C:\\Users\\whitep\\.conda\\envs\\radar\\lib\\site-packages\\distributed\\client.py:2054> exception=AllExit()>\n",
      "Traceback (most recent call last):\n",
      "  File \"C:\\Users\\whitep\\.conda\\envs\\radar\\lib\\site-packages\\distributed\\client.py\", line 2063, in wait\n",
      "    raise AllExit()\n",
      "distributed.client.AllExit\n",
      "Task exception was never retrieved\n",
      "future: <Task finished name='Task-149724' coro=<Client._gather.<locals>.wait() done, defined at C:\\Users\\whitep\\.conda\\envs\\radar\\lib\\site-packages\\distributed\\client.py:2054> exception=AllExit()>\n",
      "Traceback (most recent call last):\n",
      "  File \"C:\\Users\\whitep\\.conda\\envs\\radar\\lib\\site-packages\\distributed\\client.py\", line 2063, in wait\n",
      "    raise AllExit()\n",
      "distributed.client.AllExit\n",
      "Task exception was never retrieved\n",
      "future: <Task finished name='Task-149772' coro=<Client._gather.<locals>.wait() done, defined at C:\\Users\\whitep\\.conda\\envs\\radar\\lib\\site-packages\\distributed\\client.py:2054> exception=AllExit()>\n",
      "Traceback (most recent call last):\n",
      "  File \"C:\\Users\\whitep\\.conda\\envs\\radar\\lib\\site-packages\\distributed\\client.py\", line 2063, in wait\n",
      "    raise AllExit()\n",
      "distributed.client.AllExit\n"
     ]
    },
    {
     "ename": "KeyboardInterrupt",
     "evalue": "",
     "output_type": "error",
     "traceback": [
      "\u001b[1;31m---------------------------------------------------------------------------\u001b[0m",
      "\u001b[1;31mKeyboardInterrupt\u001b[0m                         Traceback (most recent call last)",
      "Cell \u001b[1;32mIn [59], line 36\u001b[0m\n\u001b[0;32m     34\u001b[0m \u001b[38;5;28mprint\u001b[39m(\u001b[38;5;124m'\u001b[39m\u001b[38;5;124mstormcount=\u001b[39m\u001b[38;5;124m'\u001b[39m\u001b[38;5;241m+\u001b[39m\u001b[38;5;28mstr\u001b[39m(j))\n\u001b[0;32m     35\u001b[0m \u001b[38;5;66;03m# find gage times for each storm\u001b[39;00m\n\u001b[1;32m---> 36\u001b[0m m_storm \u001b[38;5;241m=\u001b[39m \u001b[43mm\u001b[49m\u001b[38;5;241;43m.\u001b[39;49m\u001b[43mwhere\u001b[49m\u001b[43m(\u001b[49m\u001b[43ms\u001b[49m\u001b[38;5;241;43m==\u001b[39;49m\u001b[43mstorms\u001b[49m\u001b[43m[\u001b[49m\u001b[43mj\u001b[49m\u001b[43m]\u001b[49m\u001b[43m,\u001b[49m\u001b[43mdrop\u001b[49m\u001b[38;5;241;43m=\u001b[39;49m\u001b[38;5;28;43;01mTrue\u001b[39;49;00m\u001b[43m)\u001b[49m\n\u001b[0;32m     37\u001b[0m storm_times \u001b[38;5;241m=\u001b[39m m_storm\u001b[38;5;241m.\u001b[39mtime\u001b[38;5;241m.\u001b[39mvalues\n\u001b[0;32m     38\u001b[0m gage_15 \u001b[38;5;241m=\u001b[39m gage[coord[i]][storm_times[\u001b[38;5;241m0\u001b[39m]:storm_times[\u001b[38;5;241m-\u001b[39m\u001b[38;5;241m1\u001b[39m]][\u001b[38;5;124m'\u001b[39m\u001b[38;5;124m15_int\u001b[39m\u001b[38;5;124m'\u001b[39m]\n",
      "File \u001b[1;32m~\\.conda\\envs\\radar\\lib\\site-packages\\xarray\\core\\common.py:1096\u001b[0m, in \u001b[0;36mDataWithCoords.where\u001b[1;34m(self, cond, other, drop)\u001b[0m\n\u001b[0;32m   1093\u001b[0m     \u001b[38;5;28;01mfor\u001b[39;00m dim \u001b[38;5;129;01min\u001b[39;00m cond\u001b[38;5;241m.\u001b[39msizes\u001b[38;5;241m.\u001b[39mkeys():\n\u001b[0;32m   1094\u001b[0m         indexers[dim] \u001b[38;5;241m=\u001b[39m _get_indexer(dim)\n\u001b[1;32m-> 1096\u001b[0m     \u001b[38;5;28mself\u001b[39m \u001b[38;5;241m=\u001b[39m \u001b[38;5;28;43mself\u001b[39;49m\u001b[38;5;241;43m.\u001b[39;49m\u001b[43misel\u001b[49m\u001b[43m(\u001b[49m\u001b[38;5;241;43m*\u001b[39;49m\u001b[38;5;241;43m*\u001b[39;49m\u001b[43mindexers\u001b[49m\u001b[43m)\u001b[49m\n\u001b[0;32m   1097\u001b[0m     cond \u001b[38;5;241m=\u001b[39m cond\u001b[38;5;241m.\u001b[39misel(\u001b[38;5;241m*\u001b[39m\u001b[38;5;241m*\u001b[39mindexers)\n\u001b[0;32m   1099\u001b[0m \u001b[38;5;28;01mreturn\u001b[39;00m ops\u001b[38;5;241m.\u001b[39mwhere_method(\u001b[38;5;28mself\u001b[39m, cond, other)\n",
      "File \u001b[1;32m~\\.conda\\envs\\radar\\lib\\site-packages\\xarray\\core\\dataset.py:2404\u001b[0m, in \u001b[0;36mDataset.isel\u001b[1;34m(self, indexers, drop, missing_dims, **indexers_kwargs)\u001b[0m\n\u001b[0;32m   2402\u001b[0m indexers \u001b[38;5;241m=\u001b[39m either_dict_or_kwargs(indexers, indexers_kwargs, \u001b[38;5;124m\"\u001b[39m\u001b[38;5;124misel\u001b[39m\u001b[38;5;124m\"\u001b[39m)\n\u001b[0;32m   2403\u001b[0m \u001b[38;5;28;01mif\u001b[39;00m \u001b[38;5;28many\u001b[39m(is_fancy_indexer(idx) \u001b[38;5;28;01mfor\u001b[39;00m idx \u001b[38;5;129;01min\u001b[39;00m indexers\u001b[38;5;241m.\u001b[39mvalues()):\n\u001b[1;32m-> 2404\u001b[0m     \u001b[38;5;28;01mreturn\u001b[39;00m \u001b[38;5;28;43mself\u001b[39;49m\u001b[38;5;241;43m.\u001b[39;49m\u001b[43m_isel_fancy\u001b[49m\u001b[43m(\u001b[49m\u001b[43mindexers\u001b[49m\u001b[43m,\u001b[49m\u001b[43m \u001b[49m\u001b[43mdrop\u001b[49m\u001b[38;5;241;43m=\u001b[39;49m\u001b[43mdrop\u001b[49m\u001b[43m,\u001b[49m\u001b[43m \u001b[49m\u001b[43mmissing_dims\u001b[49m\u001b[38;5;241;43m=\u001b[39;49m\u001b[43mmissing_dims\u001b[49m\u001b[43m)\u001b[49m\n\u001b[0;32m   2406\u001b[0m \u001b[38;5;66;03m# Much faster algorithm for when all indexers are ints, slices, one-dimensional\u001b[39;00m\n\u001b[0;32m   2407\u001b[0m \u001b[38;5;66;03m# lists, or zero or one-dimensional np.ndarray's\u001b[39;00m\n\u001b[0;32m   2408\u001b[0m indexers \u001b[38;5;241m=\u001b[39m drop_dims_from_indexers(indexers, \u001b[38;5;28mself\u001b[39m\u001b[38;5;241m.\u001b[39mdims, missing_dims)\n",
      "File \u001b[1;32m~\\.conda\\envs\\radar\\lib\\site-packages\\xarray\\core\\dataset.py:2460\u001b[0m, in \u001b[0;36mDataset._isel_fancy\u001b[1;34m(self, indexers, drop, missing_dims)\u001b[0m\n\u001b[0;32m   2456\u001b[0m var_indexers \u001b[38;5;241m=\u001b[39m {\n\u001b[0;32m   2457\u001b[0m     k: v \u001b[38;5;28;01mfor\u001b[39;00m k, v \u001b[38;5;129;01min\u001b[39;00m valid_indexers\u001b[38;5;241m.\u001b[39mitems() \u001b[38;5;28;01mif\u001b[39;00m k \u001b[38;5;129;01min\u001b[39;00m var\u001b[38;5;241m.\u001b[39mdims\n\u001b[0;32m   2458\u001b[0m }\n\u001b[0;32m   2459\u001b[0m \u001b[38;5;28;01mif\u001b[39;00m var_indexers:\n\u001b[1;32m-> 2460\u001b[0m     new_var \u001b[38;5;241m=\u001b[39m \u001b[43mvar\u001b[49m\u001b[38;5;241;43m.\u001b[39;49m\u001b[43misel\u001b[49m\u001b[43m(\u001b[49m\u001b[43mindexers\u001b[49m\u001b[38;5;241;43m=\u001b[39;49m\u001b[43mvar_indexers\u001b[49m\u001b[43m)\u001b[49m\n\u001b[0;32m   2461\u001b[0m     \u001b[38;5;66;03m# drop scalar coordinates\u001b[39;00m\n\u001b[0;32m   2462\u001b[0m     \u001b[38;5;66;03m# https://github.com/pydata/xarray/issues/6554\u001b[39;00m\n\u001b[0;32m   2463\u001b[0m     \u001b[38;5;28;01mif\u001b[39;00m name \u001b[38;5;129;01min\u001b[39;00m \u001b[38;5;28mself\u001b[39m\u001b[38;5;241m.\u001b[39mcoords \u001b[38;5;129;01mand\u001b[39;00m drop \u001b[38;5;129;01mand\u001b[39;00m new_var\u001b[38;5;241m.\u001b[39mndim \u001b[38;5;241m==\u001b[39m \u001b[38;5;241m0\u001b[39m:\n",
      "File \u001b[1;32m~\\.conda\\envs\\radar\\lib\\site-packages\\xarray\\core\\variable.py:1274\u001b[0m, in \u001b[0;36mVariable.isel\u001b[1;34m(self, indexers, missing_dims, **indexers_kwargs)\u001b[0m\n\u001b[0;32m   1271\u001b[0m indexers \u001b[38;5;241m=\u001b[39m drop_dims_from_indexers(indexers, \u001b[38;5;28mself\u001b[39m\u001b[38;5;241m.\u001b[39mdims, missing_dims)\n\u001b[0;32m   1273\u001b[0m key \u001b[38;5;241m=\u001b[39m \u001b[38;5;28mtuple\u001b[39m(indexers\u001b[38;5;241m.\u001b[39mget(dim, \u001b[38;5;28mslice\u001b[39m(\u001b[38;5;28;01mNone\u001b[39;00m)) \u001b[38;5;28;01mfor\u001b[39;00m dim \u001b[38;5;129;01min\u001b[39;00m \u001b[38;5;28mself\u001b[39m\u001b[38;5;241m.\u001b[39mdims)\n\u001b[1;32m-> 1274\u001b[0m \u001b[38;5;28;01mreturn\u001b[39;00m \u001b[38;5;28;43mself\u001b[39;49m\u001b[43m[\u001b[49m\u001b[43mkey\u001b[49m\u001b[43m]\u001b[49m\n",
      "File \u001b[1;32m~\\.conda\\envs\\radar\\lib\\site-packages\\xarray\\core\\variable.py:820\u001b[0m, in \u001b[0;36mVariable.__getitem__\u001b[1;34m(self, key)\u001b[0m\n\u001b[0;32m    807\u001b[0m \u001b[38;5;28;01mdef\u001b[39;00m \u001b[38;5;21m__getitem__\u001b[39m(\u001b[38;5;28mself\u001b[39m: T_Variable, key) \u001b[38;5;241m-\u001b[39m\u001b[38;5;241m>\u001b[39m T_Variable:\n\u001b[0;32m    808\u001b[0m     \u001b[38;5;124;03m\"\"\"Return a new Variable object whose contents are consistent with\u001b[39;00m\n\u001b[0;32m    809\u001b[0m \u001b[38;5;124;03m    getting the provided key from the underlying data.\u001b[39;00m\n\u001b[0;32m    810\u001b[0m \n\u001b[1;32m   (...)\u001b[0m\n\u001b[0;32m    818\u001b[0m \u001b[38;5;124;03m    array `x.values` directly.\u001b[39;00m\n\u001b[0;32m    819\u001b[0m \u001b[38;5;124;03m    \"\"\"\u001b[39;00m\n\u001b[1;32m--> 820\u001b[0m     dims, indexer, new_order \u001b[38;5;241m=\u001b[39m \u001b[38;5;28;43mself\u001b[39;49m\u001b[38;5;241;43m.\u001b[39;49m\u001b[43m_broadcast_indexes\u001b[49m\u001b[43m(\u001b[49m\u001b[43mkey\u001b[49m\u001b[43m)\u001b[49m\n\u001b[0;32m    821\u001b[0m     data \u001b[38;5;241m=\u001b[39m as_indexable(\u001b[38;5;28mself\u001b[39m\u001b[38;5;241m.\u001b[39m_data)[indexer]\n\u001b[0;32m    822\u001b[0m     \u001b[38;5;28;01mif\u001b[39;00m new_order:\n",
      "File \u001b[1;32m~\\.conda\\envs\\radar\\lib\\site-packages\\xarray\\core\\variable.py:681\u001b[0m, in \u001b[0;36mVariable._broadcast_indexes\u001b[1;34m(self, key)\u001b[0m\n\u001b[0;32m    679\u001b[0m         dims\u001b[38;5;241m.\u001b[39mappend(d)\n\u001b[0;32m    680\u001b[0m \u001b[38;5;28;01mif\u001b[39;00m \u001b[38;5;28mlen\u001b[39m(\u001b[38;5;28mset\u001b[39m(dims)) \u001b[38;5;241m==\u001b[39m \u001b[38;5;28mlen\u001b[39m(dims):\n\u001b[1;32m--> 681\u001b[0m     \u001b[38;5;28;01mreturn\u001b[39;00m \u001b[38;5;28;43mself\u001b[39;49m\u001b[38;5;241;43m.\u001b[39;49m\u001b[43m_broadcast_indexes_outer\u001b[49m\u001b[43m(\u001b[49m\u001b[43mkey\u001b[49m\u001b[43m)\u001b[49m\n\u001b[0;32m    683\u001b[0m \u001b[38;5;28;01mreturn\u001b[39;00m \u001b[38;5;28mself\u001b[39m\u001b[38;5;241m.\u001b[39m_broadcast_indexes_vectorized(key)\n",
      "File \u001b[1;32m~\\.conda\\envs\\radar\\lib\\site-packages\\xarray\\core\\variable.py:734\u001b[0m, in \u001b[0;36mVariable._broadcast_indexes_outer\u001b[1;34m(self, key)\u001b[0m\n\u001b[0;32m    732\u001b[0m     k \u001b[38;5;241m=\u001b[39m k\u001b[38;5;241m.\u001b[39mdata\n\u001b[0;32m    733\u001b[0m \u001b[38;5;28;01mif\u001b[39;00m \u001b[38;5;129;01mnot\u001b[39;00m \u001b[38;5;28misinstance\u001b[39m(k, BASIC_INDEXING_TYPES):\n\u001b[1;32m--> 734\u001b[0m     k \u001b[38;5;241m=\u001b[39m \u001b[43mnp\u001b[49m\u001b[38;5;241;43m.\u001b[39;49m\u001b[43masarray\u001b[49m\u001b[43m(\u001b[49m\u001b[43mk\u001b[49m\u001b[43m)\u001b[49m\n\u001b[0;32m    735\u001b[0m     \u001b[38;5;28;01mif\u001b[39;00m k\u001b[38;5;241m.\u001b[39msize \u001b[38;5;241m==\u001b[39m \u001b[38;5;241m0\u001b[39m:\n\u001b[0;32m    736\u001b[0m         \u001b[38;5;66;03m# Slice by empty list; numpy could not infer the dtype\u001b[39;00m\n\u001b[0;32m    737\u001b[0m         k \u001b[38;5;241m=\u001b[39m k\u001b[38;5;241m.\u001b[39mastype(\u001b[38;5;28mint\u001b[39m)\n",
      "File \u001b[1;32m~\\.conda\\envs\\radar\\lib\\site-packages\\dask\\array\\core.py:1700\u001b[0m, in \u001b[0;36mArray.__array__\u001b[1;34m(self, dtype, **kwargs)\u001b[0m\n\u001b[0;32m   1699\u001b[0m \u001b[38;5;28;01mdef\u001b[39;00m \u001b[38;5;21m__array__\u001b[39m(\u001b[38;5;28mself\u001b[39m, dtype\u001b[38;5;241m=\u001b[39m\u001b[38;5;28;01mNone\u001b[39;00m, \u001b[38;5;241m*\u001b[39m\u001b[38;5;241m*\u001b[39mkwargs):\n\u001b[1;32m-> 1700\u001b[0m     x \u001b[38;5;241m=\u001b[39m \u001b[38;5;28;43mself\u001b[39;49m\u001b[38;5;241;43m.\u001b[39;49m\u001b[43mcompute\u001b[49m\u001b[43m(\u001b[49m\u001b[43m)\u001b[49m\n\u001b[0;32m   1701\u001b[0m     \u001b[38;5;28;01mif\u001b[39;00m dtype \u001b[38;5;129;01mand\u001b[39;00m x\u001b[38;5;241m.\u001b[39mdtype \u001b[38;5;241m!=\u001b[39m dtype:\n\u001b[0;32m   1702\u001b[0m         x \u001b[38;5;241m=\u001b[39m x\u001b[38;5;241m.\u001b[39mastype(dtype)\n",
      "File \u001b[1;32m~\\.conda\\envs\\radar\\lib\\site-packages\\dask\\base.py:315\u001b[0m, in \u001b[0;36mDaskMethodsMixin.compute\u001b[1;34m(self, **kwargs)\u001b[0m\n\u001b[0;32m    291\u001b[0m \u001b[38;5;28;01mdef\u001b[39;00m \u001b[38;5;21mcompute\u001b[39m(\u001b[38;5;28mself\u001b[39m, \u001b[38;5;241m*\u001b[39m\u001b[38;5;241m*\u001b[39mkwargs):\n\u001b[0;32m    292\u001b[0m     \u001b[38;5;124;03m\"\"\"Compute this dask collection\u001b[39;00m\n\u001b[0;32m    293\u001b[0m \n\u001b[0;32m    294\u001b[0m \u001b[38;5;124;03m    This turns a lazy Dask collection into its in-memory equivalent.\u001b[39;00m\n\u001b[1;32m   (...)\u001b[0m\n\u001b[0;32m    313\u001b[0m \u001b[38;5;124;03m    dask.base.compute\u001b[39;00m\n\u001b[0;32m    314\u001b[0m \u001b[38;5;124;03m    \"\"\"\u001b[39;00m\n\u001b[1;32m--> 315\u001b[0m     (result,) \u001b[38;5;241m=\u001b[39m \u001b[43mcompute\u001b[49m\u001b[43m(\u001b[49m\u001b[38;5;28;43mself\u001b[39;49m\u001b[43m,\u001b[49m\u001b[43m \u001b[49m\u001b[43mtraverse\u001b[49m\u001b[38;5;241;43m=\u001b[39;49m\u001b[38;5;28;43;01mFalse\u001b[39;49;00m\u001b[43m,\u001b[49m\u001b[43m \u001b[49m\u001b[38;5;241;43m*\u001b[39;49m\u001b[38;5;241;43m*\u001b[39;49m\u001b[43mkwargs\u001b[49m\u001b[43m)\u001b[49m\n\u001b[0;32m    316\u001b[0m     \u001b[38;5;28;01mreturn\u001b[39;00m result\n",
      "File \u001b[1;32m~\\.conda\\envs\\radar\\lib\\site-packages\\dask\\base.py:600\u001b[0m, in \u001b[0;36mcompute\u001b[1;34m(traverse, optimize_graph, scheduler, get, *args, **kwargs)\u001b[0m\n\u001b[0;32m    597\u001b[0m     keys\u001b[38;5;241m.\u001b[39mappend(x\u001b[38;5;241m.\u001b[39m__dask_keys__())\n\u001b[0;32m    598\u001b[0m     postcomputes\u001b[38;5;241m.\u001b[39mappend(x\u001b[38;5;241m.\u001b[39m__dask_postcompute__())\n\u001b[1;32m--> 600\u001b[0m results \u001b[38;5;241m=\u001b[39m \u001b[43mschedule\u001b[49m\u001b[43m(\u001b[49m\u001b[43mdsk\u001b[49m\u001b[43m,\u001b[49m\u001b[43m \u001b[49m\u001b[43mkeys\u001b[49m\u001b[43m,\u001b[49m\u001b[43m \u001b[49m\u001b[38;5;241;43m*\u001b[39;49m\u001b[38;5;241;43m*\u001b[39;49m\u001b[43mkwargs\u001b[49m\u001b[43m)\u001b[49m\n\u001b[0;32m    601\u001b[0m \u001b[38;5;28;01mreturn\u001b[39;00m repack([f(r, \u001b[38;5;241m*\u001b[39ma) \u001b[38;5;28;01mfor\u001b[39;00m r, (f, a) \u001b[38;5;129;01min\u001b[39;00m \u001b[38;5;28mzip\u001b[39m(results, postcomputes)])\n",
      "File \u001b[1;32m~\\.conda\\envs\\radar\\lib\\site-packages\\distributed\\client.py:3057\u001b[0m, in \u001b[0;36mClient.get\u001b[1;34m(self, dsk, keys, workers, allow_other_workers, resources, sync, asynchronous, direct, retries, priority, fifo_timeout, actors, **kwargs)\u001b[0m\n\u001b[0;32m   3055\u001b[0m         should_rejoin \u001b[38;5;241m=\u001b[39m \u001b[38;5;28;01mFalse\u001b[39;00m\n\u001b[0;32m   3056\u001b[0m \u001b[38;5;28;01mtry\u001b[39;00m:\n\u001b[1;32m-> 3057\u001b[0m     results \u001b[38;5;241m=\u001b[39m \u001b[38;5;28;43mself\u001b[39;49m\u001b[38;5;241;43m.\u001b[39;49m\u001b[43mgather\u001b[49m\u001b[43m(\u001b[49m\u001b[43mpacked\u001b[49m\u001b[43m,\u001b[49m\u001b[43m \u001b[49m\u001b[43masynchronous\u001b[49m\u001b[38;5;241;43m=\u001b[39;49m\u001b[43masynchronous\u001b[49m\u001b[43m,\u001b[49m\u001b[43m \u001b[49m\u001b[43mdirect\u001b[49m\u001b[38;5;241;43m=\u001b[39;49m\u001b[43mdirect\u001b[49m\u001b[43m)\u001b[49m\n\u001b[0;32m   3058\u001b[0m \u001b[38;5;28;01mfinally\u001b[39;00m:\n\u001b[0;32m   3059\u001b[0m     \u001b[38;5;28;01mfor\u001b[39;00m f \u001b[38;5;129;01min\u001b[39;00m futures\u001b[38;5;241m.\u001b[39mvalues():\n",
      "File \u001b[1;32m~\\.conda\\envs\\radar\\lib\\site-packages\\distributed\\client.py:2226\u001b[0m, in \u001b[0;36mClient.gather\u001b[1;34m(self, futures, errors, direct, asynchronous)\u001b[0m\n\u001b[0;32m   2224\u001b[0m \u001b[38;5;28;01melse\u001b[39;00m:\n\u001b[0;32m   2225\u001b[0m     local_worker \u001b[38;5;241m=\u001b[39m \u001b[38;5;28;01mNone\u001b[39;00m\n\u001b[1;32m-> 2226\u001b[0m \u001b[38;5;28;01mreturn\u001b[39;00m \u001b[38;5;28;43mself\u001b[39;49m\u001b[38;5;241;43m.\u001b[39;49m\u001b[43msync\u001b[49m\u001b[43m(\u001b[49m\n\u001b[0;32m   2227\u001b[0m \u001b[43m    \u001b[49m\u001b[38;5;28;43mself\u001b[39;49m\u001b[38;5;241;43m.\u001b[39;49m\u001b[43m_gather\u001b[49m\u001b[43m,\u001b[49m\n\u001b[0;32m   2228\u001b[0m \u001b[43m    \u001b[49m\u001b[43mfutures\u001b[49m\u001b[43m,\u001b[49m\n\u001b[0;32m   2229\u001b[0m \u001b[43m    \u001b[49m\u001b[43merrors\u001b[49m\u001b[38;5;241;43m=\u001b[39;49m\u001b[43merrors\u001b[49m\u001b[43m,\u001b[49m\n\u001b[0;32m   2230\u001b[0m \u001b[43m    \u001b[49m\u001b[43mdirect\u001b[49m\u001b[38;5;241;43m=\u001b[39;49m\u001b[43mdirect\u001b[49m\u001b[43m,\u001b[49m\n\u001b[0;32m   2231\u001b[0m \u001b[43m    \u001b[49m\u001b[43mlocal_worker\u001b[49m\u001b[38;5;241;43m=\u001b[39;49m\u001b[43mlocal_worker\u001b[49m\u001b[43m,\u001b[49m\n\u001b[0;32m   2232\u001b[0m \u001b[43m    \u001b[49m\u001b[43masynchronous\u001b[49m\u001b[38;5;241;43m=\u001b[39;49m\u001b[43masynchronous\u001b[49m\u001b[43m,\u001b[49m\n\u001b[0;32m   2233\u001b[0m \u001b[43m\u001b[49m\u001b[43m)\u001b[49m\n",
      "File \u001b[1;32m~\\.conda\\envs\\radar\\lib\\site-packages\\distributed\\utils.py:339\u001b[0m, in \u001b[0;36mSyncMethodMixin.sync\u001b[1;34m(self, func, asynchronous, callback_timeout, *args, **kwargs)\u001b[0m\n\u001b[0;32m    337\u001b[0m     \u001b[38;5;28;01mreturn\u001b[39;00m future\n\u001b[0;32m    338\u001b[0m \u001b[38;5;28;01melse\u001b[39;00m:\n\u001b[1;32m--> 339\u001b[0m     \u001b[38;5;28;01mreturn\u001b[39;00m \u001b[43msync\u001b[49m\u001b[43m(\u001b[49m\n\u001b[0;32m    340\u001b[0m \u001b[43m        \u001b[49m\u001b[38;5;28;43mself\u001b[39;49m\u001b[38;5;241;43m.\u001b[39;49m\u001b[43mloop\u001b[49m\u001b[43m,\u001b[49m\u001b[43m \u001b[49m\u001b[43mfunc\u001b[49m\u001b[43m,\u001b[49m\u001b[43m \u001b[49m\u001b[38;5;241;43m*\u001b[39;49m\u001b[43margs\u001b[49m\u001b[43m,\u001b[49m\u001b[43m \u001b[49m\u001b[43mcallback_timeout\u001b[49m\u001b[38;5;241;43m=\u001b[39;49m\u001b[43mcallback_timeout\u001b[49m\u001b[43m,\u001b[49m\u001b[43m \u001b[49m\u001b[38;5;241;43m*\u001b[39;49m\u001b[38;5;241;43m*\u001b[39;49m\u001b[43mkwargs\u001b[49m\n\u001b[0;32m    341\u001b[0m \u001b[43m    \u001b[49m\u001b[43m)\u001b[49m\n",
      "File \u001b[1;32m~\\.conda\\envs\\radar\\lib\\site-packages\\distributed\\utils.py:402\u001b[0m, in \u001b[0;36msync\u001b[1;34m(loop, func, callback_timeout, *args, **kwargs)\u001b[0m\n\u001b[0;32m    400\u001b[0m \u001b[38;5;28;01melse\u001b[39;00m:\n\u001b[0;32m    401\u001b[0m     \u001b[38;5;28;01mwhile\u001b[39;00m \u001b[38;5;129;01mnot\u001b[39;00m e\u001b[38;5;241m.\u001b[39mis_set():\n\u001b[1;32m--> 402\u001b[0m         \u001b[43mwait\u001b[49m\u001b[43m(\u001b[49m\u001b[38;5;241;43m10\u001b[39;49m\u001b[43m)\u001b[49m\n\u001b[0;32m    404\u001b[0m \u001b[38;5;28;01mif\u001b[39;00m error:\n\u001b[0;32m    405\u001b[0m     typ, exc, tb \u001b[38;5;241m=\u001b[39m error\n",
      "File \u001b[1;32m~\\.conda\\envs\\radar\\lib\\site-packages\\distributed\\utils.py:391\u001b[0m, in \u001b[0;36msync.<locals>.wait\u001b[1;34m(timeout)\u001b[0m\n\u001b[0;32m    389\u001b[0m \u001b[38;5;28;01mdef\u001b[39;00m \u001b[38;5;21mwait\u001b[39m(timeout):\n\u001b[0;32m    390\u001b[0m     \u001b[38;5;28;01mtry\u001b[39;00m:\n\u001b[1;32m--> 391\u001b[0m         \u001b[38;5;28;01mreturn\u001b[39;00m \u001b[43me\u001b[49m\u001b[38;5;241;43m.\u001b[39;49m\u001b[43mwait\u001b[49m\u001b[43m(\u001b[49m\u001b[43mtimeout\u001b[49m\u001b[43m)\u001b[49m\n\u001b[0;32m    392\u001b[0m     \u001b[38;5;28;01mexcept\u001b[39;00m \u001b[38;5;167;01mKeyboardInterrupt\u001b[39;00m:\n\u001b[0;32m    393\u001b[0m         loop\u001b[38;5;241m.\u001b[39madd_callback(cancel)\n",
      "File \u001b[1;32m~\\.conda\\envs\\radar\\lib\\threading.py:558\u001b[0m, in \u001b[0;36mEvent.wait\u001b[1;34m(self, timeout)\u001b[0m\n\u001b[0;32m    556\u001b[0m signaled \u001b[38;5;241m=\u001b[39m \u001b[38;5;28mself\u001b[39m\u001b[38;5;241m.\u001b[39m_flag\n\u001b[0;32m    557\u001b[0m \u001b[38;5;28;01mif\u001b[39;00m \u001b[38;5;129;01mnot\u001b[39;00m signaled:\n\u001b[1;32m--> 558\u001b[0m     signaled \u001b[38;5;241m=\u001b[39m \u001b[38;5;28;43mself\u001b[39;49m\u001b[38;5;241;43m.\u001b[39;49m\u001b[43m_cond\u001b[49m\u001b[38;5;241;43m.\u001b[39;49m\u001b[43mwait\u001b[49m\u001b[43m(\u001b[49m\u001b[43mtimeout\u001b[49m\u001b[43m)\u001b[49m\n\u001b[0;32m    559\u001b[0m \u001b[38;5;28;01mreturn\u001b[39;00m signaled\n",
      "File \u001b[1;32m~\\.conda\\envs\\radar\\lib\\threading.py:306\u001b[0m, in \u001b[0;36mCondition.wait\u001b[1;34m(self, timeout)\u001b[0m\n\u001b[0;32m    304\u001b[0m \u001b[38;5;28;01melse\u001b[39;00m:\n\u001b[0;32m    305\u001b[0m     \u001b[38;5;28;01mif\u001b[39;00m timeout \u001b[38;5;241m>\u001b[39m \u001b[38;5;241m0\u001b[39m:\n\u001b[1;32m--> 306\u001b[0m         gotit \u001b[38;5;241m=\u001b[39m \u001b[43mwaiter\u001b[49m\u001b[38;5;241;43m.\u001b[39;49m\u001b[43macquire\u001b[49m\u001b[43m(\u001b[49m\u001b[38;5;28;43;01mTrue\u001b[39;49;00m\u001b[43m,\u001b[49m\u001b[43m \u001b[49m\u001b[43mtimeout\u001b[49m\u001b[43m)\u001b[49m\n\u001b[0;32m    307\u001b[0m     \u001b[38;5;28;01melse\u001b[39;00m:\n\u001b[0;32m    308\u001b[0m         gotit \u001b[38;5;241m=\u001b[39m waiter\u001b[38;5;241m.\u001b[39macquire(\u001b[38;5;28;01mFalse\u001b[39;00m)\n",
      "\u001b[1;31mKeyboardInterrupt\u001b[0m: "
     ]
    },
    {
     "name": "stderr",
     "output_type": "stream",
     "text": [
      "Task exception was never retrieved\n",
      "future: <Task finished name='Task-149897' coro=<Client._gather.<locals>.wait() done, defined at C:\\Users\\whitep\\.conda\\envs\\radar\\lib\\site-packages\\distributed\\client.py:2054> exception=AllExit()>\n",
      "Traceback (most recent call last):\n",
      "  File \"C:\\Users\\whitep\\.conda\\envs\\radar\\lib\\site-packages\\distributed\\client.py\", line 2063, in wait\n",
      "    raise AllExit()\n",
      "distributed.client.AllExit\n",
      "Task exception was never retrieved\n",
      "future: <Task finished name='Task-149835' coro=<Client._gather.<locals>.wait() done, defined at C:\\Users\\whitep\\.conda\\envs\\radar\\lib\\site-packages\\distributed\\client.py:2054> exception=AllExit()>\n",
      "Traceback (most recent call last):\n",
      "  File \"C:\\Users\\whitep\\.conda\\envs\\radar\\lib\\site-packages\\distributed\\client.py\", line 2063, in wait\n",
      "    raise AllExit()\n",
      "distributed.client.AllExit\n",
      "Task exception was never retrieved\n",
      "future: <Task finished name='Task-149920' coro=<Client._gather.<locals>.wait() done, defined at C:\\Users\\whitep\\.conda\\envs\\radar\\lib\\site-packages\\distributed\\client.py:2054> exception=AllExit()>\n",
      "Traceback (most recent call last):\n",
      "  File \"C:\\Users\\whitep\\.conda\\envs\\radar\\lib\\site-packages\\distributed\\client.py\", line 2063, in wait\n",
      "    raise AllExit()\n",
      "distributed.client.AllExit\n",
      "Task exception was never retrieved\n",
      "future: <Task finished name='Task-149876' coro=<Client._gather.<locals>.wait() done, defined at C:\\Users\\whitep\\.conda\\envs\\radar\\lib\\site-packages\\distributed\\client.py:2054> exception=AllExit()>\n",
      "Traceback (most recent call last):\n",
      "  File \"C:\\Users\\whitep\\.conda\\envs\\radar\\lib\\site-packages\\distributed\\client.py\", line 2063, in wait\n",
      "    raise AllExit()\n",
      "distributed.client.AllExit\n",
      "Task exception was never retrieved\n",
      "future: <Task finished name='Task-149812' coro=<Client._gather.<locals>.wait() done, defined at C:\\Users\\whitep\\.conda\\envs\\radar\\lib\\site-packages\\distributed\\client.py:2054> exception=AllExit()>\n",
      "Traceback (most recent call last):\n",
      "  File \"C:\\Users\\whitep\\.conda\\envs\\radar\\lib\\site-packages\\distributed\\client.py\", line 2063, in wait\n",
      "    raise AllExit()\n",
      "distributed.client.AllExit\n",
      "Task exception was never retrieved\n",
      "future: <Task finished name='Task-149824' coro=<Client._gather.<locals>.wait() done, defined at C:\\Users\\whitep\\.conda\\envs\\radar\\lib\\site-packages\\distributed\\client.py:2054> exception=AllExit()>\n",
      "Traceback (most recent call last):\n",
      "  File \"C:\\Users\\whitep\\.conda\\envs\\radar\\lib\\site-packages\\distributed\\client.py\", line 2063, in wait\n",
      "    raise AllExit()\n",
      "distributed.client.AllExit\n",
      "Task exception was never retrieved\n",
      "future: <Task finished name='Task-149762' coro=<Client._gather.<locals>.wait() done, defined at C:\\Users\\whitep\\.conda\\envs\\radar\\lib\\site-packages\\distributed\\client.py:2054> exception=AllExit()>\n",
      "Traceback (most recent call last):\n",
      "  File \"C:\\Users\\whitep\\.conda\\envs\\radar\\lib\\site-packages\\distributed\\client.py\", line 2063, in wait\n",
      "    raise AllExit()\n",
      "distributed.client.AllExit\n",
      "Task exception was never retrieved\n",
      "future: <Task finished name='Task-149743' coro=<Client._gather.<locals>.wait() done, defined at C:\\Users\\whitep\\.conda\\envs\\radar\\lib\\site-packages\\distributed\\client.py:2054> exception=AllExit()>\n",
      "Traceback (most recent call last):\n",
      "  File \"C:\\Users\\whitep\\.conda\\envs\\radar\\lib\\site-packages\\distributed\\client.py\", line 2063, in wait\n",
      "    raise AllExit()\n",
      "distributed.client.AllExit\n",
      "Task exception was never retrieved\n",
      "future: <Task finished name='Task-149800' coro=<Client._gather.<locals>.wait() done, defined at C:\\Users\\whitep\\.conda\\envs\\radar\\lib\\site-packages\\distributed\\client.py:2054> exception=AllExit()>\n",
      "Traceback (most recent call last):\n",
      "  File \"C:\\Users\\whitep\\.conda\\envs\\radar\\lib\\site-packages\\distributed\\client.py\", line 2063, in wait\n",
      "    raise AllExit()\n",
      "distributed.client.AllExit\n"
     ]
    }
   ],
   "source": [
    "# select mrms 1 gage at a time, find storms\n",
    "nse = []\n",
    "bias = []\n",
    "CC = []\n",
    "month = []\n",
    "gage_lat = []\n",
    "gage_lon = []\n",
    "\n",
    "for i in range(len(coord)):\n",
    "    print('gagecount='+str(i))\n",
    "    latt = lat[i]\n",
    "    lont = lon[i]\n",
    "\n",
    "    m = mrms_2_corrected.sel(longitude=lont,latitude=latt,drop=True)\n",
    "    s = storm_id.sel(longitude=lont,latitude=latt,drop=True)\n",
    "\n",
    "    #m = m.assign({\"storm_id\": s})\n",
    "    #m = m.chunk({'time': '500MB'})\n",
    "\n",
    "    # select time range of gage\n",
    "    gage_times = gage[coord[i]].index\n",
    "    m = m.sel(time=slice(gage_times[0],gage_times[-1]),drop=True)\n",
    "    s = s.sel(time=slice(gage_times[0],gage_times[-1]),drop=True)\n",
    "    # select only values where storm happening\n",
    "    #m = m.where(s>=1,drop=True)\n",
    "\n",
    "    # store storm_id\n",
    "    #storms = m.storm_id.values\n",
    "    storms = s.values\n",
    "    # drop values less than 1\n",
    "    storms = storms[(1 < storms)]\n",
    "    storms = np.\n",
    "    \n",
    "    for j in range(len(storms)):\n",
    "        print('stormcount='+str(j))\n",
    "        # find gage times for each storm\n",
    "        m_storm = m.where(s==storms[j],drop=True)\n",
    "        storm_times = m_storm.time.values\n",
    "        gage_15 = gage[coord[i]][storm_times[0]:storm_times[-1]]['15_int']\n",
    "\n",
    "        # select mrms where gage times exist for particular storm\n",
    "        # if no gage times exist exit loop\n",
    "        mrms_15 = m_storm.unknown.resample(time='1min').asfreq()\n",
    "        mrms_15 = mrms_15.fillna(0)\n",
    "        mrms_15 = (mrms_15.rolling(time=15,min_periods=1).sum())*(60/15)\n",
    "        \n",
    "        nse.append(nse(mrms_15,gage_15))\n",
    "\n",
    "# remove values from memory\n",
    "# %reset_selective -f \"^a$\""
   ]
  },
  {
   "cell_type": "code",
   "execution_count": 69,
   "id": "8ad4debe",
   "metadata": {},
   "outputs": [
    {
     "data": {
      "text/plain": [
       "array([297573.03, 297573.03, 297573.03, ..., 221536.08, 221536.08,\n",
       "       221536.08], dtype=float32)"
      ]
     },
     "execution_count": 69,
     "metadata": {},
     "output_type": "execute_result"
    }
   ],
   "source": [
    "storms"
   ]
  },
  {
   "cell_type": "code",
   "execution_count": 65,
   "id": "aed6d9fb",
   "metadata": {},
   "outputs": [
    {
     "ename": "NameError",
     "evalue": "name 'storm_times' is not defined",
     "output_type": "error",
     "traceback": [
      "\u001b[1;31m---------------------------------------------------------------------------\u001b[0m",
      "\u001b[1;31mNameError\u001b[0m                                 Traceback (most recent call last)",
      "Cell \u001b[1;32mIn [65], line 1\u001b[0m\n\u001b[1;32m----> 1\u001b[0m \u001b[43mstorm_times\u001b[49m\n",
      "\u001b[1;31mNameError\u001b[0m: name 'storm_times' is not defined"
     ]
    }
   ],
   "source": [
    "storm_times"
   ]
  },
  {
   "cell_type": "markdown",
   "id": "326c462d",
   "metadata": {},
   "source": [
    "Step 4 : label each gage event as either good, bad, false pos, miss"
   ]
  },
  {
   "cell_type": "code",
   "execution_count": null,
   "id": "358b5d1a",
   "metadata": {},
   "outputs": [],
   "source": [
    "# seperate dataset for intensity and accum??\n",
    "# set thresholds for error metrics\n",
    "\n",
    "# label\n"
   ]
  },
  {
   "cell_type": "markdown",
   "id": "a4094a25",
   "metadata": {},
   "source": [
    "Step 5 : calculate features for each gage event and export labeled dataset"
   ]
  },
  {
   "cell_type": "markdown",
   "id": "1c5269c9",
   "metadata": {},
   "source": [
    "radar"
   ]
  },
  {
   "cell_type": "code",
   "execution_count": null,
   "id": "d735aa2b",
   "metadata": {},
   "outputs": [],
   "source": [
    "# bring in RQI\n",
    "# open RQI for 2021,2022\n",
    "mrms_RQI_folder = os.path.join(parentDir,\"MRMS\",\"RQI_cat_yr_CO\")\n",
    "RQI = xr.open_dataset(mrms_RQI_folder+'\\\\2022_RQI_CO.grib2',chunks={'time': '500MB'})\n",
    "\n",
    "# get times and gage locations\n",
    "RQI = RQI.sel(time=slice(\"2022-07-01\", \"2022-07-31\"))\n",
    "RQI = RQI.sel(longitude=lon,latitude=lat,drop=True)\n",
    "\n",
    "# change to MST\n",
    "\n",
    "# select only gage locations and storm times\n",
    "\n",
    "# add to database\n"
   ]
  },
  {
   "cell_type": "markdown",
   "id": "3b7dcc83",
   "metadata": {},
   "source": [
    "gage location"
   ]
  },
  {
   "cell_type": "code",
   "execution_count": null,
   "id": "ae932d12",
   "metadata": {},
   "outputs": [],
   "source": [
    "# elevation\n",
    "\n",
    "\n",
    "# slope\n",
    "slope = rxr.open_rasterio('G:\\\\PhoebeRadar\\\\CO_SRTM1arcsec_slope.tif')\n",
    "\n",
    "# lat/lon\n"
   ]
  },
  {
   "cell_type": "markdown",
   "id": "4c2cdbad",
   "metadata": {},
   "source": [
    "storm"
   ]
  },
  {
   "cell_type": "code",
   "execution_count": null,
   "id": "22d8a363",
   "metadata": {},
   "outputs": [],
   "source": [
    "# area\n",
    "\n",
    "# max, mean, median, variance\n",
    "\n",
    "# velocity\n",
    "\n",
    "# duration\n",
    "\n",
    "# month"
   ]
  }
 ],
 "metadata": {
  "kernelspec": {
   "display_name": "Python 3 (ipykernel)",
   "language": "python",
   "name": "python3"
  },
  "language_info": {
   "codemirror_mode": {
    "name": "ipython",
    "version": 3
   },
   "file_extension": ".py",
   "mimetype": "text/x-python",
   "name": "python",
   "nbconvert_exporter": "python",
   "pygments_lexer": "ipython3",
   "version": "3.8.13"
  },
  "vscode": {
   "interpreter": {
    "hash": "d0aecf8d292e5c15734fc4afa3256eebe782d67300dfb49589358bb0d38ef1e5"
   }
  }
 },
 "nbformat": 4,
 "nbformat_minor": 5
}
