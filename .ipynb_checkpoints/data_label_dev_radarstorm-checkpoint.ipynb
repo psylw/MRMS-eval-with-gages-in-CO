{
 "cells": [
  {
   "cell_type": "code",
   "execution_count": 1,
   "id": "63ec1b5d",
   "metadata": {},
   "outputs": [],
   "source": [
    "import os\n",
    "import xarray as xr\n",
    "from dask.distributed import Client\n",
    "import matplotlib.pyplot as plt\n",
    "from os import listdir\n",
    "import rioxarray as rxr\n",
    "import glob"
   ]
  },
  {
   "cell_type": "code",
   "execution_count": 2,
   "id": "c6059eb0",
   "metadata": {},
   "outputs": [],
   "source": [
    "from CPF import *\n",
    "from grizzly import *\n",
    "from coagmet import *\n",
    "from disdrometer import *\n",
    "from mrms_gage import *\n",
    "from usgs_other import *\n",
    "from elevation import *"
   ]
  },
  {
   "cell_type": "code",
   "execution_count": 3,
   "id": "2412c9ad",
   "metadata": {},
   "outputs": [
    {
     "name": "stderr",
     "output_type": "stream",
     "text": [
      "C:\\Users\\whitep\\.conda\\envs\\radar\\lib\\site-packages\\distributed\\node.py:183: UserWarning: Port 8787 is already in use.\n",
      "Perhaps you already have a cluster running?\n",
      "Hosting the HTTP server on port 53216 instead\n",
      "  warnings.warn(\n"
     ]
    }
   ],
   "source": [
    "client = Client()"
   ]
  },
  {
   "cell_type": "code",
   "execution_count": 4,
   "id": "d35e6a6e",
   "metadata": {},
   "outputs": [],
   "source": [
    "# Create a path to the code file\n",
    "codeDir = os.path.dirname(os.path.abspath(os.getcwd()))\n",
    "parentDir = os.path.dirname(codeDir)"
   ]
  },
  {
   "cell_type": "markdown",
   "id": "07618bd0",
   "metadata": {},
   "source": [
    "Step 1: bring in cleaned gage data"
   ]
  },
  {
   "cell_type": "code",
   "execution_count": 5,
   "id": "2db111ad",
   "metadata": {
    "scrolled": false
   },
   "outputs": [
    {
     "name": "stderr",
     "output_type": "stream",
     "text": [
      "Z:\\working code\\mrms_eval\\grizzly.py:23: FutureWarning: In a future version of pandas all arguments of DataFrame.drop except for the argument 'labels' will be keyword-only.\n",
      "  gage = [gage[i].drop(gage[i].columns.difference(['TimeStamp (Local)','15-minute Intensity (mm/h)','Bin Accum (mm)']), 1) for i in range(len(gage_id))]\n",
      "Z:\\working code\\mrms_eval\\usgs_other.py:9: FutureWarning: In a future version of pandas all arguments of DataFrame.drop except for the argument 'labels' will be keyword-only.\n",
      "  gage = [gage[i].drop(gage[i].columns.difference(['time','precip_mm_diff','intensity_15m']), 1) for i in range(len(gage))]\n"
     ]
    }
   ],
   "source": [
    "gage_folder = os.path.join(parentDir,\"precip_gage\")\n",
    "\n",
    "# grizzly\n",
    "grizzly = get_grizzly(gage_folder)\n",
    "# cpf\n",
    "cpf = get_cpf(gage_folder+'\\\\cpf google drive')\n",
    "# disdrometer\n",
    "disdrom = get_disdrom(gage_folder)\n",
    "# coagmet\n",
    "coag = get_coagmet(gage_folder)\n",
    "# other gages\n",
    "other = get_usgs_other(gage_folder)\n",
    "\n",
    "# bring everything together\n",
    "gage = {**grizzly, **cpf, **disdrom, **coag, **other}\n",
    "\n",
    "# get list of keys (lat/lon)\n",
    "coord = [i for i in gage.keys()]"
   ]
  },
  {
   "cell_type": "code",
   "execution_count": 6,
   "id": "8ae71b19",
   "metadata": {},
   "outputs": [],
   "source": [
    "# create list of timedeltas to correct gage time error\n",
    "g = [np.timedelta64(0, 'h') for i in range(len(grizzly))]\n",
    "c = [np.timedelta64(1, 'h') for i in range(len(cpf))]\n",
    "d = [np.timedelta64(0, 'h') for i in range(len(disdrom))]\n",
    "co = [np.timedelta64(1, 'h') for i in range(len(coag))]\n",
    "o = [np.timedelta64(0, 'h') for i in range(len(other))]\n",
    "s= g+c+d+co+o"
   ]
  },
  {
   "cell_type": "markdown",
   "id": "87058d53",
   "metadata": {},
   "source": [
    "Step 2 : bring in MRMS"
   ]
  },
  {
   "cell_type": "markdown",
   "id": "55573eda",
   "metadata": {},
   "source": [
    "# fix float"
   ]
  },
  {
   "cell_type": "code",
   "execution_count": 7,
   "id": "c5b72643",
   "metadata": {},
   "outputs": [],
   "source": [
    "# see mrms_atgage.py for how this dataset was built\n",
    "\n",
    "# 2 min ACCUMULATION for months may thru sep, 2021/2022, in MST\n",
    "m = xr.open_dataset(parentDir+'\\\\'+'mrms_accum_atgage_stormsonly2.nc',chunks={'time': '50MB'})"
   ]
  },
  {
   "cell_type": "code",
   "execution_count": 8,
   "id": "62eb85d5",
   "metadata": {},
   "outputs": [],
   "source": [
    "lat,lon = nearest(m,coord)"
   ]
  },
  {
   "cell_type": "markdown",
   "id": "c4342497",
   "metadata": {},
   "source": [
    "Step 3 : Compare MRMS to gage"
   ]
  },
  {
   "cell_type": "code",
   "execution_count": 9,
   "id": "7f47f536",
   "metadata": {
    "scrolled": true
   },
   "outputs": [
    {
     "name": "stdout",
     "output_type": "stream",
     "text": [
      "gagecount=0\n"
     ]
    },
    {
     "name": "stderr",
     "output_type": "stream",
     "text": [
      "c:\\temp\\3\\ipykernel_7312\\864092118.py:25: FutureWarning: Dropping of nuisance columns in rolling operations is deprecated; in a future version this will raise TypeError. Select only valid columns before calling the operation. Dropped columns were Index(['step', 'valid_time'], dtype='object')\n",
      "  mrms_15 = (mrms_one.rolling(15,min_periods=1).sum())*(60/15)\n"
     ]
    },
    {
     "name": "stdout",
     "output_type": "stream",
     "text": [
      "gagecount=1\n"
     ]
    },
    {
     "name": "stderr",
     "output_type": "stream",
     "text": [
      "c:\\temp\\3\\ipykernel_7312\\864092118.py:25: FutureWarning: Dropping of nuisance columns in rolling operations is deprecated; in a future version this will raise TypeError. Select only valid columns before calling the operation. Dropped columns were Index(['step', 'valid_time'], dtype='object')\n",
      "  mrms_15 = (mrms_one.rolling(15,min_periods=1).sum())*(60/15)\n"
     ]
    },
    {
     "name": "stdout",
     "output_type": "stream",
     "text": [
      "gagecount=2\n"
     ]
    },
    {
     "name": "stderr",
     "output_type": "stream",
     "text": [
      "c:\\temp\\3\\ipykernel_7312\\864092118.py:25: FutureWarning: Dropping of nuisance columns in rolling operations is deprecated; in a future version this will raise TypeError. Select only valid columns before calling the operation. Dropped columns were Index(['step', 'valid_time'], dtype='object')\n",
      "  mrms_15 = (mrms_one.rolling(15,min_periods=1).sum())*(60/15)\n"
     ]
    },
    {
     "name": "stdout",
     "output_type": "stream",
     "text": [
      "gagecount=3\n"
     ]
    },
    {
     "name": "stderr",
     "output_type": "stream",
     "text": [
      "c:\\temp\\3\\ipykernel_7312\\864092118.py:25: FutureWarning: Dropping of nuisance columns in rolling operations is deprecated; in a future version this will raise TypeError. Select only valid columns before calling the operation. Dropped columns were Index(['step', 'valid_time'], dtype='object')\n",
      "  mrms_15 = (mrms_one.rolling(15,min_periods=1).sum())*(60/15)\n"
     ]
    },
    {
     "name": "stdout",
     "output_type": "stream",
     "text": [
      "gagecount=4\n"
     ]
    },
    {
     "name": "stderr",
     "output_type": "stream",
     "text": [
      "c:\\temp\\3\\ipykernel_7312\\864092118.py:25: FutureWarning: Dropping of nuisance columns in rolling operations is deprecated; in a future version this will raise TypeError. Select only valid columns before calling the operation. Dropped columns were Index(['step', 'valid_time'], dtype='object')\n",
      "  mrms_15 = (mrms_one.rolling(15,min_periods=1).sum())*(60/15)\n"
     ]
    },
    {
     "name": "stdout",
     "output_type": "stream",
     "text": [
      "gagecount=5\n"
     ]
    },
    {
     "name": "stderr",
     "output_type": "stream",
     "text": [
      "c:\\temp\\3\\ipykernel_7312\\864092118.py:25: FutureWarning: Dropping of nuisance columns in rolling operations is deprecated; in a future version this will raise TypeError. Select only valid columns before calling the operation. Dropped columns were Index(['step', 'valid_time'], dtype='object')\n",
      "  mrms_15 = (mrms_one.rolling(15,min_periods=1).sum())*(60/15)\n"
     ]
    },
    {
     "name": "stdout",
     "output_type": "stream",
     "text": [
      "gagecount=6\n"
     ]
    },
    {
     "name": "stderr",
     "output_type": "stream",
     "text": [
      "c:\\temp\\3\\ipykernel_7312\\864092118.py:25: FutureWarning: Dropping of nuisance columns in rolling operations is deprecated; in a future version this will raise TypeError. Select only valid columns before calling the operation. Dropped columns were Index(['step', 'valid_time'], dtype='object')\n",
      "  mrms_15 = (mrms_one.rolling(15,min_periods=1).sum())*(60/15)\n"
     ]
    },
    {
     "name": "stdout",
     "output_type": "stream",
     "text": [
      "gagecount=7\n"
     ]
    },
    {
     "name": "stderr",
     "output_type": "stream",
     "text": [
      "c:\\temp\\3\\ipykernel_7312\\864092118.py:25: FutureWarning: Dropping of nuisance columns in rolling operations is deprecated; in a future version this will raise TypeError. Select only valid columns before calling the operation. Dropped columns were Index(['step', 'valid_time'], dtype='object')\n",
      "  mrms_15 = (mrms_one.rolling(15,min_periods=1).sum())*(60/15)\n"
     ]
    },
    {
     "name": "stdout",
     "output_type": "stream",
     "text": [
      "gagecount=8\n"
     ]
    },
    {
     "name": "stderr",
     "output_type": "stream",
     "text": [
      "c:\\temp\\3\\ipykernel_7312\\864092118.py:25: FutureWarning: Dropping of nuisance columns in rolling operations is deprecated; in a future version this will raise TypeError. Select only valid columns before calling the operation. Dropped columns were Index(['step', 'valid_time'], dtype='object')\n",
      "  mrms_15 = (mrms_one.rolling(15,min_periods=1).sum())*(60/15)\n"
     ]
    },
    {
     "name": "stdout",
     "output_type": "stream",
     "text": [
      "gagecount=9\n"
     ]
    },
    {
     "name": "stderr",
     "output_type": "stream",
     "text": [
      "c:\\temp\\3\\ipykernel_7312\\864092118.py:25: FutureWarning: Dropping of nuisance columns in rolling operations is deprecated; in a future version this will raise TypeError. Select only valid columns before calling the operation. Dropped columns were Index(['step', 'valid_time'], dtype='object')\n",
      "  mrms_15 = (mrms_one.rolling(15,min_periods=1).sum())*(60/15)\n"
     ]
    },
    {
     "name": "stdout",
     "output_type": "stream",
     "text": [
      "gagecount=10\n"
     ]
    },
    {
     "name": "stderr",
     "output_type": "stream",
     "text": [
      "c:\\temp\\3\\ipykernel_7312\\864092118.py:25: FutureWarning: Dropping of nuisance columns in rolling operations is deprecated; in a future version this will raise TypeError. Select only valid columns before calling the operation. Dropped columns were Index(['step', 'valid_time'], dtype='object')\n",
      "  mrms_15 = (mrms_one.rolling(15,min_periods=1).sum())*(60/15)\n"
     ]
    },
    {
     "name": "stdout",
     "output_type": "stream",
     "text": [
      "gagecount=11\n"
     ]
    },
    {
     "name": "stderr",
     "output_type": "stream",
     "text": [
      "c:\\temp\\3\\ipykernel_7312\\864092118.py:25: FutureWarning: Dropping of nuisance columns in rolling operations is deprecated; in a future version this will raise TypeError. Select only valid columns before calling the operation. Dropped columns were Index(['step', 'valid_time'], dtype='object')\n",
      "  mrms_15 = (mrms_one.rolling(15,min_periods=1).sum())*(60/15)\n"
     ]
    },
    {
     "name": "stdout",
     "output_type": "stream",
     "text": [
      "gagecount=12\n"
     ]
    },
    {
     "name": "stderr",
     "output_type": "stream",
     "text": [
      "c:\\temp\\3\\ipykernel_7312\\864092118.py:25: FutureWarning: Dropping of nuisance columns in rolling operations is deprecated; in a future version this will raise TypeError. Select only valid columns before calling the operation. Dropped columns were Index(['step', 'valid_time'], dtype='object')\n",
      "  mrms_15 = (mrms_one.rolling(15,min_periods=1).sum())*(60/15)\n"
     ]
    },
    {
     "name": "stdout",
     "output_type": "stream",
     "text": [
      "gagecount=13\n"
     ]
    },
    {
     "name": "stderr",
     "output_type": "stream",
     "text": [
      "c:\\temp\\3\\ipykernel_7312\\864092118.py:25: FutureWarning: Dropping of nuisance columns in rolling operations is deprecated; in a future version this will raise TypeError. Select only valid columns before calling the operation. Dropped columns were Index(['step', 'valid_time'], dtype='object')\n",
      "  mrms_15 = (mrms_one.rolling(15,min_periods=1).sum())*(60/15)\n"
     ]
    },
    {
     "name": "stdout",
     "output_type": "stream",
     "text": [
      "gagecount=14\n"
     ]
    },
    {
     "name": "stderr",
     "output_type": "stream",
     "text": [
      "c:\\temp\\3\\ipykernel_7312\\864092118.py:25: FutureWarning: Dropping of nuisance columns in rolling operations is deprecated; in a future version this will raise TypeError. Select only valid columns before calling the operation. Dropped columns were Index(['step', 'valid_time'], dtype='object')\n",
      "  mrms_15 = (mrms_one.rolling(15,min_periods=1).sum())*(60/15)\n"
     ]
    },
    {
     "name": "stdout",
     "output_type": "stream",
     "text": [
      "gagecount=15\n"
     ]
    },
    {
     "name": "stderr",
     "output_type": "stream",
     "text": [
      "c:\\temp\\3\\ipykernel_7312\\864092118.py:25: FutureWarning: Dropping of nuisance columns in rolling operations is deprecated; in a future version this will raise TypeError. Select only valid columns before calling the operation. Dropped columns were Index(['step', 'valid_time'], dtype='object')\n",
      "  mrms_15 = (mrms_one.rolling(15,min_periods=1).sum())*(60/15)\n"
     ]
    },
    {
     "name": "stdout",
     "output_type": "stream",
     "text": [
      "gagecount=16\n"
     ]
    },
    {
     "name": "stderr",
     "output_type": "stream",
     "text": [
      "c:\\temp\\3\\ipykernel_7312\\864092118.py:25: FutureWarning: Dropping of nuisance columns in rolling operations is deprecated; in a future version this will raise TypeError. Select only valid columns before calling the operation. Dropped columns were Index(['step', 'valid_time'], dtype='object')\n",
      "  mrms_15 = (mrms_one.rolling(15,min_periods=1).sum())*(60/15)\n"
     ]
    },
    {
     "name": "stdout",
     "output_type": "stream",
     "text": [
      "gagecount=17\n"
     ]
    },
    {
     "name": "stderr",
     "output_type": "stream",
     "text": [
      "c:\\temp\\3\\ipykernel_7312\\864092118.py:25: FutureWarning: Dropping of nuisance columns in rolling operations is deprecated; in a future version this will raise TypeError. Select only valid columns before calling the operation. Dropped columns were Index(['step', 'valid_time'], dtype='object')\n",
      "  mrms_15 = (mrms_one.rolling(15,min_periods=1).sum())*(60/15)\n"
     ]
    },
    {
     "name": "stdout",
     "output_type": "stream",
     "text": [
      "gagecount=18\n"
     ]
    },
    {
     "name": "stderr",
     "output_type": "stream",
     "text": [
      "c:\\temp\\3\\ipykernel_7312\\864092118.py:25: FutureWarning: Dropping of nuisance columns in rolling operations is deprecated; in a future version this will raise TypeError. Select only valid columns before calling the operation. Dropped columns were Index(['step', 'valid_time'], dtype='object')\n",
      "  mrms_15 = (mrms_one.rolling(15,min_periods=1).sum())*(60/15)\n"
     ]
    },
    {
     "name": "stdout",
     "output_type": "stream",
     "text": [
      "gagecount=19\n"
     ]
    },
    {
     "name": "stderr",
     "output_type": "stream",
     "text": [
      "c:\\temp\\3\\ipykernel_7312\\864092118.py:25: FutureWarning: Dropping of nuisance columns in rolling operations is deprecated; in a future version this will raise TypeError. Select only valid columns before calling the operation. Dropped columns were Index(['step', 'valid_time'], dtype='object')\n",
      "  mrms_15 = (mrms_one.rolling(15,min_periods=1).sum())*(60/15)\n"
     ]
    },
    {
     "name": "stdout",
     "output_type": "stream",
     "text": [
      "gagecount=20\n"
     ]
    },
    {
     "name": "stderr",
     "output_type": "stream",
     "text": [
      "c:\\temp\\3\\ipykernel_7312\\864092118.py:25: FutureWarning: Dropping of nuisance columns in rolling operations is deprecated; in a future version this will raise TypeError. Select only valid columns before calling the operation. Dropped columns were Index(['step', 'valid_time'], dtype='object')\n",
      "  mrms_15 = (mrms_one.rolling(15,min_periods=1).sum())*(60/15)\n"
     ]
    },
    {
     "name": "stdout",
     "output_type": "stream",
     "text": [
      "gagecount=21\n"
     ]
    },
    {
     "name": "stderr",
     "output_type": "stream",
     "text": [
      "c:\\temp\\3\\ipykernel_7312\\864092118.py:25: FutureWarning: Dropping of nuisance columns in rolling operations is deprecated; in a future version this will raise TypeError. Select only valid columns before calling the operation. Dropped columns were Index(['step', 'valid_time'], dtype='object')\n",
      "  mrms_15 = (mrms_one.rolling(15,min_periods=1).sum())*(60/15)\n"
     ]
    },
    {
     "name": "stdout",
     "output_type": "stream",
     "text": [
      "gagecount=22\n"
     ]
    },
    {
     "name": "stderr",
     "output_type": "stream",
     "text": [
      "c:\\temp\\3\\ipykernel_7312\\864092118.py:25: FutureWarning: Dropping of nuisance columns in rolling operations is deprecated; in a future version this will raise TypeError. Select only valid columns before calling the operation. Dropped columns were Index(['step', 'valid_time'], dtype='object')\n",
      "  mrms_15 = (mrms_one.rolling(15,min_periods=1).sum())*(60/15)\n"
     ]
    },
    {
     "name": "stdout",
     "output_type": "stream",
     "text": [
      "gagecount=23\n"
     ]
    },
    {
     "name": "stderr",
     "output_type": "stream",
     "text": [
      "c:\\temp\\3\\ipykernel_7312\\864092118.py:25: FutureWarning: Dropping of nuisance columns in rolling operations is deprecated; in a future version this will raise TypeError. Select only valid columns before calling the operation. Dropped columns were Index(['step', 'valid_time'], dtype='object')\n",
      "  mrms_15 = (mrms_one.rolling(15,min_periods=1).sum())*(60/15)\n"
     ]
    },
    {
     "name": "stdout",
     "output_type": "stream",
     "text": [
      "gagecount=24\n"
     ]
    },
    {
     "name": "stderr",
     "output_type": "stream",
     "text": [
      "c:\\temp\\3\\ipykernel_7312\\864092118.py:25: FutureWarning: Dropping of nuisance columns in rolling operations is deprecated; in a future version this will raise TypeError. Select only valid columns before calling the operation. Dropped columns were Index(['step', 'valid_time'], dtype='object')\n",
      "  mrms_15 = (mrms_one.rolling(15,min_periods=1).sum())*(60/15)\n"
     ]
    },
    {
     "name": "stdout",
     "output_type": "stream",
     "text": [
      "gagecount=25\n"
     ]
    },
    {
     "name": "stderr",
     "output_type": "stream",
     "text": [
      "c:\\temp\\3\\ipykernel_7312\\864092118.py:25: FutureWarning: Dropping of nuisance columns in rolling operations is deprecated; in a future version this will raise TypeError. Select only valid columns before calling the operation. Dropped columns were Index(['step', 'valid_time'], dtype='object')\n",
      "  mrms_15 = (mrms_one.rolling(15,min_periods=1).sum())*(60/15)\n"
     ]
    },
    {
     "name": "stdout",
     "output_type": "stream",
     "text": [
      "gagecount=26\n"
     ]
    },
    {
     "name": "stderr",
     "output_type": "stream",
     "text": [
      "c:\\temp\\3\\ipykernel_7312\\864092118.py:25: FutureWarning: Dropping of nuisance columns in rolling operations is deprecated; in a future version this will raise TypeError. Select only valid columns before calling the operation. Dropped columns were Index(['step', 'valid_time'], dtype='object')\n",
      "  mrms_15 = (mrms_one.rolling(15,min_periods=1).sum())*(60/15)\n"
     ]
    },
    {
     "name": "stdout",
     "output_type": "stream",
     "text": [
      "gagecount=27\n"
     ]
    },
    {
     "name": "stderr",
     "output_type": "stream",
     "text": [
      "c:\\temp\\3\\ipykernel_7312\\864092118.py:25: FutureWarning: Dropping of nuisance columns in rolling operations is deprecated; in a future version this will raise TypeError. Select only valid columns before calling the operation. Dropped columns were Index(['step', 'valid_time'], dtype='object')\n",
      "  mrms_15 = (mrms_one.rolling(15,min_periods=1).sum())*(60/15)\n"
     ]
    },
    {
     "name": "stdout",
     "output_type": "stream",
     "text": [
      "gagecount=28\n"
     ]
    },
    {
     "name": "stderr",
     "output_type": "stream",
     "text": [
      "c:\\temp\\3\\ipykernel_7312\\864092118.py:25: FutureWarning: Dropping of nuisance columns in rolling operations is deprecated; in a future version this will raise TypeError. Select only valid columns before calling the operation. Dropped columns were Index(['step', 'valid_time'], dtype='object')\n",
      "  mrms_15 = (mrms_one.rolling(15,min_periods=1).sum())*(60/15)\n"
     ]
    },
    {
     "name": "stdout",
     "output_type": "stream",
     "text": [
      "gagecount=29\n"
     ]
    },
    {
     "name": "stderr",
     "output_type": "stream",
     "text": [
      "c:\\temp\\3\\ipykernel_7312\\864092118.py:25: FutureWarning: Dropping of nuisance columns in rolling operations is deprecated; in a future version this will raise TypeError. Select only valid columns before calling the operation. Dropped columns were Index(['step', 'valid_time'], dtype='object')\n",
      "  mrms_15 = (mrms_one.rolling(15,min_periods=1).sum())*(60/15)\n"
     ]
    },
    {
     "name": "stdout",
     "output_type": "stream",
     "text": [
      "gagecount=30\n"
     ]
    },
    {
     "name": "stderr",
     "output_type": "stream",
     "text": [
      "c:\\temp\\3\\ipykernel_7312\\864092118.py:25: FutureWarning: Dropping of nuisance columns in rolling operations is deprecated; in a future version this will raise TypeError. Select only valid columns before calling the operation. Dropped columns were Index(['step', 'valid_time'], dtype='object')\n",
      "  mrms_15 = (mrms_one.rolling(15,min_periods=1).sum())*(60/15)\n"
     ]
    },
    {
     "name": "stdout",
     "output_type": "stream",
     "text": [
      "gagecount=31\n"
     ]
    },
    {
     "name": "stderr",
     "output_type": "stream",
     "text": [
      "c:\\temp\\3\\ipykernel_7312\\864092118.py:25: FutureWarning: Dropping of nuisance columns in rolling operations is deprecated; in a future version this will raise TypeError. Select only valid columns before calling the operation. Dropped columns were Index(['step', 'valid_time'], dtype='object')\n",
      "  mrms_15 = (mrms_one.rolling(15,min_periods=1).sum())*(60/15)\n"
     ]
    },
    {
     "name": "stdout",
     "output_type": "stream",
     "text": [
      "gagecount=32\n"
     ]
    },
    {
     "name": "stderr",
     "output_type": "stream",
     "text": [
      "c:\\temp\\3\\ipykernel_7312\\864092118.py:25: FutureWarning: Dropping of nuisance columns in rolling operations is deprecated; in a future version this will raise TypeError. Select only valid columns before calling the operation. Dropped columns were Index(['step', 'valid_time'], dtype='object')\n",
      "  mrms_15 = (mrms_one.rolling(15,min_periods=1).sum())*(60/15)\n"
     ]
    },
    {
     "name": "stdout",
     "output_type": "stream",
     "text": [
      "gagecount=33\n"
     ]
    },
    {
     "name": "stderr",
     "output_type": "stream",
     "text": [
      "c:\\temp\\3\\ipykernel_7312\\864092118.py:25: FutureWarning: Dropping of nuisance columns in rolling operations is deprecated; in a future version this will raise TypeError. Select only valid columns before calling the operation. Dropped columns were Index(['step', 'valid_time'], dtype='object')\n",
      "  mrms_15 = (mrms_one.rolling(15,min_periods=1).sum())*(60/15)\n"
     ]
    },
    {
     "name": "stdout",
     "output_type": "stream",
     "text": [
      "gagecount=34\n"
     ]
    },
    {
     "name": "stderr",
     "output_type": "stream",
     "text": [
      "c:\\temp\\3\\ipykernel_7312\\864092118.py:25: FutureWarning: Dropping of nuisance columns in rolling operations is deprecated; in a future version this will raise TypeError. Select only valid columns before calling the operation. Dropped columns were Index(['step', 'valid_time'], dtype='object')\n",
      "  mrms_15 = (mrms_one.rolling(15,min_periods=1).sum())*(60/15)\n"
     ]
    },
    {
     "name": "stdout",
     "output_type": "stream",
     "text": [
      "gagecount=35\n"
     ]
    },
    {
     "name": "stderr",
     "output_type": "stream",
     "text": [
      "c:\\temp\\3\\ipykernel_7312\\864092118.py:25: FutureWarning: Dropping of nuisance columns in rolling operations is deprecated; in a future version this will raise TypeError. Select only valid columns before calling the operation. Dropped columns were Index(['step', 'valid_time'], dtype='object')\n",
      "  mrms_15 = (mrms_one.rolling(15,min_periods=1).sum())*(60/15)\n"
     ]
    },
    {
     "name": "stdout",
     "output_type": "stream",
     "text": [
      "gagecount=36\n"
     ]
    },
    {
     "name": "stderr",
     "output_type": "stream",
     "text": [
      "c:\\temp\\3\\ipykernel_7312\\864092118.py:25: FutureWarning: Dropping of nuisance columns in rolling operations is deprecated; in a future version this will raise TypeError. Select only valid columns before calling the operation. Dropped columns were Index(['step', 'valid_time'], dtype='object')\n",
      "  mrms_15 = (mrms_one.rolling(15,min_periods=1).sum())*(60/15)\n"
     ]
    },
    {
     "name": "stdout",
     "output_type": "stream",
     "text": [
      "gagecount=37\n"
     ]
    },
    {
     "name": "stderr",
     "output_type": "stream",
     "text": [
      "c:\\temp\\3\\ipykernel_7312\\864092118.py:25: FutureWarning: Dropping of nuisance columns in rolling operations is deprecated; in a future version this will raise TypeError. Select only valid columns before calling the operation. Dropped columns were Index(['step', 'valid_time'], dtype='object')\n",
      "  mrms_15 = (mrms_one.rolling(15,min_periods=1).sum())*(60/15)\n"
     ]
    },
    {
     "name": "stdout",
     "output_type": "stream",
     "text": [
      "gagecount=38\n"
     ]
    },
    {
     "name": "stderr",
     "output_type": "stream",
     "text": [
      "c:\\temp\\3\\ipykernel_7312\\864092118.py:25: FutureWarning: Dropping of nuisance columns in rolling operations is deprecated; in a future version this will raise TypeError. Select only valid columns before calling the operation. Dropped columns were Index(['step', 'valid_time'], dtype='object')\n",
      "  mrms_15 = (mrms_one.rolling(15,min_periods=1).sum())*(60/15)\n"
     ]
    },
    {
     "name": "stdout",
     "output_type": "stream",
     "text": [
      "gagecount=39\n"
     ]
    },
    {
     "name": "stderr",
     "output_type": "stream",
     "text": [
      "c:\\temp\\3\\ipykernel_7312\\864092118.py:25: FutureWarning: Dropping of nuisance columns in rolling operations is deprecated; in a future version this will raise TypeError. Select only valid columns before calling the operation. Dropped columns were Index(['step', 'valid_time'], dtype='object')\n",
      "  mrms_15 = (mrms_one.rolling(15,min_periods=1).sum())*(60/15)\n"
     ]
    },
    {
     "name": "stdout",
     "output_type": "stream",
     "text": [
      "gagecount=40\n"
     ]
    },
    {
     "name": "stderr",
     "output_type": "stream",
     "text": [
      "c:\\temp\\3\\ipykernel_7312\\864092118.py:25: FutureWarning: Dropping of nuisance columns in rolling operations is deprecated; in a future version this will raise TypeError. Select only valid columns before calling the operation. Dropped columns were Index(['step', 'valid_time'], dtype='object')\n",
      "  mrms_15 = (mrms_one.rolling(15,min_periods=1).sum())*(60/15)\n"
     ]
    },
    {
     "name": "stdout",
     "output_type": "stream",
     "text": [
      "gagecount=41\n"
     ]
    },
    {
     "name": "stderr",
     "output_type": "stream",
     "text": [
      "c:\\temp\\3\\ipykernel_7312\\864092118.py:25: FutureWarning: Dropping of nuisance columns in rolling operations is deprecated; in a future version this will raise TypeError. Select only valid columns before calling the operation. Dropped columns were Index(['step', 'valid_time'], dtype='object')\n",
      "  mrms_15 = (mrms_one.rolling(15,min_periods=1).sum())*(60/15)\n"
     ]
    },
    {
     "name": "stdout",
     "output_type": "stream",
     "text": [
      "gagecount=42\n"
     ]
    },
    {
     "name": "stderr",
     "output_type": "stream",
     "text": [
      "c:\\temp\\3\\ipykernel_7312\\864092118.py:25: FutureWarning: Dropping of nuisance columns in rolling operations is deprecated; in a future version this will raise TypeError. Select only valid columns before calling the operation. Dropped columns were Index(['step', 'valid_time'], dtype='object')\n",
      "  mrms_15 = (mrms_one.rolling(15,min_periods=1).sum())*(60/15)\n"
     ]
    },
    {
     "name": "stdout",
     "output_type": "stream",
     "text": [
      "gagecount=43\n"
     ]
    },
    {
     "name": "stderr",
     "output_type": "stream",
     "text": [
      "c:\\temp\\3\\ipykernel_7312\\864092118.py:25: FutureWarning: Dropping of nuisance columns in rolling operations is deprecated; in a future version this will raise TypeError. Select only valid columns before calling the operation. Dropped columns were Index(['step', 'valid_time'], dtype='object')\n",
      "  mrms_15 = (mrms_one.rolling(15,min_periods=1).sum())*(60/15)\n"
     ]
    },
    {
     "name": "stdout",
     "output_type": "stream",
     "text": [
      "gagecount=44\n"
     ]
    },
    {
     "name": "stderr",
     "output_type": "stream",
     "text": [
      "c:\\temp\\3\\ipykernel_7312\\864092118.py:25: FutureWarning: Dropping of nuisance columns in rolling operations is deprecated; in a future version this will raise TypeError. Select only valid columns before calling the operation. Dropped columns were Index(['step', 'valid_time'], dtype='object')\n",
      "  mrms_15 = (mrms_one.rolling(15,min_periods=1).sum())*(60/15)\n"
     ]
    },
    {
     "name": "stdout",
     "output_type": "stream",
     "text": [
      "gagecount=45\n"
     ]
    },
    {
     "name": "stderr",
     "output_type": "stream",
     "text": [
      "c:\\temp\\3\\ipykernel_7312\\864092118.py:25: FutureWarning: Dropping of nuisance columns in rolling operations is deprecated; in a future version this will raise TypeError. Select only valid columns before calling the operation. Dropped columns were Index(['step', 'valid_time'], dtype='object')\n",
      "  mrms_15 = (mrms_one.rolling(15,min_periods=1).sum())*(60/15)\n"
     ]
    },
    {
     "name": "stdout",
     "output_type": "stream",
     "text": [
      "gagecount=46\n"
     ]
    },
    {
     "name": "stderr",
     "output_type": "stream",
     "text": [
      "c:\\temp\\3\\ipykernel_7312\\864092118.py:25: FutureWarning: Dropping of nuisance columns in rolling operations is deprecated; in a future version this will raise TypeError. Select only valid columns before calling the operation. Dropped columns were Index(['step', 'valid_time'], dtype='object')\n",
      "  mrms_15 = (mrms_one.rolling(15,min_periods=1).sum())*(60/15)\n"
     ]
    },
    {
     "name": "stdout",
     "output_type": "stream",
     "text": [
      "gagecount=47\n"
     ]
    },
    {
     "name": "stderr",
     "output_type": "stream",
     "text": [
      "c:\\temp\\3\\ipykernel_7312\\864092118.py:25: FutureWarning: Dropping of nuisance columns in rolling operations is deprecated; in a future version this will raise TypeError. Select only valid columns before calling the operation. Dropped columns were Index(['step', 'valid_time'], dtype='object')\n",
      "  mrms_15 = (mrms_one.rolling(15,min_periods=1).sum())*(60/15)\n"
     ]
    },
    {
     "name": "stdout",
     "output_type": "stream",
     "text": [
      "gagecount=48\n"
     ]
    },
    {
     "name": "stderr",
     "output_type": "stream",
     "text": [
      "c:\\temp\\3\\ipykernel_7312\\864092118.py:25: FutureWarning: Dropping of nuisance columns in rolling operations is deprecated; in a future version this will raise TypeError. Select only valid columns before calling the operation. Dropped columns were Index(['step', 'valid_time'], dtype='object')\n",
      "  mrms_15 = (mrms_one.rolling(15,min_periods=1).sum())*(60/15)\n"
     ]
    },
    {
     "name": "stdout",
     "output_type": "stream",
     "text": [
      "gagecount=49\n"
     ]
    },
    {
     "name": "stderr",
     "output_type": "stream",
     "text": [
      "c:\\temp\\3\\ipykernel_7312\\864092118.py:25: FutureWarning: Dropping of nuisance columns in rolling operations is deprecated; in a future version this will raise TypeError. Select only valid columns before calling the operation. Dropped columns were Index(['step', 'valid_time'], dtype='object')\n",
      "  mrms_15 = (mrms_one.rolling(15,min_periods=1).sum())*(60/15)\n"
     ]
    },
    {
     "name": "stdout",
     "output_type": "stream",
     "text": [
      "gagecount=50\n"
     ]
    },
    {
     "name": "stderr",
     "output_type": "stream",
     "text": [
      "c:\\temp\\3\\ipykernel_7312\\864092118.py:25: FutureWarning: Dropping of nuisance columns in rolling operations is deprecated; in a future version this will raise TypeError. Select only valid columns before calling the operation. Dropped columns were Index(['step', 'valid_time'], dtype='object')\n",
      "  mrms_15 = (mrms_one.rolling(15,min_periods=1).sum())*(60/15)\n"
     ]
    },
    {
     "name": "stdout",
     "output_type": "stream",
     "text": [
      "gagecount=51\n"
     ]
    },
    {
     "name": "stderr",
     "output_type": "stream",
     "text": [
      "c:\\temp\\3\\ipykernel_7312\\864092118.py:25: FutureWarning: Dropping of nuisance columns in rolling operations is deprecated; in a future version this will raise TypeError. Select only valid columns before calling the operation. Dropped columns were Index(['step', 'valid_time'], dtype='object')\n",
      "  mrms_15 = (mrms_one.rolling(15,min_periods=1).sum())*(60/15)\n"
     ]
    },
    {
     "name": "stdout",
     "output_type": "stream",
     "text": [
      "gagecount=52\n"
     ]
    },
    {
     "name": "stderr",
     "output_type": "stream",
     "text": [
      "c:\\temp\\3\\ipykernel_7312\\864092118.py:25: FutureWarning: Dropping of nuisance columns in rolling operations is deprecated; in a future version this will raise TypeError. Select only valid columns before calling the operation. Dropped columns were Index(['step', 'valid_time'], dtype='object')\n",
      "  mrms_15 = (mrms_one.rolling(15,min_periods=1).sum())*(60/15)\n"
     ]
    },
    {
     "name": "stdout",
     "output_type": "stream",
     "text": [
      "gagecount=53\n"
     ]
    },
    {
     "name": "stderr",
     "output_type": "stream",
     "text": [
      "c:\\temp\\3\\ipykernel_7312\\864092118.py:25: FutureWarning: Dropping of nuisance columns in rolling operations is deprecated; in a future version this will raise TypeError. Select only valid columns before calling the operation. Dropped columns were Index(['step', 'valid_time'], dtype='object')\n",
      "  mrms_15 = (mrms_one.rolling(15,min_periods=1).sum())*(60/15)\n"
     ]
    },
    {
     "name": "stdout",
     "output_type": "stream",
     "text": [
      "gagecount=54\n"
     ]
    },
    {
     "name": "stderr",
     "output_type": "stream",
     "text": [
      "c:\\temp\\3\\ipykernel_7312\\864092118.py:25: FutureWarning: Dropping of nuisance columns in rolling operations is deprecated; in a future version this will raise TypeError. Select only valid columns before calling the operation. Dropped columns were Index(['step', 'valid_time'], dtype='object')\n",
      "  mrms_15 = (mrms_one.rolling(15,min_periods=1).sum())*(60/15)\n"
     ]
    },
    {
     "name": "stdout",
     "output_type": "stream",
     "text": [
      "gagecount=55\n"
     ]
    },
    {
     "name": "stderr",
     "output_type": "stream",
     "text": [
      "c:\\temp\\3\\ipykernel_7312\\864092118.py:25: FutureWarning: Dropping of nuisance columns in rolling operations is deprecated; in a future version this will raise TypeError. Select only valid columns before calling the operation. Dropped columns were Index(['step', 'valid_time'], dtype='object')\n",
      "  mrms_15 = (mrms_one.rolling(15,min_periods=1).sum())*(60/15)\n"
     ]
    },
    {
     "name": "stdout",
     "output_type": "stream",
     "text": [
      "gagecount=56\n"
     ]
    },
    {
     "name": "stderr",
     "output_type": "stream",
     "text": [
      "c:\\temp\\3\\ipykernel_7312\\864092118.py:25: FutureWarning: Dropping of nuisance columns in rolling operations is deprecated; in a future version this will raise TypeError. Select only valid columns before calling the operation. Dropped columns were Index(['step', 'valid_time'], dtype='object')\n",
      "  mrms_15 = (mrms_one.rolling(15,min_periods=1).sum())*(60/15)\n"
     ]
    },
    {
     "name": "stdout",
     "output_type": "stream",
     "text": [
      "gagecount=57\n"
     ]
    },
    {
     "name": "stderr",
     "output_type": "stream",
     "text": [
      "c:\\temp\\3\\ipykernel_7312\\864092118.py:25: FutureWarning: Dropping of nuisance columns in rolling operations is deprecated; in a future version this will raise TypeError. Select only valid columns before calling the operation. Dropped columns were Index(['step', 'valid_time'], dtype='object')\n",
      "  mrms_15 = (mrms_one.rolling(15,min_periods=1).sum())*(60/15)\n"
     ]
    },
    {
     "name": "stdout",
     "output_type": "stream",
     "text": [
      "gagecount=58\n"
     ]
    },
    {
     "name": "stderr",
     "output_type": "stream",
     "text": [
      "c:\\temp\\3\\ipykernel_7312\\864092118.py:25: FutureWarning: Dropping of nuisance columns in rolling operations is deprecated; in a future version this will raise TypeError. Select only valid columns before calling the operation. Dropped columns were Index(['step', 'valid_time'], dtype='object')\n",
      "  mrms_15 = (mrms_one.rolling(15,min_periods=1).sum())*(60/15)\n"
     ]
    },
    {
     "name": "stdout",
     "output_type": "stream",
     "text": [
      "gagecount=59\n"
     ]
    },
    {
     "name": "stderr",
     "output_type": "stream",
     "text": [
      "c:\\temp\\3\\ipykernel_7312\\864092118.py:25: FutureWarning: Dropping of nuisance columns in rolling operations is deprecated; in a future version this will raise TypeError. Select only valid columns before calling the operation. Dropped columns were Index(['step', 'valid_time'], dtype='object')\n",
      "  mrms_15 = (mrms_one.rolling(15,min_periods=1).sum())*(60/15)\n"
     ]
    },
    {
     "name": "stdout",
     "output_type": "stream",
     "text": [
      "gagecount=60\n"
     ]
    },
    {
     "name": "stderr",
     "output_type": "stream",
     "text": [
      "c:\\temp\\3\\ipykernel_7312\\864092118.py:25: FutureWarning: Dropping of nuisance columns in rolling operations is deprecated; in a future version this will raise TypeError. Select only valid columns before calling the operation. Dropped columns were Index(['step', 'valid_time'], dtype='object')\n",
      "  mrms_15 = (mrms_one.rolling(15,min_periods=1).sum())*(60/15)\n"
     ]
    },
    {
     "name": "stdout",
     "output_type": "stream",
     "text": [
      "gagecount=61\n"
     ]
    },
    {
     "name": "stderr",
     "output_type": "stream",
     "text": [
      "c:\\temp\\3\\ipykernel_7312\\864092118.py:25: FutureWarning: Dropping of nuisance columns in rolling operations is deprecated; in a future version this will raise TypeError. Select only valid columns before calling the operation. Dropped columns were Index(['step', 'valid_time'], dtype='object')\n",
      "  mrms_15 = (mrms_one.rolling(15,min_periods=1).sum())*(60/15)\n"
     ]
    },
    {
     "name": "stdout",
     "output_type": "stream",
     "text": [
      "gagecount=62\n"
     ]
    },
    {
     "name": "stderr",
     "output_type": "stream",
     "text": [
      "c:\\temp\\3\\ipykernel_7312\\864092118.py:25: FutureWarning: Dropping of nuisance columns in rolling operations is deprecated; in a future version this will raise TypeError. Select only valid columns before calling the operation. Dropped columns were Index(['step', 'valid_time'], dtype='object')\n",
      "  mrms_15 = (mrms_one.rolling(15,min_periods=1).sum())*(60/15)\n"
     ]
    },
    {
     "name": "stdout",
     "output_type": "stream",
     "text": [
      "gagecount=63\n"
     ]
    },
    {
     "name": "stderr",
     "output_type": "stream",
     "text": [
      "c:\\temp\\3\\ipykernel_7312\\864092118.py:25: FutureWarning: Dropping of nuisance columns in rolling operations is deprecated; in a future version this will raise TypeError. Select only valid columns before calling the operation. Dropped columns were Index(['step', 'valid_time'], dtype='object')\n",
      "  mrms_15 = (mrms_one.rolling(15,min_periods=1).sum())*(60/15)\n"
     ]
    },
    {
     "name": "stdout",
     "output_type": "stream",
     "text": [
      "gagecount=64\n"
     ]
    },
    {
     "name": "stderr",
     "output_type": "stream",
     "text": [
      "c:\\temp\\3\\ipykernel_7312\\864092118.py:25: FutureWarning: Dropping of nuisance columns in rolling operations is deprecated; in a future version this will raise TypeError. Select only valid columns before calling the operation. Dropped columns were Index(['step', 'valid_time'], dtype='object')\n",
      "  mrms_15 = (mrms_one.rolling(15,min_periods=1).sum())*(60/15)\n"
     ]
    },
    {
     "name": "stdout",
     "output_type": "stream",
     "text": [
      "gagecount=65\n"
     ]
    },
    {
     "name": "stderr",
     "output_type": "stream",
     "text": [
      "c:\\temp\\3\\ipykernel_7312\\864092118.py:25: FutureWarning: Dropping of nuisance columns in rolling operations is deprecated; in a future version this will raise TypeError. Select only valid columns before calling the operation. Dropped columns were Index(['step', 'valid_time'], dtype='object')\n",
      "  mrms_15 = (mrms_one.rolling(15,min_periods=1).sum())*(60/15)\n"
     ]
    },
    {
     "name": "stdout",
     "output_type": "stream",
     "text": [
      "gagecount=66\n"
     ]
    },
    {
     "name": "stderr",
     "output_type": "stream",
     "text": [
      "c:\\temp\\3\\ipykernel_7312\\864092118.py:25: FutureWarning: Dropping of nuisance columns in rolling operations is deprecated; in a future version this will raise TypeError. Select only valid columns before calling the operation. Dropped columns were Index(['step', 'valid_time'], dtype='object')\n",
      "  mrms_15 = (mrms_one.rolling(15,min_periods=1).sum())*(60/15)\n"
     ]
    },
    {
     "name": "stdout",
     "output_type": "stream",
     "text": [
      "gagecount=67\n"
     ]
    },
    {
     "name": "stderr",
     "output_type": "stream",
     "text": [
      "c:\\temp\\3\\ipykernel_7312\\864092118.py:25: FutureWarning: Dropping of nuisance columns in rolling operations is deprecated; in a future version this will raise TypeError. Select only valid columns before calling the operation. Dropped columns were Index(['step', 'valid_time'], dtype='object')\n",
      "  mrms_15 = (mrms_one.rolling(15,min_periods=1).sum())*(60/15)\n"
     ]
    },
    {
     "name": "stdout",
     "output_type": "stream",
     "text": [
      "gagecount=68\n"
     ]
    },
    {
     "name": "stderr",
     "output_type": "stream",
     "text": [
      "c:\\temp\\3\\ipykernel_7312\\864092118.py:25: FutureWarning: Dropping of nuisance columns in rolling operations is deprecated; in a future version this will raise TypeError. Select only valid columns before calling the operation. Dropped columns were Index(['step', 'valid_time'], dtype='object')\n",
      "  mrms_15 = (mrms_one.rolling(15,min_periods=1).sum())*(60/15)\n"
     ]
    },
    {
     "name": "stdout",
     "output_type": "stream",
     "text": [
      "gagecount=69\n"
     ]
    },
    {
     "name": "stderr",
     "output_type": "stream",
     "text": [
      "c:\\temp\\3\\ipykernel_7312\\864092118.py:25: FutureWarning: Dropping of nuisance columns in rolling operations is deprecated; in a future version this will raise TypeError. Select only valid columns before calling the operation. Dropped columns were Index(['step', 'valid_time'], dtype='object')\n",
      "  mrms_15 = (mrms_one.rolling(15,min_periods=1).sum())*(60/15)\n"
     ]
    },
    {
     "name": "stdout",
     "output_type": "stream",
     "text": [
      "gagecount=70\n"
     ]
    },
    {
     "name": "stderr",
     "output_type": "stream",
     "text": [
      "c:\\temp\\3\\ipykernel_7312\\864092118.py:25: FutureWarning: Dropping of nuisance columns in rolling operations is deprecated; in a future version this will raise TypeError. Select only valid columns before calling the operation. Dropped columns were Index(['step', 'valid_time'], dtype='object')\n",
      "  mrms_15 = (mrms_one.rolling(15,min_periods=1).sum())*(60/15)\n"
     ]
    },
    {
     "name": "stdout",
     "output_type": "stream",
     "text": [
      "gagecount=71\n"
     ]
    },
    {
     "name": "stderr",
     "output_type": "stream",
     "text": [
      "c:\\temp\\3\\ipykernel_7312\\864092118.py:25: FutureWarning: Dropping of nuisance columns in rolling operations is deprecated; in a future version this will raise TypeError. Select only valid columns before calling the operation. Dropped columns were Index(['step', 'valid_time'], dtype='object')\n",
      "  mrms_15 = (mrms_one.rolling(15,min_periods=1).sum())*(60/15)\n"
     ]
    },
    {
     "name": "stdout",
     "output_type": "stream",
     "text": [
      "gagecount=72\n"
     ]
    },
    {
     "name": "stderr",
     "output_type": "stream",
     "text": [
      "c:\\temp\\3\\ipykernel_7312\\864092118.py:25: FutureWarning: Dropping of nuisance columns in rolling operations is deprecated; in a future version this will raise TypeError. Select only valid columns before calling the operation. Dropped columns were Index(['step', 'valid_time'], dtype='object')\n",
      "  mrms_15 = (mrms_one.rolling(15,min_periods=1).sum())*(60/15)\n"
     ]
    },
    {
     "name": "stdout",
     "output_type": "stream",
     "text": [
      "gagecount=73\n"
     ]
    },
    {
     "name": "stderr",
     "output_type": "stream",
     "text": [
      "c:\\temp\\3\\ipykernel_7312\\864092118.py:25: FutureWarning: Dropping of nuisance columns in rolling operations is deprecated; in a future version this will raise TypeError. Select only valid columns before calling the operation. Dropped columns were Index(['step', 'valid_time'], dtype='object')\n",
      "  mrms_15 = (mrms_one.rolling(15,min_periods=1).sum())*(60/15)\n"
     ]
    },
    {
     "name": "stdout",
     "output_type": "stream",
     "text": [
      "gagecount=74\n"
     ]
    },
    {
     "name": "stderr",
     "output_type": "stream",
     "text": [
      "c:\\temp\\3\\ipykernel_7312\\864092118.py:25: FutureWarning: Dropping of nuisance columns in rolling operations is deprecated; in a future version this will raise TypeError. Select only valid columns before calling the operation. Dropped columns were Index(['step', 'valid_time'], dtype='object')\n",
      "  mrms_15 = (mrms_one.rolling(15,min_periods=1).sum())*(60/15)\n"
     ]
    },
    {
     "name": "stdout",
     "output_type": "stream",
     "text": [
      "gagecount=75\n"
     ]
    },
    {
     "name": "stderr",
     "output_type": "stream",
     "text": [
      "c:\\temp\\3\\ipykernel_7312\\864092118.py:25: FutureWarning: Dropping of nuisance columns in rolling operations is deprecated; in a future version this will raise TypeError. Select only valid columns before calling the operation. Dropped columns were Index(['step', 'valid_time'], dtype='object')\n",
      "  mrms_15 = (mrms_one.rolling(15,min_periods=1).sum())*(60/15)\n"
     ]
    },
    {
     "name": "stdout",
     "output_type": "stream",
     "text": [
      "gagecount=76\n"
     ]
    },
    {
     "name": "stderr",
     "output_type": "stream",
     "text": [
      "c:\\temp\\3\\ipykernel_7312\\864092118.py:25: FutureWarning: Dropping of nuisance columns in rolling operations is deprecated; in a future version this will raise TypeError. Select only valid columns before calling the operation. Dropped columns were Index(['step', 'valid_time'], dtype='object')\n",
      "  mrms_15 = (mrms_one.rolling(15,min_periods=1).sum())*(60/15)\n"
     ]
    },
    {
     "name": "stdout",
     "output_type": "stream",
     "text": [
      "gagecount=77\n"
     ]
    },
    {
     "name": "stderr",
     "output_type": "stream",
     "text": [
      "c:\\temp\\3\\ipykernel_7312\\864092118.py:25: FutureWarning: Dropping of nuisance columns in rolling operations is deprecated; in a future version this will raise TypeError. Select only valid columns before calling the operation. Dropped columns were Index(['step', 'valid_time'], dtype='object')\n",
      "  mrms_15 = (mrms_one.rolling(15,min_periods=1).sum())*(60/15)\n"
     ]
    },
    {
     "name": "stdout",
     "output_type": "stream",
     "text": [
      "gagecount=78\n"
     ]
    },
    {
     "name": "stderr",
     "output_type": "stream",
     "text": [
      "c:\\temp\\3\\ipykernel_7312\\864092118.py:25: FutureWarning: Dropping of nuisance columns in rolling operations is deprecated; in a future version this will raise TypeError. Select only valid columns before calling the operation. Dropped columns were Index(['step', 'valid_time'], dtype='object')\n",
      "  mrms_15 = (mrms_one.rolling(15,min_periods=1).sum())*(60/15)\n"
     ]
    },
    {
     "name": "stdout",
     "output_type": "stream",
     "text": [
      "gagecount=79\n"
     ]
    },
    {
     "name": "stderr",
     "output_type": "stream",
     "text": [
      "c:\\temp\\3\\ipykernel_7312\\864092118.py:25: FutureWarning: Dropping of nuisance columns in rolling operations is deprecated; in a future version this will raise TypeError. Select only valid columns before calling the operation. Dropped columns were Index(['step', 'valid_time'], dtype='object')\n",
      "  mrms_15 = (mrms_one.rolling(15,min_periods=1).sum())*(60/15)\n"
     ]
    },
    {
     "name": "stdout",
     "output_type": "stream",
     "text": [
      "gagecount=80\n"
     ]
    },
    {
     "name": "stderr",
     "output_type": "stream",
     "text": [
      "c:\\temp\\3\\ipykernel_7312\\864092118.py:25: FutureWarning: Dropping of nuisance columns in rolling operations is deprecated; in a future version this will raise TypeError. Select only valid columns before calling the operation. Dropped columns were Index(['step', 'valid_time'], dtype='object')\n",
      "  mrms_15 = (mrms_one.rolling(15,min_periods=1).sum())*(60/15)\n"
     ]
    },
    {
     "name": "stdout",
     "output_type": "stream",
     "text": [
      "gagecount=81\n"
     ]
    },
    {
     "name": "stderr",
     "output_type": "stream",
     "text": [
      "c:\\temp\\3\\ipykernel_7312\\864092118.py:25: FutureWarning: Dropping of nuisance columns in rolling operations is deprecated; in a future version this will raise TypeError. Select only valid columns before calling the operation. Dropped columns were Index(['step', 'valid_time'], dtype='object')\n",
      "  mrms_15 = (mrms_one.rolling(15,min_periods=1).sum())*(60/15)\n"
     ]
    },
    {
     "name": "stdout",
     "output_type": "stream",
     "text": [
      "gagecount=82\n"
     ]
    },
    {
     "name": "stderr",
     "output_type": "stream",
     "text": [
      "c:\\temp\\3\\ipykernel_7312\\864092118.py:25: FutureWarning: Dropping of nuisance columns in rolling operations is deprecated; in a future version this will raise TypeError. Select only valid columns before calling the operation. Dropped columns were Index(['step', 'valid_time'], dtype='object')\n",
      "  mrms_15 = (mrms_one.rolling(15,min_periods=1).sum())*(60/15)\n"
     ]
    },
    {
     "name": "stdout",
     "output_type": "stream",
     "text": [
      "gagecount=83\n"
     ]
    },
    {
     "name": "stderr",
     "output_type": "stream",
     "text": [
      "c:\\temp\\3\\ipykernel_7312\\864092118.py:25: FutureWarning: Dropping of nuisance columns in rolling operations is deprecated; in a future version this will raise TypeError. Select only valid columns before calling the operation. Dropped columns were Index(['step', 'valid_time'], dtype='object')\n",
      "  mrms_15 = (mrms_one.rolling(15,min_periods=1).sum())*(60/15)\n"
     ]
    },
    {
     "name": "stdout",
     "output_type": "stream",
     "text": [
      "gagecount=84\n"
     ]
    },
    {
     "name": "stderr",
     "output_type": "stream",
     "text": [
      "c:\\temp\\3\\ipykernel_7312\\864092118.py:25: FutureWarning: Dropping of nuisance columns in rolling operations is deprecated; in a future version this will raise TypeError. Select only valid columns before calling the operation. Dropped columns were Index(['step', 'valid_time'], dtype='object')\n",
      "  mrms_15 = (mrms_one.rolling(15,min_periods=1).sum())*(60/15)\n"
     ]
    },
    {
     "name": "stdout",
     "output_type": "stream",
     "text": [
      "gagecount=85\n"
     ]
    },
    {
     "name": "stderr",
     "output_type": "stream",
     "text": [
      "c:\\temp\\3\\ipykernel_7312\\864092118.py:25: FutureWarning: Dropping of nuisance columns in rolling operations is deprecated; in a future version this will raise TypeError. Select only valid columns before calling the operation. Dropped columns were Index(['step', 'valid_time'], dtype='object')\n",
      "  mrms_15 = (mrms_one.rolling(15,min_periods=1).sum())*(60/15)\n"
     ]
    },
    {
     "name": "stdout",
     "output_type": "stream",
     "text": [
      "gagecount=86\n"
     ]
    },
    {
     "name": "stderr",
     "output_type": "stream",
     "text": [
      "c:\\temp\\3\\ipykernel_7312\\864092118.py:25: FutureWarning: Dropping of nuisance columns in rolling operations is deprecated; in a future version this will raise TypeError. Select only valid columns before calling the operation. Dropped columns were Index(['step', 'valid_time'], dtype='object')\n",
      "  mrms_15 = (mrms_one.rolling(15,min_periods=1).sum())*(60/15)\n"
     ]
    },
    {
     "name": "stdout",
     "output_type": "stream",
     "text": [
      "gagecount=87\n"
     ]
    },
    {
     "name": "stderr",
     "output_type": "stream",
     "text": [
      "c:\\temp\\3\\ipykernel_7312\\864092118.py:25: FutureWarning: Dropping of nuisance columns in rolling operations is deprecated; in a future version this will raise TypeError. Select only valid columns before calling the operation. Dropped columns were Index(['step', 'valid_time'], dtype='object')\n",
      "  mrms_15 = (mrms_one.rolling(15,min_periods=1).sum())*(60/15)\n"
     ]
    },
    {
     "name": "stdout",
     "output_type": "stream",
     "text": [
      "gagecount=88\n"
     ]
    },
    {
     "name": "stderr",
     "output_type": "stream",
     "text": [
      "c:\\temp\\3\\ipykernel_7312\\864092118.py:25: FutureWarning: Dropping of nuisance columns in rolling operations is deprecated; in a future version this will raise TypeError. Select only valid columns before calling the operation. Dropped columns were Index(['step', 'valid_time'], dtype='object')\n",
      "  mrms_15 = (mrms_one.rolling(15,min_periods=1).sum())*(60/15)\n"
     ]
    },
    {
     "name": "stdout",
     "output_type": "stream",
     "text": [
      "gagecount=89\n"
     ]
    },
    {
     "name": "stderr",
     "output_type": "stream",
     "text": [
      "c:\\temp\\3\\ipykernel_7312\\864092118.py:25: FutureWarning: Dropping of nuisance columns in rolling operations is deprecated; in a future version this will raise TypeError. Select only valid columns before calling the operation. Dropped columns were Index(['step', 'valid_time'], dtype='object')\n",
      "  mrms_15 = (mrms_one.rolling(15,min_periods=1).sum())*(60/15)\n"
     ]
    },
    {
     "name": "stdout",
     "output_type": "stream",
     "text": [
      "gagecount=90\n"
     ]
    },
    {
     "name": "stderr",
     "output_type": "stream",
     "text": [
      "c:\\temp\\3\\ipykernel_7312\\864092118.py:25: FutureWarning: Dropping of nuisance columns in rolling operations is deprecated; in a future version this will raise TypeError. Select only valid columns before calling the operation. Dropped columns were Index(['step', 'valid_time'], dtype='object')\n",
      "  mrms_15 = (mrms_one.rolling(15,min_periods=1).sum())*(60/15)\n"
     ]
    },
    {
     "name": "stdout",
     "output_type": "stream",
     "text": [
      "gagecount=91\n"
     ]
    },
    {
     "name": "stderr",
     "output_type": "stream",
     "text": [
      "c:\\temp\\3\\ipykernel_7312\\864092118.py:25: FutureWarning: Dropping of nuisance columns in rolling operations is deprecated; in a future version this will raise TypeError. Select only valid columns before calling the operation. Dropped columns were Index(['step', 'valid_time'], dtype='object')\n",
      "  mrms_15 = (mrms_one.rolling(15,min_periods=1).sum())*(60/15)\n"
     ]
    },
    {
     "name": "stdout",
     "output_type": "stream",
     "text": [
      "gagecount=92\n"
     ]
    },
    {
     "name": "stderr",
     "output_type": "stream",
     "text": [
      "c:\\temp\\3\\ipykernel_7312\\864092118.py:25: FutureWarning: Dropping of nuisance columns in rolling operations is deprecated; in a future version this will raise TypeError. Select only valid columns before calling the operation. Dropped columns were Index(['step', 'valid_time'], dtype='object')\n",
      "  mrms_15 = (mrms_one.rolling(15,min_periods=1).sum())*(60/15)\n"
     ]
    },
    {
     "name": "stdout",
     "output_type": "stream",
     "text": [
      "gagecount=93\n"
     ]
    },
    {
     "name": "stderr",
     "output_type": "stream",
     "text": [
      "c:\\temp\\3\\ipykernel_7312\\864092118.py:25: FutureWarning: Dropping of nuisance columns in rolling operations is deprecated; in a future version this will raise TypeError. Select only valid columns before calling the operation. Dropped columns were Index(['step', 'valid_time'], dtype='object')\n",
      "  mrms_15 = (mrms_one.rolling(15,min_periods=1).sum())*(60/15)\n"
     ]
    },
    {
     "name": "stdout",
     "output_type": "stream",
     "text": [
      "gagecount=94\n"
     ]
    },
    {
     "name": "stderr",
     "output_type": "stream",
     "text": [
      "c:\\temp\\3\\ipykernel_7312\\864092118.py:25: FutureWarning: Dropping of nuisance columns in rolling operations is deprecated; in a future version this will raise TypeError. Select only valid columns before calling the operation. Dropped columns were Index(['step', 'valid_time'], dtype='object')\n",
      "  mrms_15 = (mrms_one.rolling(15,min_periods=1).sum())*(60/15)\n"
     ]
    },
    {
     "name": "stdout",
     "output_type": "stream",
     "text": [
      "gagecount=95\n"
     ]
    },
    {
     "name": "stderr",
     "output_type": "stream",
     "text": [
      "c:\\temp\\3\\ipykernel_7312\\864092118.py:25: FutureWarning: Dropping of nuisance columns in rolling operations is deprecated; in a future version this will raise TypeError. Select only valid columns before calling the operation. Dropped columns were Index(['step', 'valid_time'], dtype='object')\n",
      "  mrms_15 = (mrms_one.rolling(15,min_periods=1).sum())*(60/15)\n"
     ]
    },
    {
     "name": "stdout",
     "output_type": "stream",
     "text": [
      "gagecount=96\n"
     ]
    },
    {
     "name": "stderr",
     "output_type": "stream",
     "text": [
      "c:\\temp\\3\\ipykernel_7312\\864092118.py:25: FutureWarning: Dropping of nuisance columns in rolling operations is deprecated; in a future version this will raise TypeError. Select only valid columns before calling the operation. Dropped columns were Index(['step', 'valid_time'], dtype='object')\n",
      "  mrms_15 = (mrms_one.rolling(15,min_periods=1).sum())*(60/15)\n"
     ]
    },
    {
     "name": "stdout",
     "output_type": "stream",
     "text": [
      "gagecount=97\n"
     ]
    },
    {
     "name": "stderr",
     "output_type": "stream",
     "text": [
      "c:\\temp\\3\\ipykernel_7312\\864092118.py:25: FutureWarning: Dropping of nuisance columns in rolling operations is deprecated; in a future version this will raise TypeError. Select only valid columns before calling the operation. Dropped columns were Index(['step', 'valid_time'], dtype='object')\n",
      "  mrms_15 = (mrms_one.rolling(15,min_periods=1).sum())*(60/15)\n"
     ]
    },
    {
     "name": "stdout",
     "output_type": "stream",
     "text": [
      "gagecount=98\n"
     ]
    },
    {
     "name": "stderr",
     "output_type": "stream",
     "text": [
      "c:\\temp\\3\\ipykernel_7312\\864092118.py:25: FutureWarning: Dropping of nuisance columns in rolling operations is deprecated; in a future version this will raise TypeError. Select only valid columns before calling the operation. Dropped columns were Index(['step', 'valid_time'], dtype='object')\n",
      "  mrms_15 = (mrms_one.rolling(15,min_periods=1).sum())*(60/15)\n"
     ]
    },
    {
     "name": "stdout",
     "output_type": "stream",
     "text": [
      "gagecount=99\n"
     ]
    },
    {
     "name": "stderr",
     "output_type": "stream",
     "text": [
      "c:\\temp\\3\\ipykernel_7312\\864092118.py:25: FutureWarning: Dropping of nuisance columns in rolling operations is deprecated; in a future version this will raise TypeError. Select only valid columns before calling the operation. Dropped columns were Index(['step', 'valid_time'], dtype='object')\n",
      "  mrms_15 = (mrms_one.rolling(15,min_periods=1).sum())*(60/15)\n"
     ]
    },
    {
     "name": "stdout",
     "output_type": "stream",
     "text": [
      "gagecount=100\n"
     ]
    },
    {
     "name": "stderr",
     "output_type": "stream",
     "text": [
      "c:\\temp\\3\\ipykernel_7312\\864092118.py:25: FutureWarning: Dropping of nuisance columns in rolling operations is deprecated; in a future version this will raise TypeError. Select only valid columns before calling the operation. Dropped columns were Index(['step', 'valid_time'], dtype='object')\n",
      "  mrms_15 = (mrms_one.rolling(15,min_periods=1).sum())*(60/15)\n"
     ]
    },
    {
     "name": "stdout",
     "output_type": "stream",
     "text": [
      "gagecount=101\n"
     ]
    },
    {
     "name": "stderr",
     "output_type": "stream",
     "text": [
      "c:\\temp\\3\\ipykernel_7312\\864092118.py:25: FutureWarning: Dropping of nuisance columns in rolling operations is deprecated; in a future version this will raise TypeError. Select only valid columns before calling the operation. Dropped columns were Index(['step', 'valid_time'], dtype='object')\n",
      "  mrms_15 = (mrms_one.rolling(15,min_periods=1).sum())*(60/15)\n"
     ]
    },
    {
     "name": "stdout",
     "output_type": "stream",
     "text": [
      "gagecount=102\n"
     ]
    },
    {
     "name": "stderr",
     "output_type": "stream",
     "text": [
      "c:\\temp\\3\\ipykernel_7312\\864092118.py:25: FutureWarning: Dropping of nuisance columns in rolling operations is deprecated; in a future version this will raise TypeError. Select only valid columns before calling the operation. Dropped columns were Index(['step', 'valid_time'], dtype='object')\n",
      "  mrms_15 = (mrms_one.rolling(15,min_periods=1).sum())*(60/15)\n"
     ]
    }
   ],
   "source": [
    "# select mrms 1 gage at a time, find storms\n",
    "nash = []\n",
    "bias = []\n",
    "CC = []\n",
    "storm_gage = []\n",
    "times=[]\n",
    "p = []\n",
    "t = []\n",
    "storms_test=[]\n",
    "coordinate=[]\n",
    "\n",
    "\n",
    "for i in range(len(coord)):\n",
    "    print('gagecount='+str(i))\n",
    "    # get corresponding mrms coordinate\n",
    "    latt = lat[i]\n",
    "    lont = lon[i]\n",
    "    # select mrms at coordinate\n",
    "    m_g = m.sel(longitude=lont,latitude=latt,drop=True)\n",
    "    # convert to pandas dataframe, speeds things up\n",
    "    m_g = m_g.to_dataframe()\n",
    "    # calculate 15-min intensity\n",
    "    mrms_one = m_g.resample('1min').asfreq()\n",
    "    mrms_one.unknown = mrms_one.unknown.fillna(0)\n",
    "    mrms_15 = (mrms_one.rolling(15,min_periods=1).sum())*(60/15) \n",
    "    # resampling goes through nonexistant months, reselect times\n",
    "    mrms_15_21 = mrms_15['2021-04-30 20:16':'2021-09-30 17:00']\n",
    "    mrms_15_22 = mrms_15['2022-04-30 20:16':'2022-09-30 17:00']\n",
    "    mrms_15 = pd.concat([mrms_15_21,mrms_15_22],axis=0)\n",
    "\n",
    "    # get gage\n",
    "    g = gage[coord[i]]\n",
    "    # caculating 15-min intensity caused weird rounding issues, fix by setting to zero\n",
    "    g.loc[g['15_int']<0.0001] = 0\n",
    "    # select gage data within mrms times, if gage outside mrms\n",
    "    g = g.loc[g.index.isin(mrms_15.index)]\n",
    "\n",
    "    # select mrms times within gage times, if mrms outside gage\n",
    "    mrms_15 = mrms_15.loc[mrms_15.index.isin(g.index)]\n",
    "\n",
    "    # define gage_storm, 6hrs\n",
    "    m_g = m_g.loc[m_g.index.isin(g.index)]\n",
    "    m_g['storm_id_gage'] = gage_storm(m_g)\n",
    "\n",
    "    storms = m_g['storm_id_gage'].unique()\n",
    "    storms = storms[storms>0]\n",
    "    '''    m_g = m_g.loc[m_g.index.isin(g.index)]\n",
    "    storms = np.unique(m_g.storm_id.values)\n",
    "    storms = storms[storms>=1]\n",
    "    storms = storms[~np.isnan(storms)]\n",
    "\n",
    "    # save storm ids and location\n",
    "    storm_gage.append([coord[i],storms])'''\n",
    "\n",
    "    for j in storms:\n",
    "        # find times for storm\n",
    "        m_storm = m_g.loc[m_g.storm_id_gage==j]\n",
    "        storm_times = m_storm.reset_index().time\n",
    "        '''        # look for other storms within hour of start and end\n",
    "        start = storm_times.iloc[0]-timedelta(hours=1)\n",
    "        end = storm_times.iloc[-1]+timedelta(hours=1)\n",
    "\n",
    "        # increase window '''\n",
    "\n",
    "        gage_15 = g[storm_times[0]:storm_times.iloc[-1]]['15_int']\n",
    "        m_15 = mrms_15[storm_times[0]:storm_times.iloc[-1]]['unknown']\n",
    "\n",
    "        # fix gage timer issues\n",
    "        shift = s[i]\n",
    "        gage_15.index = gage_15.index+shift\n",
    "\n",
    "        prediction = m_15\n",
    "        target = gage_15\n",
    "        p.append(prediction)\n",
    "        t.append(target)\n",
    "\n",
    "\n",
    "        nash.append(nse(prediction,target))\n",
    "        CC.append(prediction.corr(target))\n",
    "\n",
    "        times.append(storm_times)\n",
    "        storms_test.append(m_storm.storm_id.unique())\n",
    "        coordinate.append(coord[i])\n",
    "\n",
    "        #bias.append(np.sum(prediction-target)/np.sum(target))\n",
    "        '''        prediction.plot()\n",
    "        target.plot()\n",
    "        plt.show()'''\n",
    "\n"
   ]
  },
  {
   "cell_type": "code",
   "execution_count": 10,
   "id": "7fd990b3",
   "metadata": {},
   "outputs": [],
   "source": [
    "latitude = [coordinate[i][0] for i in range(len(p))]\n",
    "longitude = [coordinate[i][1] for i in range(len(p))]"
   ]
  },
  {
   "cell_type": "markdown",
   "id": "326c462d",
   "metadata": {},
   "source": [
    "Step 4 : label each gage event as either good, bad, false pos, miss"
   ]
  },
  {
   "cell_type": "code",
   "execution_count": 73,
   "id": "358b5d1a",
   "metadata": {},
   "outputs": [
    {
     "name": "stderr",
     "output_type": "stream",
     "text": [
      "c:\\temp\\3\\ipykernel_7312\\642449316.py:7: RuntimeWarning: invalid value encountered in double_scalars\n",
      "  performance['peak_r'] = [abs(t[i].max()-p[i].max())/p[i].max() for i in range(len(p))]\n"
     ]
    }
   ],
   "source": [
    "d = {'nse':nash,'cc':CC,'storm_id':storms_test,'longitude':longitude,'latitude':latitude}\n",
    "\n",
    "performance = pd.DataFrame(data=d)\n",
    "performance['times']=times\n",
    "# normalized peak residual abs(peak_mrms-peak_gage)/peak_gage\n",
    "#performance['peak'] = [abs(t[i].max()-p[i].max())/t[i].max() for i in range(len(p))]\n",
    "performance['peak_r'] = [abs(t[i].max()-p[i].max())/p[i].max() for i in range(len(p))]\n",
    "performance['peak_mrms'] = [p[i].max() for i in range(len(p))]\n",
    "# add duration\n",
    "dur_gage=[]\n",
    "dur_mrms=[]\n",
    "for i in range(len(p)):\n",
    "    if (len(t[i].loc[t[i]>0])>1) and (len(p[i].loc[p[i]>0])>1):\n",
    "        dur_gage.append(((t[i].loc[t[i]>0].index[-1]-t[i].loc[t[i]>0].index[0]).seconds)/60)\n",
    "        dur_mrms.append(((p[i].loc[p[i]>0].index[-1]-p[i].loc[p[i]>0].index[0]).seconds)/60)\n",
    "    elif (len(p[i].loc[p[i]>0])>1):\n",
    "        dur_gage.append(0)\n",
    "        dur_mrms.append(((p[i].loc[p[i]>0].index[-1]-p[i].loc[p[i]>0].index[0]).seconds)/60)     \n",
    "    else:\n",
    "        dur_gage.append(0)\n",
    "        dur_mrms.append(0)\n",
    "\n",
    "duration=[]\n",
    "for i in range(len(p)):\n",
    "    if (dur_mrms[i]!=np.nan) and (dur_mrms[i]!=0)and(dur_gage[i]!=np.nan):\n",
    "        #duration.append(abs(dur_mrms[i]-dur_gage[i])/dur_gage[i])\n",
    "        duration.append(abs(dur_mrms[i]-dur_gage[i])/dur_mrms[i])\n",
    "    else:\n",
    "        duration.append(0)\n",
    "        \n",
    "performance['duration_r']=duration\n",
    "performance['duration_mrms']=dur_mrms\n",
    "\n",
    "performance['label']='bad'\n",
    "performance.loc[(performance.nse>0)&(performance.nse<1)&(performance.cc>=.3)&(performance.peak_r<=2),\n",
    "                ['label']]='good'\n",
    "\n",
    "#performance.loc[(performance.nse>0)&(performance.nse<1)&(performance.cc>=.3),['label']]='good'\n",
    "\n",
    "# add month\n",
    "month = [times[i][0].month for i in range(len(times))]\n",
    "performance['month']=month\n",
    "'''# add storm_id\n",
    "storm_id = []\n",
    "number=[]\n",
    "for i in range(len(storm_gage)):\n",
    "    storm_id.append(storm_gage[i][1])\n",
    "    number.append(len(storm_gage[i][1]))\n",
    "\n",
    "performance['storm_id'] = np.concatenate(storm_id)'''\n",
    "\n",
    "'''# add gage location\n",
    "latitude = [storm_gage[i][0][0] for i in range(len(storm_gage))]\n",
    "longitude = [storm_gage[i][0][1] for i in range(len(storm_gage))]\n",
    "\n",
    "latitude= [np.full(number[i],latitude[i]) for i in range(len(number))]\n",
    "performance['latitude'] = np.concatenate(latitude)\n",
    "longitude= [np.full(number[i],longitude[i]) for i in range(len(number))]\n",
    "performance['longitude']= np.concatenate(longitude)\n",
    "'''\n",
    "\n",
    "# loop looks at storms outside gage record, drop na to remove these\n",
    "#performance = performance.dropna()\n",
    "\n",
    "# used >0 when saving mrms at gage, should be >=1 with added decimals \n",
    "#performance = performance.loc[performance.storm_id>=1]\n",
    "\n",
    "# only look at storms where mrms is lasting longer than 10min and having peak intensity >2mm/hr\n",
    "#####################should i be looking at entire storm duration , not just at gage??????????????????????????????\n",
    "performance = performance.loc[(performance.peak_mrms>1)]\n",
    "\n",
    "performance = performance.reset_index()"
   ]
  },
  {
   "cell_type": "code",
   "execution_count": 12,
   "id": "5b46b54c",
   "metadata": {},
   "outputs": [
    {
     "data": {
      "text/html": [
       "<div>\n",
       "<style scoped>\n",
       "    .dataframe tbody tr th:only-of-type {\n",
       "        vertical-align: middle;\n",
       "    }\n",
       "\n",
       "    .dataframe tbody tr th {\n",
       "        vertical-align: top;\n",
       "    }\n",
       "\n",
       "    .dataframe thead th {\n",
       "        text-align: right;\n",
       "    }\n",
       "</style>\n",
       "<table border=\"1\" class=\"dataframe\">\n",
       "  <thead>\n",
       "    <tr style=\"text-align: right;\">\n",
       "      <th></th>\n",
       "      <th>index</th>\n",
       "      <th>nse</th>\n",
       "      <th>cc</th>\n",
       "      <th>storm_id</th>\n",
       "      <th>longitude</th>\n",
       "      <th>latitude</th>\n",
       "      <th>times</th>\n",
       "      <th>peak_r</th>\n",
       "      <th>peak_mrms</th>\n",
       "      <th>duration_r</th>\n",
       "      <th>duration_mrms</th>\n",
       "      <th>label</th>\n",
       "      <th>month</th>\n",
       "    </tr>\n",
       "  </thead>\n",
       "  <tbody>\n",
       "    <tr>\n",
       "      <th>0</th>\n",
       "      <td>1</td>\n",
       "      <td>0.531931</td>\n",
       "      <td>0.770260</td>\n",
       "      <td>[252999.04, 0.04]</td>\n",
       "      <td>252.838319</td>\n",
       "      <td>39.658308</td>\n",
       "      <td>0     2021-07-28 20:14:00\n",
       "1     2021-07-28 20:...</td>\n",
       "      <td>0.543105</td>\n",
       "      <td>4.608889</td>\n",
       "      <td>0.063830</td>\n",
       "      <td>94.0</td>\n",
       "      <td>good</td>\n",
       "      <td>7</td>\n",
       "    </tr>\n",
       "    <tr>\n",
       "      <th>1</th>\n",
       "      <td>2</td>\n",
       "      <td>0.934171</td>\n",
       "      <td>0.968712</td>\n",
       "      <td>[264818.04, 0.04, 262809.04, 266854.04, 270084...</td>\n",
       "      <td>252.838319</td>\n",
       "      <td>39.658308</td>\n",
       "      <td>0     2021-07-29 16:56:00\n",
       "1     2021-07-29 16:...</td>\n",
       "      <td>0.086737</td>\n",
       "      <td>102.840006</td>\n",
       "      <td>0.442197</td>\n",
       "      <td>346.0</td>\n",
       "      <td>good</td>\n",
       "      <td>7</td>\n",
       "    </tr>\n",
       "    <tr>\n",
       "      <th>2</th>\n",
       "      <td>3</td>\n",
       "      <td>0.410588</td>\n",
       "      <td>0.709249</td>\n",
       "      <td>[276790.04, 0.04]</td>\n",
       "      <td>252.838319</td>\n",
       "      <td>39.658308</td>\n",
       "      <td>0     2021-07-30 15:50:00\n",
       "1     2021-07-30 15:...</td>\n",
       "      <td>2.419231</td>\n",
       "      <td>4.160000</td>\n",
       "      <td>0.055901</td>\n",
       "      <td>644.0</td>\n",
       "      <td>bad</td>\n",
       "      <td>7</td>\n",
       "    </tr>\n",
       "    <tr>\n",
       "      <th>3</th>\n",
       "      <td>4</td>\n",
       "      <td>-1.191935</td>\n",
       "      <td>0.810799</td>\n",
       "      <td>[295592.04, 0.04, 296062.04, 1.06, 0.06]</td>\n",
       "      <td>252.838319</td>\n",
       "      <td>39.658308</td>\n",
       "      <td>0     2021-07-31 08:30:00\n",
       "1     2021-07-31 08:...</td>\n",
       "      <td>0.424906</td>\n",
       "      <td>3.533334</td>\n",
       "      <td>0.891061</td>\n",
       "      <td>716.0</td>\n",
       "      <td>bad</td>\n",
       "      <td>7</td>\n",
       "    </tr>\n",
       "    <tr>\n",
       "      <th>4</th>\n",
       "      <td>6</td>\n",
       "      <td>0.449628</td>\n",
       "      <td>0.676179</td>\n",
       "      <td>[18800.06, 0.06, 26719.06, 26594.06]</td>\n",
       "      <td>252.838319</td>\n",
       "      <td>39.658308</td>\n",
       "      <td>0     2021-08-02 13:38:00\n",
       "1     2021-08-02 13:...</td>\n",
       "      <td>0.434488</td>\n",
       "      <td>7.082667</td>\n",
       "      <td>0.072874</td>\n",
       "      <td>494.0</td>\n",
       "      <td>good</td>\n",
       "      <td>8</td>\n",
       "    </tr>\n",
       "    <tr>\n",
       "      <th>...</th>\n",
       "      <td>...</td>\n",
       "      <td>...</td>\n",
       "      <td>...</td>\n",
       "      <td>...</td>\n",
       "      <td>...</td>\n",
       "      <td>...</td>\n",
       "      <td>...</td>\n",
       "      <td>...</td>\n",
       "      <td>...</td>\n",
       "      <td>...</td>\n",
       "      <td>...</td>\n",
       "      <td>...</td>\n",
       "      <td>...</td>\n",
       "    </tr>\n",
       "    <tr>\n",
       "      <th>4797</th>\n",
       "      <td>8307</td>\n",
       "      <td>-0.122722</td>\n",
       "      <td>0.545547</td>\n",
       "      <td>[164623.07, 0.07]</td>\n",
       "      <td>253.944170</td>\n",
       "      <td>39.833890</td>\n",
       "      <td>0     2022-08-21 14:48:00\n",
       "1     2022-08-21 14:...</td>\n",
       "      <td>0.134091</td>\n",
       "      <td>2.346667</td>\n",
       "      <td>0.222222</td>\n",
       "      <td>306.0</td>\n",
       "      <td>bad</td>\n",
       "      <td>8</td>\n",
       "    </tr>\n",
       "    <tr>\n",
       "      <th>4798</th>\n",
       "      <td>8308</td>\n",
       "      <td>0.155788</td>\n",
       "      <td>0.545315</td>\n",
       "      <td>[190859.07, 0.07]</td>\n",
       "      <td>253.944170</td>\n",
       "      <td>39.833890</td>\n",
       "      <td>0     2022-08-22 13:46:00\n",
       "1     2022-08-22 13:...</td>\n",
       "      <td>1.495195</td>\n",
       "      <td>2.850278</td>\n",
       "      <td>0.138889</td>\n",
       "      <td>108.0</td>\n",
       "      <td>good</td>\n",
       "      <td>8</td>\n",
       "    </tr>\n",
       "    <tr>\n",
       "      <th>4799</th>\n",
       "      <td>8314</td>\n",
       "      <td>0.411993</td>\n",
       "      <td>0.808136</td>\n",
       "      <td>[96217.09, 0.09]</td>\n",
       "      <td>253.944170</td>\n",
       "      <td>39.833890</td>\n",
       "      <td>0     2022-09-15 08:24:00\n",
       "1     2022-09-15 08:...</td>\n",
       "      <td>0.171739</td>\n",
       "      <td>2.453333</td>\n",
       "      <td>0.280822</td>\n",
       "      <td>146.0</td>\n",
       "      <td>good</td>\n",
       "      <td>9</td>\n",
       "    </tr>\n",
       "    <tr>\n",
       "      <th>4800</th>\n",
       "      <td>8316</td>\n",
       "      <td>0.018987</td>\n",
       "      <td>0.352857</td>\n",
       "      <td>[153786.09, 0.09, 182545.09, 187533.09, 186254...</td>\n",
       "      <td>253.944170</td>\n",
       "      <td>39.833890</td>\n",
       "      <td>0     2022-09-21 12:50:00\n",
       "1     2022-09-21 12:...</td>\n",
       "      <td>0.524000</td>\n",
       "      <td>2.000000</td>\n",
       "      <td>0.400990</td>\n",
       "      <td>202.0</td>\n",
       "      <td>good</td>\n",
       "      <td>9</td>\n",
       "    </tr>\n",
       "    <tr>\n",
       "      <th>4801</th>\n",
       "      <td>8319</td>\n",
       "      <td>0.415252</td>\n",
       "      <td>0.832509</td>\n",
       "      <td>[246141.09, 0.09, 251126.09]</td>\n",
       "      <td>253.944170</td>\n",
       "      <td>39.833890</td>\n",
       "      <td>0     2022-09-30 08:18:00\n",
       "1     2022-09-30 08:...</td>\n",
       "      <td>3.010526</td>\n",
       "      <td>1.520000</td>\n",
       "      <td>0.726054</td>\n",
       "      <td>522.0</td>\n",
       "      <td>bad</td>\n",
       "      <td>9</td>\n",
       "    </tr>\n",
       "  </tbody>\n",
       "</table>\n",
       "<p>4802 rows × 13 columns</p>\n",
       "</div>"
      ],
      "text/plain": [
       "      index       nse        cc  \\\n",
       "0         1  0.531931  0.770260   \n",
       "1         2  0.934171  0.968712   \n",
       "2         3  0.410588  0.709249   \n",
       "3         4 -1.191935  0.810799   \n",
       "4         6  0.449628  0.676179   \n",
       "...     ...       ...       ...   \n",
       "4797   8307 -0.122722  0.545547   \n",
       "4798   8308  0.155788  0.545315   \n",
       "4799   8314  0.411993  0.808136   \n",
       "4800   8316  0.018987  0.352857   \n",
       "4801   8319  0.415252  0.832509   \n",
       "\n",
       "                                               storm_id   longitude  \\\n",
       "0                                     [252999.04, 0.04]  252.838319   \n",
       "1     [264818.04, 0.04, 262809.04, 266854.04, 270084...  252.838319   \n",
       "2                                     [276790.04, 0.04]  252.838319   \n",
       "3              [295592.04, 0.04, 296062.04, 1.06, 0.06]  252.838319   \n",
       "4                  [18800.06, 0.06, 26719.06, 26594.06]  252.838319   \n",
       "...                                                 ...         ...   \n",
       "4797                                  [164623.07, 0.07]  253.944170   \n",
       "4798                                  [190859.07, 0.07]  253.944170   \n",
       "4799                                   [96217.09, 0.09]  253.944170   \n",
       "4800  [153786.09, 0.09, 182545.09, 187533.09, 186254...  253.944170   \n",
       "4801                       [246141.09, 0.09, 251126.09]  253.944170   \n",
       "\n",
       "       latitude                                              times    peak_r  \\\n",
       "0     39.658308  0     2021-07-28 20:14:00\n",
       "1     2021-07-28 20:...  0.543105   \n",
       "1     39.658308  0     2021-07-29 16:56:00\n",
       "1     2021-07-29 16:...  0.086737   \n",
       "2     39.658308  0     2021-07-30 15:50:00\n",
       "1     2021-07-30 15:...  2.419231   \n",
       "3     39.658308  0     2021-07-31 08:30:00\n",
       "1     2021-07-31 08:...  0.424906   \n",
       "4     39.658308  0     2021-08-02 13:38:00\n",
       "1     2021-08-02 13:...  0.434488   \n",
       "...         ...                                                ...       ...   \n",
       "4797  39.833890  0     2022-08-21 14:48:00\n",
       "1     2022-08-21 14:...  0.134091   \n",
       "4798  39.833890  0     2022-08-22 13:46:00\n",
       "1     2022-08-22 13:...  1.495195   \n",
       "4799  39.833890  0     2022-09-15 08:24:00\n",
       "1     2022-09-15 08:...  0.171739   \n",
       "4800  39.833890  0     2022-09-21 12:50:00\n",
       "1     2022-09-21 12:...  0.524000   \n",
       "4801  39.833890  0     2022-09-30 08:18:00\n",
       "1     2022-09-30 08:...  3.010526   \n",
       "\n",
       "       peak_mrms  duration_r  duration_mrms label  month  \n",
       "0       4.608889    0.063830           94.0  good      7  \n",
       "1     102.840006    0.442197          346.0  good      7  \n",
       "2       4.160000    0.055901          644.0   bad      7  \n",
       "3       3.533334    0.891061          716.0   bad      7  \n",
       "4       7.082667    0.072874          494.0  good      8  \n",
       "...          ...         ...            ...   ...    ...  \n",
       "4797    2.346667    0.222222          306.0   bad      8  \n",
       "4798    2.850278    0.138889          108.0  good      8  \n",
       "4799    2.453333    0.280822          146.0  good      9  \n",
       "4800    2.000000    0.400990          202.0  good      9  \n",
       "4801    1.520000    0.726054          522.0   bad      9  \n",
       "\n",
       "[4802 rows x 13 columns]"
      ]
     },
     "execution_count": 12,
     "metadata": {},
     "output_type": "execute_result"
    }
   ],
   "source": [
    "performance"
   ]
  },
  {
   "cell_type": "code",
   "execution_count": 13,
   "id": "f8e4ba95",
   "metadata": {},
   "outputs": [
    {
     "data": {
      "text/html": [
       "<div>\n",
       "<style scoped>\n",
       "    .dataframe tbody tr th:only-of-type {\n",
       "        vertical-align: middle;\n",
       "    }\n",
       "\n",
       "    .dataframe tbody tr th {\n",
       "        vertical-align: top;\n",
       "    }\n",
       "\n",
       "    .dataframe thead th {\n",
       "        text-align: right;\n",
       "    }\n",
       "</style>\n",
       "<table border=\"1\" class=\"dataframe\">\n",
       "  <thead>\n",
       "    <tr style=\"text-align: right;\">\n",
       "      <th></th>\n",
       "      <th>index</th>\n",
       "      <th>nse</th>\n",
       "      <th>cc</th>\n",
       "      <th>storm_id</th>\n",
       "      <th>longitude</th>\n",
       "      <th>latitude</th>\n",
       "      <th>times</th>\n",
       "      <th>peak_r</th>\n",
       "      <th>peak_mrms</th>\n",
       "      <th>duration_r</th>\n",
       "      <th>duration_mrms</th>\n",
       "      <th>label</th>\n",
       "      <th>month</th>\n",
       "    </tr>\n",
       "  </thead>\n",
       "  <tbody>\n",
       "    <tr>\n",
       "      <th>0</th>\n",
       "      <td>1</td>\n",
       "      <td>0.531931</td>\n",
       "      <td>0.770260</td>\n",
       "      <td>[252999.04, 0.04]</td>\n",
       "      <td>252.838319</td>\n",
       "      <td>39.658308</td>\n",
       "      <td>0     2021-07-28 20:14:00\n",
       "1     2021-07-28 20:...</td>\n",
       "      <td>0.543105</td>\n",
       "      <td>4.608889</td>\n",
       "      <td>0.063830</td>\n",
       "      <td>94.0</td>\n",
       "      <td>good</td>\n",
       "      <td>7</td>\n",
       "    </tr>\n",
       "    <tr>\n",
       "      <th>1</th>\n",
       "      <td>2</td>\n",
       "      <td>0.934171</td>\n",
       "      <td>0.968712</td>\n",
       "      <td>[264818.04, 0.04, 262809.04, 266854.04, 270084...</td>\n",
       "      <td>252.838319</td>\n",
       "      <td>39.658308</td>\n",
       "      <td>0     2021-07-29 16:56:00\n",
       "1     2021-07-29 16:...</td>\n",
       "      <td>0.086737</td>\n",
       "      <td>102.840006</td>\n",
       "      <td>0.442197</td>\n",
       "      <td>346.0</td>\n",
       "      <td>good</td>\n",
       "      <td>7</td>\n",
       "    </tr>\n",
       "    <tr>\n",
       "      <th>4</th>\n",
       "      <td>6</td>\n",
       "      <td>0.449628</td>\n",
       "      <td>0.676179</td>\n",
       "      <td>[18800.06, 0.06, 26719.06, 26594.06]</td>\n",
       "      <td>252.838319</td>\n",
       "      <td>39.658308</td>\n",
       "      <td>0     2021-08-02 13:38:00\n",
       "1     2021-08-02 13:...</td>\n",
       "      <td>0.434488</td>\n",
       "      <td>7.082667</td>\n",
       "      <td>0.072874</td>\n",
       "      <td>494.0</td>\n",
       "      <td>good</td>\n",
       "      <td>8</td>\n",
       "    </tr>\n",
       "    <tr>\n",
       "      <th>5</th>\n",
       "      <td>7</td>\n",
       "      <td>0.695698</td>\n",
       "      <td>0.915391</td>\n",
       "      <td>[18800.06, 0.06, 35315.06]</td>\n",
       "      <td>252.838319</td>\n",
       "      <td>39.658308</td>\n",
       "      <td>0     2021-08-03 05:14:00\n",
       "1     2021-08-03 05:...</td>\n",
       "      <td>0.973783</td>\n",
       "      <td>16.986667</td>\n",
       "      <td>0.417738</td>\n",
       "      <td>778.0</td>\n",
       "      <td>good</td>\n",
       "      <td>8</td>\n",
       "    </tr>\n",
       "    <tr>\n",
       "      <th>6</th>\n",
       "      <td>9</td>\n",
       "      <td>0.837498</td>\n",
       "      <td>0.917746</td>\n",
       "      <td>[66727.06, 0.06]</td>\n",
       "      <td>252.838319</td>\n",
       "      <td>39.658308</td>\n",
       "      <td>0     2021-08-06 22:18:00\n",
       "1     2021-08-06 22:...</td>\n",
       "      <td>0.035443</td>\n",
       "      <td>3.160000</td>\n",
       "      <td>0.134146</td>\n",
       "      <td>82.0</td>\n",
       "      <td>good</td>\n",
       "      <td>8</td>\n",
       "    </tr>\n",
       "    <tr>\n",
       "      <th>...</th>\n",
       "      <td>...</td>\n",
       "      <td>...</td>\n",
       "      <td>...</td>\n",
       "      <td>...</td>\n",
       "      <td>...</td>\n",
       "      <td>...</td>\n",
       "      <td>...</td>\n",
       "      <td>...</td>\n",
       "      <td>...</td>\n",
       "      <td>...</td>\n",
       "      <td>...</td>\n",
       "      <td>...</td>\n",
       "      <td>...</td>\n",
       "    </tr>\n",
       "    <tr>\n",
       "      <th>4794</th>\n",
       "      <td>8304</td>\n",
       "      <td>0.165189</td>\n",
       "      <td>0.511795</td>\n",
       "      <td>[125329.07, 0.07]</td>\n",
       "      <td>253.944170</td>\n",
       "      <td>39.833890</td>\n",
       "      <td>0     2022-08-16 11:40:00\n",
       "1     2022-08-16 11:...</td>\n",
       "      <td>0.483184</td>\n",
       "      <td>11.645219</td>\n",
       "      <td>0.086873</td>\n",
       "      <td>518.0</td>\n",
       "      <td>good</td>\n",
       "      <td>8</td>\n",
       "    </tr>\n",
       "    <tr>\n",
       "      <th>4796</th>\n",
       "      <td>8306</td>\n",
       "      <td>0.530328</td>\n",
       "      <td>0.765022</td>\n",
       "      <td>[164623.07, 0.07]</td>\n",
       "      <td>253.944170</td>\n",
       "      <td>39.833890</td>\n",
       "      <td>0     2022-08-20 14:14:00\n",
       "1     2022-08-20 14:...</td>\n",
       "      <td>0.360714</td>\n",
       "      <td>1.493333</td>\n",
       "      <td>0.543353</td>\n",
       "      <td>346.0</td>\n",
       "      <td>good</td>\n",
       "      <td>8</td>\n",
       "    </tr>\n",
       "    <tr>\n",
       "      <th>4798</th>\n",
       "      <td>8308</td>\n",
       "      <td>0.155788</td>\n",
       "      <td>0.545315</td>\n",
       "      <td>[190859.07, 0.07]</td>\n",
       "      <td>253.944170</td>\n",
       "      <td>39.833890</td>\n",
       "      <td>0     2022-08-22 13:46:00\n",
       "1     2022-08-22 13:...</td>\n",
       "      <td>1.495195</td>\n",
       "      <td>2.850278</td>\n",
       "      <td>0.138889</td>\n",
       "      <td>108.0</td>\n",
       "      <td>good</td>\n",
       "      <td>8</td>\n",
       "    </tr>\n",
       "    <tr>\n",
       "      <th>4799</th>\n",
       "      <td>8314</td>\n",
       "      <td>0.411993</td>\n",
       "      <td>0.808136</td>\n",
       "      <td>[96217.09, 0.09]</td>\n",
       "      <td>253.944170</td>\n",
       "      <td>39.833890</td>\n",
       "      <td>0     2022-09-15 08:24:00\n",
       "1     2022-09-15 08:...</td>\n",
       "      <td>0.171739</td>\n",
       "      <td>2.453333</td>\n",
       "      <td>0.280822</td>\n",
       "      <td>146.0</td>\n",
       "      <td>good</td>\n",
       "      <td>9</td>\n",
       "    </tr>\n",
       "    <tr>\n",
       "      <th>4800</th>\n",
       "      <td>8316</td>\n",
       "      <td>0.018987</td>\n",
       "      <td>0.352857</td>\n",
       "      <td>[153786.09, 0.09, 182545.09, 187533.09, 186254...</td>\n",
       "      <td>253.944170</td>\n",
       "      <td>39.833890</td>\n",
       "      <td>0     2022-09-21 12:50:00\n",
       "1     2022-09-21 12:...</td>\n",
       "      <td>0.524000</td>\n",
       "      <td>2.000000</td>\n",
       "      <td>0.400990</td>\n",
       "      <td>202.0</td>\n",
       "      <td>good</td>\n",
       "      <td>9</td>\n",
       "    </tr>\n",
       "  </tbody>\n",
       "</table>\n",
       "<p>1110 rows × 13 columns</p>\n",
       "</div>"
      ],
      "text/plain": [
       "      index       nse        cc  \\\n",
       "0         1  0.531931  0.770260   \n",
       "1         2  0.934171  0.968712   \n",
       "4         6  0.449628  0.676179   \n",
       "5         7  0.695698  0.915391   \n",
       "6         9  0.837498  0.917746   \n",
       "...     ...       ...       ...   \n",
       "4794   8304  0.165189  0.511795   \n",
       "4796   8306  0.530328  0.765022   \n",
       "4798   8308  0.155788  0.545315   \n",
       "4799   8314  0.411993  0.808136   \n",
       "4800   8316  0.018987  0.352857   \n",
       "\n",
       "                                               storm_id   longitude  \\\n",
       "0                                     [252999.04, 0.04]  252.838319   \n",
       "1     [264818.04, 0.04, 262809.04, 266854.04, 270084...  252.838319   \n",
       "4                  [18800.06, 0.06, 26719.06, 26594.06]  252.838319   \n",
       "5                            [18800.06, 0.06, 35315.06]  252.838319   \n",
       "6                                      [66727.06, 0.06]  252.838319   \n",
       "...                                                 ...         ...   \n",
       "4794                                  [125329.07, 0.07]  253.944170   \n",
       "4796                                  [164623.07, 0.07]  253.944170   \n",
       "4798                                  [190859.07, 0.07]  253.944170   \n",
       "4799                                   [96217.09, 0.09]  253.944170   \n",
       "4800  [153786.09, 0.09, 182545.09, 187533.09, 186254...  253.944170   \n",
       "\n",
       "       latitude                                              times    peak_r  \\\n",
       "0     39.658308  0     2021-07-28 20:14:00\n",
       "1     2021-07-28 20:...  0.543105   \n",
       "1     39.658308  0     2021-07-29 16:56:00\n",
       "1     2021-07-29 16:...  0.086737   \n",
       "4     39.658308  0     2021-08-02 13:38:00\n",
       "1     2021-08-02 13:...  0.434488   \n",
       "5     39.658308  0     2021-08-03 05:14:00\n",
       "1     2021-08-03 05:...  0.973783   \n",
       "6     39.658308  0     2021-08-06 22:18:00\n",
       "1     2021-08-06 22:...  0.035443   \n",
       "...         ...                                                ...       ...   \n",
       "4794  39.833890  0     2022-08-16 11:40:00\n",
       "1     2022-08-16 11:...  0.483184   \n",
       "4796  39.833890  0     2022-08-20 14:14:00\n",
       "1     2022-08-20 14:...  0.360714   \n",
       "4798  39.833890  0     2022-08-22 13:46:00\n",
       "1     2022-08-22 13:...  1.495195   \n",
       "4799  39.833890  0     2022-09-15 08:24:00\n",
       "1     2022-09-15 08:...  0.171739   \n",
       "4800  39.833890  0     2022-09-21 12:50:00\n",
       "1     2022-09-21 12:...  0.524000   \n",
       "\n",
       "       peak_mrms  duration_r  duration_mrms label  month  \n",
       "0       4.608889    0.063830           94.0  good      7  \n",
       "1     102.840006    0.442197          346.0  good      7  \n",
       "4       7.082667    0.072874          494.0  good      8  \n",
       "5      16.986667    0.417738          778.0  good      8  \n",
       "6       3.160000    0.134146           82.0  good      8  \n",
       "...          ...         ...            ...   ...    ...  \n",
       "4794   11.645219    0.086873          518.0  good      8  \n",
       "4796    1.493333    0.543353          346.0  good      8  \n",
       "4798    2.850278    0.138889          108.0  good      8  \n",
       "4799    2.453333    0.280822          146.0  good      9  \n",
       "4800    2.000000    0.400990          202.0  good      9  \n",
       "\n",
       "[1110 rows x 13 columns]"
      ]
     },
     "execution_count": 13,
     "metadata": {},
     "output_type": "execute_result"
    }
   ],
   "source": [
    "performance.loc[performance.label=='good']"
   ]
  },
  {
   "cell_type": "markdown",
   "id": "a4094a25",
   "metadata": {},
   "source": [
    "Step 5 : calculate features for each gage event and export labeled dataset"
   ]
  },
  {
   "cell_type": "markdown",
   "id": "1c5269c9",
   "metadata": {},
   "source": [
    "radar"
   ]
  },
  {
   "cell_type": "code",
   "execution_count": 14,
   "id": "2241ca7a",
   "metadata": {},
   "outputs": [
    {
     "name": "stderr",
     "output_type": "stream",
     "text": [
      "Ignoring index file 'Z:\\\\MRMS\\\\1hr_QPE_multi_cat_yr_CO\\\\2022_multiQPE_CO.grib2.923a8.idx' incompatible with GRIB file\n"
     ]
    }
   ],
   "source": [
    "\n",
    "# multisensor correction\n",
    "# open multisensor qpe for 2021,2022\n",
    "mrms_multi_folder = os.path.join(parentDir,\"MRMS\",\"1hr_QPE_multi_cat_yr_CO\")\n",
    "filenames_multi = glob.glob(mrms_multi_folder+'\\\\'+'*.grib2')\n",
    "\n",
    "mrms_multi = xr.open_mfdataset(filenames_multi,engine = \"cfgrib\",chunks={'time': '1MB'})\n",
    "\n",
    "# open radaronly qpe for 2021,2022\n",
    "mrms_radar_folder = os.path.join(parentDir,\"MRMS\",\"1hr_QPE_radar_cat_yr_CO\")\n",
    "filenames_radar = glob.glob(mrms_radar_folder+'\\\\'+'*.grib2')\n",
    "\n",
    "mrms_radar = xr.open_mfdataset(filenames_radar,engine = \"cfgrib\",chunks={'time': '1MB'})\n",
    "\n",
    "correction = (mrms_multi/mrms_radar)\n",
    "correction = correction.where(correction.unknown != np.inf).fillna(1)\n",
    "\n",
    "correction = correction.sel(longitude=lon,latitude=lat,drop=True)\n",
    "\n",
    "correction = time_change(correction)\n",
    "\n",
    "# select only gage locations and storm times\n",
    "correction = [correction.sel(time=slice(performance.times[i][0].round('H'),performance.times[i].iloc[-1].round('H')))\n",
    "       .unknown.mean().compute().values for i in range(len(performance))]\n",
    "\n",
    "\n",
    "# add to database\n",
    "performance['mult_correct']=correction\n"
   ]
  },
  {
   "cell_type": "code",
   "execution_count": 74,
   "id": "53f69076",
   "metadata": {},
   "outputs": [],
   "source": [
    "performance['mult_correct']=correction"
   ]
  },
  {
   "cell_type": "code",
   "execution_count": 15,
   "id": "d735aa2b",
   "metadata": {},
   "outputs": [
    {
     "name": "stderr",
     "output_type": "stream",
     "text": [
      "Ignoring index file 'Z:\\\\MRMS\\\\RQI_cat_yr_CO\\\\2021_RQI_CO.grib2.923a8.idx' incompatible with GRIB file\n",
      "Ignoring index file 'Z:\\\\MRMS\\\\RQI_cat_yr_CO\\\\2022_RQI_CO.grib2.923a8.idx' incompatible with GRIB file\n"
     ]
    }
   ],
   "source": [
    "# bring in RQI\n",
    "# open RQI for 2021,2022\n",
    "RQI_folder = os.path.join(parentDir,\"MRMS\",\"RQI_cat_yr_CO\")\n",
    "filenames_RQI = glob.glob(RQI_folder+'\\\\'+'*.grib2')\n",
    "\n",
    "RQI = xr.open_mfdataset(filenames_RQI,engine = \"cfgrib\",chunks={'time': '1MB'})\n",
    "\n",
    "# get times and gage locations\n",
    "RQI = RQI.sel(longitude=lon,latitude=lat,drop=True)\n",
    "\n",
    "# change to MST\n",
    "RQI = time_change(RQI)\n",
    "\n",
    "# select only gage locations and storm times\n",
    "RQI = [RQI.sel(time=slice(performance.times[i][0].round('H'),performance.times[i].iloc[-1].round('H')))\n",
    "       .unknown.mean().compute().values for i in range(len(performance))]\n",
    "\n",
    "# add to database\n",
    "performance['RQI']=RQI\n"
   ]
  },
  {
   "cell_type": "code",
   "execution_count": 75,
   "id": "f149d593",
   "metadata": {},
   "outputs": [],
   "source": [
    "performance['RQI']=RQI"
   ]
  },
  {
   "cell_type": "markdown",
   "id": "3b7dcc83",
   "metadata": {},
   "source": [
    "gage location"
   ]
  },
  {
   "cell_type": "code",
   "execution_count": 16,
   "id": "cbb8ce83",
   "metadata": {
    "scrolled": false
   },
   "outputs": [],
   "source": [
    "elev = '\\\\CO_SRTM1arcsec__merge.tif'\n",
    "folder = parentDir\n",
    "elev = folder+elev\n",
    "codtm = rxr.open_rasterio(elev)\n",
    "# change lon to match global lat/lon in grib file\n",
    "codtm = codtm.assign_coords(x=(((codtm.x + 360))))\n",
    "\n",
    "codtm = codtm.rename({'x':'longitude','y':'latitude'})\n",
    "\n",
    "elevation = [codtm.sel(longitude=performance.longitude[i],latitude=performance.latitude[i],method='nearest').values[0] for i in range(len(performance))]\n",
    "#elevation = codtm.sel(longitude=lon,latitude=lat,method='nearest')\n",
    "\n",
    "s = '\\\\CO_SRTM1arcsec_slope.tif'\n",
    "s = folder+s\n",
    "coslope = rxr.open_rasterio(s)\n",
    "# change lon to match global lat/lon in grib file\n",
    "coslope = coslope.assign_coords(x=(((coslope.x + 360))))\n",
    "\n",
    "coslope = coslope.rename({'x':'longitude','y':'latitude'})\n",
    "\n",
    "#slope = coslope.sel(longitude=lon,latitude=lat,method='nearest')\n",
    "slope = [coslope.sel(longitude=performance.longitude[i],latitude=performance.latitude[i],method='nearest').values[0] for i in range(len(performance))]\n",
    "\n",
    "performance['point_elev']=elevation\n",
    "performance['point_slope']=slope\n",
    "\n",
    "performance.point_slope=performance.point_slope.where(performance.point_slope.between(0,100))"
   ]
  },
  {
   "cell_type": "code",
   "execution_count": 76,
   "id": "3931e190",
   "metadata": {},
   "outputs": [],
   "source": [
    "performance['point_elev']=elevation\n",
    "performance['point_slope']=slope\n",
    "\n",
    "performance.point_slope=performance.point_slope.where(performance.point_slope.between(0,100))"
   ]
  },
  {
   "cell_type": "code",
   "execution_count": 52,
   "id": "fc75c438",
   "metadata": {
    "scrolled": true
   },
   "outputs": [
    {
     "data": {
      "text/html": [
       "<div>\n",
       "<style scoped>\n",
       "    .dataframe tbody tr th:only-of-type {\n",
       "        vertical-align: middle;\n",
       "    }\n",
       "\n",
       "    .dataframe tbody tr th {\n",
       "        vertical-align: top;\n",
       "    }\n",
       "\n",
       "    .dataframe thead th {\n",
       "        text-align: right;\n",
       "    }\n",
       "</style>\n",
       "<table border=\"1\" class=\"dataframe\">\n",
       "  <thead>\n",
       "    <tr style=\"text-align: right;\">\n",
       "      <th></th>\n",
       "      <th>index</th>\n",
       "      <th>nse</th>\n",
       "      <th>cc</th>\n",
       "      <th>storm_id</th>\n",
       "      <th>longitude</th>\n",
       "      <th>latitude</th>\n",
       "      <th>times</th>\n",
       "      <th>peak_r</th>\n",
       "      <th>peak_mrms</th>\n",
       "      <th>duration_r</th>\n",
       "      <th>duration_mrms</th>\n",
       "      <th>label</th>\n",
       "      <th>month</th>\n",
       "      <th>mult_correct</th>\n",
       "      <th>RQI</th>\n",
       "      <th>point_elev</th>\n",
       "      <th>point_slope</th>\n",
       "    </tr>\n",
       "  </thead>\n",
       "  <tbody>\n",
       "    <tr>\n",
       "      <th>0</th>\n",
       "      <td>1</td>\n",
       "      <td>0.531931</td>\n",
       "      <td>0.770260</td>\n",
       "      <td>[252999.04, 0.04]</td>\n",
       "      <td>252.838319</td>\n",
       "      <td>39.658308</td>\n",
       "      <td>0     2021-07-28 20:14:00\n",
       "1     2021-07-28 20:...</td>\n",
       "      <td>0.543105</td>\n",
       "      <td>4.608889</td>\n",
       "      <td>0.063830</td>\n",
       "      <td>94.0</td>\n",
       "      <td>good</td>\n",
       "      <td>7</td>\n",
       "      <td>1.0068803</td>\n",
       "      <td>0.68295366</td>\n",
       "      <td>2938</td>\n",
       "      <td>5.242516</td>\n",
       "    </tr>\n",
       "    <tr>\n",
       "      <th>1</th>\n",
       "      <td>2</td>\n",
       "      <td>0.934171</td>\n",
       "      <td>0.968712</td>\n",
       "      <td>[264818.04, 0.04, 262809.04, 266854.04, 270084...</td>\n",
       "      <td>252.838319</td>\n",
       "      <td>39.658308</td>\n",
       "      <td>0     2021-07-29 16:56:00\n",
       "1     2021-07-29 16:...</td>\n",
       "      <td>0.086737</td>\n",
       "      <td>102.840006</td>\n",
       "      <td>0.442197</td>\n",
       "      <td>346.0</td>\n",
       "      <td>good</td>\n",
       "      <td>7</td>\n",
       "      <td>1.0262085</td>\n",
       "      <td>0.6992914</td>\n",
       "      <td>2938</td>\n",
       "      <td>5.242516</td>\n",
       "    </tr>\n",
       "    <tr>\n",
       "      <th>2</th>\n",
       "      <td>3</td>\n",
       "      <td>0.410588</td>\n",
       "      <td>0.709249</td>\n",
       "      <td>[276790.04, 0.04]</td>\n",
       "      <td>252.838319</td>\n",
       "      <td>39.658308</td>\n",
       "      <td>0     2021-07-30 15:50:00\n",
       "1     2021-07-30 15:...</td>\n",
       "      <td>2.419231</td>\n",
       "      <td>4.160000</td>\n",
       "      <td>0.055901</td>\n",
       "      <td>644.0</td>\n",
       "      <td>bad</td>\n",
       "      <td>7</td>\n",
       "      <td>0.9239565</td>\n",
       "      <td>0.694086</td>\n",
       "      <td>2938</td>\n",
       "      <td>5.242516</td>\n",
       "    </tr>\n",
       "    <tr>\n",
       "      <th>3</th>\n",
       "      <td>4</td>\n",
       "      <td>-1.191935</td>\n",
       "      <td>0.810799</td>\n",
       "      <td>[295592.04, 0.04, 296062.04, 1.06, 0.06]</td>\n",
       "      <td>252.838319</td>\n",
       "      <td>39.658308</td>\n",
       "      <td>0     2021-07-31 08:30:00\n",
       "1     2021-07-31 08:...</td>\n",
       "      <td>0.424906</td>\n",
       "      <td>3.533334</td>\n",
       "      <td>0.891061</td>\n",
       "      <td>716.0</td>\n",
       "      <td>bad</td>\n",
       "      <td>7</td>\n",
       "      <td>1.05329</td>\n",
       "      <td>0.68663895</td>\n",
       "      <td>2938</td>\n",
       "      <td>5.242516</td>\n",
       "    </tr>\n",
       "    <tr>\n",
       "      <th>4</th>\n",
       "      <td>6</td>\n",
       "      <td>0.449628</td>\n",
       "      <td>0.676179</td>\n",
       "      <td>[18800.06, 0.06, 26719.06, 26594.06]</td>\n",
       "      <td>252.838319</td>\n",
       "      <td>39.658308</td>\n",
       "      <td>0     2021-08-02 13:38:00\n",
       "1     2021-08-02 13:...</td>\n",
       "      <td>0.434488</td>\n",
       "      <td>7.082667</td>\n",
       "      <td>0.072874</td>\n",
       "      <td>494.0</td>\n",
       "      <td>good</td>\n",
       "      <td>8</td>\n",
       "      <td>1.0066328</td>\n",
       "      <td>0.6786552</td>\n",
       "      <td>2938</td>\n",
       "      <td>5.242516</td>\n",
       "    </tr>\n",
       "    <tr>\n",
       "      <th>...</th>\n",
       "      <td>...</td>\n",
       "      <td>...</td>\n",
       "      <td>...</td>\n",
       "      <td>...</td>\n",
       "      <td>...</td>\n",
       "      <td>...</td>\n",
       "      <td>...</td>\n",
       "      <td>...</td>\n",
       "      <td>...</td>\n",
       "      <td>...</td>\n",
       "      <td>...</td>\n",
       "      <td>...</td>\n",
       "      <td>...</td>\n",
       "      <td>...</td>\n",
       "      <td>...</td>\n",
       "      <td>...</td>\n",
       "      <td>...</td>\n",
       "    </tr>\n",
       "    <tr>\n",
       "      <th>4797</th>\n",
       "      <td>8307</td>\n",
       "      <td>-0.122722</td>\n",
       "      <td>0.545547</td>\n",
       "      <td>[164623.07, 0.07]</td>\n",
       "      <td>253.944170</td>\n",
       "      <td>39.833890</td>\n",
       "      <td>0     2022-08-21 14:48:00\n",
       "1     2022-08-21 14:...</td>\n",
       "      <td>0.134091</td>\n",
       "      <td>2.346667</td>\n",
       "      <td>0.222222</td>\n",
       "      <td>306.0</td>\n",
       "      <td>bad</td>\n",
       "      <td>8</td>\n",
       "      <td>0.9851422</td>\n",
       "      <td>0.64467275</td>\n",
       "      <td>2684</td>\n",
       "      <td>2.368037</td>\n",
       "    </tr>\n",
       "    <tr>\n",
       "      <th>4798</th>\n",
       "      <td>8308</td>\n",
       "      <td>0.155788</td>\n",
       "      <td>0.545315</td>\n",
       "      <td>[190859.07, 0.07]</td>\n",
       "      <td>253.944170</td>\n",
       "      <td>39.833890</td>\n",
       "      <td>0     2022-08-22 13:46:00\n",
       "1     2022-08-22 13:...</td>\n",
       "      <td>1.495195</td>\n",
       "      <td>2.850278</td>\n",
       "      <td>0.138889</td>\n",
       "      <td>108.0</td>\n",
       "      <td>good</td>\n",
       "      <td>8</td>\n",
       "      <td>0.98438835</td>\n",
       "      <td>0.64488757</td>\n",
       "      <td>2684</td>\n",
       "      <td>2.368037</td>\n",
       "    </tr>\n",
       "    <tr>\n",
       "      <th>4799</th>\n",
       "      <td>8314</td>\n",
       "      <td>0.411993</td>\n",
       "      <td>0.808136</td>\n",
       "      <td>[96217.09, 0.09]</td>\n",
       "      <td>253.944170</td>\n",
       "      <td>39.833890</td>\n",
       "      <td>0     2022-09-15 08:24:00\n",
       "1     2022-09-15 08:...</td>\n",
       "      <td>0.171739</td>\n",
       "      <td>2.453333</td>\n",
       "      <td>0.280822</td>\n",
       "      <td>146.0</td>\n",
       "      <td>good</td>\n",
       "      <td>9</td>\n",
       "      <td>0.98952645</td>\n",
       "      <td>0.6367</td>\n",
       "      <td>2684</td>\n",
       "      <td>2.368037</td>\n",
       "    </tr>\n",
       "    <tr>\n",
       "      <th>4800</th>\n",
       "      <td>8316</td>\n",
       "      <td>0.018987</td>\n",
       "      <td>0.352857</td>\n",
       "      <td>[153786.09, 0.09, 182545.09, 187533.09, 186254...</td>\n",
       "      <td>253.944170</td>\n",
       "      <td>39.833890</td>\n",
       "      <td>0     2022-09-21 12:50:00\n",
       "1     2022-09-21 12:...</td>\n",
       "      <td>0.524000</td>\n",
       "      <td>2.000000</td>\n",
       "      <td>0.400990</td>\n",
       "      <td>202.0</td>\n",
       "      <td>good</td>\n",
       "      <td>9</td>\n",
       "      <td>1.0639029</td>\n",
       "      <td>0.634051</td>\n",
       "      <td>2684</td>\n",
       "      <td>2.368037</td>\n",
       "    </tr>\n",
       "    <tr>\n",
       "      <th>4801</th>\n",
       "      <td>8319</td>\n",
       "      <td>0.415252</td>\n",
       "      <td>0.832509</td>\n",
       "      <td>[246141.09, 0.09, 251126.09]</td>\n",
       "      <td>253.944170</td>\n",
       "      <td>39.833890</td>\n",
       "      <td>0     2022-09-30 08:18:00\n",
       "1     2022-09-30 08:...</td>\n",
       "      <td>3.010526</td>\n",
       "      <td>1.520000</td>\n",
       "      <td>0.726054</td>\n",
       "      <td>522.0</td>\n",
       "      <td>bad</td>\n",
       "      <td>9</td>\n",
       "      <td>1.1461782</td>\n",
       "      <td>0.624663</td>\n",
       "      <td>2684</td>\n",
       "      <td>2.368037</td>\n",
       "    </tr>\n",
       "  </tbody>\n",
       "</table>\n",
       "<p>4802 rows × 17 columns</p>\n",
       "</div>"
      ],
      "text/plain": [
       "      index       nse        cc  \\\n",
       "0         1  0.531931  0.770260   \n",
       "1         2  0.934171  0.968712   \n",
       "2         3  0.410588  0.709249   \n",
       "3         4 -1.191935  0.810799   \n",
       "4         6  0.449628  0.676179   \n",
       "...     ...       ...       ...   \n",
       "4797   8307 -0.122722  0.545547   \n",
       "4798   8308  0.155788  0.545315   \n",
       "4799   8314  0.411993  0.808136   \n",
       "4800   8316  0.018987  0.352857   \n",
       "4801   8319  0.415252  0.832509   \n",
       "\n",
       "                                               storm_id   longitude  \\\n",
       "0                                     [252999.04, 0.04]  252.838319   \n",
       "1     [264818.04, 0.04, 262809.04, 266854.04, 270084...  252.838319   \n",
       "2                                     [276790.04, 0.04]  252.838319   \n",
       "3              [295592.04, 0.04, 296062.04, 1.06, 0.06]  252.838319   \n",
       "4                  [18800.06, 0.06, 26719.06, 26594.06]  252.838319   \n",
       "...                                                 ...         ...   \n",
       "4797                                  [164623.07, 0.07]  253.944170   \n",
       "4798                                  [190859.07, 0.07]  253.944170   \n",
       "4799                                   [96217.09, 0.09]  253.944170   \n",
       "4800  [153786.09, 0.09, 182545.09, 187533.09, 186254...  253.944170   \n",
       "4801                       [246141.09, 0.09, 251126.09]  253.944170   \n",
       "\n",
       "       latitude                                              times    peak_r  \\\n",
       "0     39.658308  0     2021-07-28 20:14:00\n",
       "1     2021-07-28 20:...  0.543105   \n",
       "1     39.658308  0     2021-07-29 16:56:00\n",
       "1     2021-07-29 16:...  0.086737   \n",
       "2     39.658308  0     2021-07-30 15:50:00\n",
       "1     2021-07-30 15:...  2.419231   \n",
       "3     39.658308  0     2021-07-31 08:30:00\n",
       "1     2021-07-31 08:...  0.424906   \n",
       "4     39.658308  0     2021-08-02 13:38:00\n",
       "1     2021-08-02 13:...  0.434488   \n",
       "...         ...                                                ...       ...   \n",
       "4797  39.833890  0     2022-08-21 14:48:00\n",
       "1     2022-08-21 14:...  0.134091   \n",
       "4798  39.833890  0     2022-08-22 13:46:00\n",
       "1     2022-08-22 13:...  1.495195   \n",
       "4799  39.833890  0     2022-09-15 08:24:00\n",
       "1     2022-09-15 08:...  0.171739   \n",
       "4800  39.833890  0     2022-09-21 12:50:00\n",
       "1     2022-09-21 12:...  0.524000   \n",
       "4801  39.833890  0     2022-09-30 08:18:00\n",
       "1     2022-09-30 08:...  3.010526   \n",
       "\n",
       "       peak_mrms  duration_r  duration_mrms label  month mult_correct  \\\n",
       "0       4.608889    0.063830           94.0  good      7    1.0068803   \n",
       "1     102.840006    0.442197          346.0  good      7    1.0262085   \n",
       "2       4.160000    0.055901          644.0   bad      7    0.9239565   \n",
       "3       3.533334    0.891061          716.0   bad      7      1.05329   \n",
       "4       7.082667    0.072874          494.0  good      8    1.0066328   \n",
       "...          ...         ...            ...   ...    ...          ...   \n",
       "4797    2.346667    0.222222          306.0   bad      8    0.9851422   \n",
       "4798    2.850278    0.138889          108.0  good      8   0.98438835   \n",
       "4799    2.453333    0.280822          146.0  good      9   0.98952645   \n",
       "4800    2.000000    0.400990          202.0  good      9    1.0639029   \n",
       "4801    1.520000    0.726054          522.0   bad      9    1.1461782   \n",
       "\n",
       "             RQI  point_elev  point_slope  \n",
       "0     0.68295366        2938     5.242516  \n",
       "1      0.6992914        2938     5.242516  \n",
       "2       0.694086        2938     5.242516  \n",
       "3     0.68663895        2938     5.242516  \n",
       "4      0.6786552        2938     5.242516  \n",
       "...          ...         ...          ...  \n",
       "4797  0.64467275        2684     2.368037  \n",
       "4798  0.64488757        2684     2.368037  \n",
       "4799      0.6367        2684     2.368037  \n",
       "4800    0.634051        2684     2.368037  \n",
       "4801    0.624663        2684     2.368037  \n",
       "\n",
       "[4802 rows x 17 columns]"
      ]
     },
     "execution_count": 52,
     "metadata": {},
     "output_type": "execute_result"
    }
   ],
   "source": [
    "performance"
   ]
  },
  {
   "cell_type": "code",
   "execution_count": null,
   "id": "15cf4f87",
   "metadata": {},
   "outputs": [],
   "source": [
    "# fix slope"
   ]
  },
  {
   "cell_type": "markdown",
   "id": "4c2cdbad",
   "metadata": {},
   "source": [
    "storm"
   ]
  },
  {
   "cell_type": "code",
   "execution_count": 18,
   "id": "22d8a363",
   "metadata": {},
   "outputs": [],
   "source": [
    "# open, select value based on storm_id\n",
    "months = ['may','jun','jul','aug','sep']\n",
    "years = [2021,2022]\n",
    "\n",
    "# open storm_ids\n",
    "precip_folder = os.path.join(parentDir,\"precip_stats\")\n",
    "# add float to make storm_ids unique for each month \n",
    "unique = np.arange(0,0.1,0.01)"
   ]
  },
  {
   "cell_type": "code",
   "execution_count": 77,
   "id": "f8ff9cda",
   "metadata": {
    "scrolled": true
   },
   "outputs": [],
   "source": [
    "# max, mean, median, variance\n",
    "filenames_stats = [i+'_'+str(j)+'_precip_stats' for i in months for j in years]\n",
    "\n",
    "stats = []\n",
    "for i in range(len(filenames_stats)):\n",
    "    s = pd.read_feather(precip_folder+'\\\\'+filenames_stats[i])\n",
    "    s.storm_id = s.storm_id+unique[i]\n",
    "    stats.append(s)\n",
    "\n",
    "stats = pd.concat(stats)\n",
    "\n",
    "stats = [stats.loc[stats.storm_id.isin(performance.storm_id[i])].mean() for i in range(len(performance))]\n",
    "stats = pd.concat(stats,axis=1).T\n",
    "stats = stats.drop(columns=['storm_id'])\n",
    "stats = stats.reset_index()\n",
    "performance = pd.concat([performance,stats],axis=1)"
   ]
  },
  {
   "cell_type": "code",
   "execution_count": 78,
   "id": "04620be4",
   "metadata": {
    "scrolled": true
   },
   "outputs": [
    {
     "data": {
      "text/html": [
       "<div>\n",
       "<style scoped>\n",
       "    .dataframe tbody tr th:only-of-type {\n",
       "        vertical-align: middle;\n",
       "    }\n",
       "\n",
       "    .dataframe tbody tr th {\n",
       "        vertical-align: top;\n",
       "    }\n",
       "\n",
       "    .dataframe thead th {\n",
       "        text-align: right;\n",
       "    }\n",
       "</style>\n",
       "<table border=\"1\" class=\"dataframe\">\n",
       "  <thead>\n",
       "    <tr style=\"text-align: right;\">\n",
       "      <th></th>\n",
       "      <th>index</th>\n",
       "      <th>nse</th>\n",
       "      <th>cc</th>\n",
       "      <th>storm_id</th>\n",
       "      <th>longitude</th>\n",
       "      <th>latitude</th>\n",
       "      <th>times</th>\n",
       "      <th>peak_r</th>\n",
       "      <th>peak_mrms</th>\n",
       "      <th>duration_r</th>\n",
       "      <th>...</th>\n",
       "      <th>mult_correct</th>\n",
       "      <th>RQI</th>\n",
       "      <th>point_elev</th>\n",
       "      <th>point_slope</th>\n",
       "      <th>index</th>\n",
       "      <th>max</th>\n",
       "      <th>std</th>\n",
       "      <th>var</th>\n",
       "      <th>mean</th>\n",
       "      <th>median</th>\n",
       "    </tr>\n",
       "  </thead>\n",
       "  <tbody>\n",
       "    <tr>\n",
       "      <th>0</th>\n",
       "      <td>1</td>\n",
       "      <td>0.531931</td>\n",
       "      <td>0.770260</td>\n",
       "      <td>[252999.04, 0.04]</td>\n",
       "      <td>252.838319</td>\n",
       "      <td>39.658308</td>\n",
       "      <td>0     2021-07-28 20:14:00\n",
       "1     2021-07-28 20:...</td>\n",
       "      <td>0.543105</td>\n",
       "      <td>4.608889</td>\n",
       "      <td>0.063830</td>\n",
       "      <td>...</td>\n",
       "      <td>1.0068803</td>\n",
       "      <td>0.68295366</td>\n",
       "      <td>2938</td>\n",
       "      <td>5.242516</td>\n",
       "      <td>0</td>\n",
       "      <td>133.333328</td>\n",
       "      <td>6.747710</td>\n",
       "      <td>45.844292</td>\n",
       "      <td>2.373651</td>\n",
       "      <td>0.506667</td>\n",
       "    </tr>\n",
       "    <tr>\n",
       "      <th>1</th>\n",
       "      <td>2</td>\n",
       "      <td>0.934171</td>\n",
       "      <td>0.968712</td>\n",
       "      <td>[264818.04, 0.04, 262809.04, 266854.04, 270084...</td>\n",
       "      <td>252.838319</td>\n",
       "      <td>39.658308</td>\n",
       "      <td>0     2021-07-29 16:56:00\n",
       "1     2021-07-29 16:...</td>\n",
       "      <td>0.086737</td>\n",
       "      <td>102.840006</td>\n",
       "      <td>0.442197</td>\n",
       "      <td>...</td>\n",
       "      <td>1.0262085</td>\n",
       "      <td>0.6992914</td>\n",
       "      <td>2938</td>\n",
       "      <td>5.242516</td>\n",
       "      <td>1</td>\n",
       "      <td>24.513334</td>\n",
       "      <td>1.887356</td>\n",
       "      <td>13.576319</td>\n",
       "      <td>0.761688</td>\n",
       "      <td>0.206667</td>\n",
       "    </tr>\n",
       "    <tr>\n",
       "      <th>2</th>\n",
       "      <td>3</td>\n",
       "      <td>0.410588</td>\n",
       "      <td>0.709249</td>\n",
       "      <td>[276790.04, 0.04]</td>\n",
       "      <td>252.838319</td>\n",
       "      <td>39.658308</td>\n",
       "      <td>0     2021-07-30 15:50:00\n",
       "1     2021-07-30 15:...</td>\n",
       "      <td>2.419231</td>\n",
       "      <td>4.160000</td>\n",
       "      <td>0.055901</td>\n",
       "      <td>...</td>\n",
       "      <td>0.9239565</td>\n",
       "      <td>0.694086</td>\n",
       "      <td>2938</td>\n",
       "      <td>5.242516</td>\n",
       "      <td>2</td>\n",
       "      <td>100.000000</td>\n",
       "      <td>6.016866</td>\n",
       "      <td>34.192680</td>\n",
       "      <td>2.377221</td>\n",
       "      <td>0.773333</td>\n",
       "    </tr>\n",
       "    <tr>\n",
       "      <th>3</th>\n",
       "      <td>4</td>\n",
       "      <td>-1.191935</td>\n",
       "      <td>0.810799</td>\n",
       "      <td>[295592.04, 0.04, 296062.04, 1.06, 0.06]</td>\n",
       "      <td>252.838319</td>\n",
       "      <td>39.658308</td>\n",
       "      <td>0     2021-07-31 08:30:00\n",
       "1     2021-07-31 08:...</td>\n",
       "      <td>0.424906</td>\n",
       "      <td>3.533334</td>\n",
       "      <td>0.891061</td>\n",
       "      <td>...</td>\n",
       "      <td>1.05329</td>\n",
       "      <td>0.68663895</td>\n",
       "      <td>2938</td>\n",
       "      <td>5.242516</td>\n",
       "      <td>3</td>\n",
       "      <td>66.733330</td>\n",
       "      <td>3.438099</td>\n",
       "      <td>15.651801</td>\n",
       "      <td>1.620160</td>\n",
       "      <td>0.755556</td>\n",
       "    </tr>\n",
       "    <tr>\n",
       "      <th>4</th>\n",
       "      <td>6</td>\n",
       "      <td>0.449628</td>\n",
       "      <td>0.676179</td>\n",
       "      <td>[18800.06, 0.06, 26719.06, 26594.06]</td>\n",
       "      <td>252.838319</td>\n",
       "      <td>39.658308</td>\n",
       "      <td>0     2021-08-02 13:38:00\n",
       "1     2021-08-02 13:...</td>\n",
       "      <td>0.434488</td>\n",
       "      <td>7.082667</td>\n",
       "      <td>0.072874</td>\n",
       "      <td>...</td>\n",
       "      <td>1.0066328</td>\n",
       "      <td>0.6786552</td>\n",
       "      <td>2938</td>\n",
       "      <td>5.242516</td>\n",
       "      <td>4</td>\n",
       "      <td>25.644442</td>\n",
       "      <td>1.052156</td>\n",
       "      <td>2.496178</td>\n",
       "      <td>0.608007</td>\n",
       "      <td>0.404444</td>\n",
       "    </tr>\n",
       "    <tr>\n",
       "      <th>...</th>\n",
       "      <td>...</td>\n",
       "      <td>...</td>\n",
       "      <td>...</td>\n",
       "      <td>...</td>\n",
       "      <td>...</td>\n",
       "      <td>...</td>\n",
       "      <td>...</td>\n",
       "      <td>...</td>\n",
       "      <td>...</td>\n",
       "      <td>...</td>\n",
       "      <td>...</td>\n",
       "      <td>...</td>\n",
       "      <td>...</td>\n",
       "      <td>...</td>\n",
       "      <td>...</td>\n",
       "      <td>...</td>\n",
       "      <td>...</td>\n",
       "      <td>...</td>\n",
       "      <td>...</td>\n",
       "      <td>...</td>\n",
       "      <td>...</td>\n",
       "    </tr>\n",
       "    <tr>\n",
       "      <th>4797</th>\n",
       "      <td>8307</td>\n",
       "      <td>-0.122722</td>\n",
       "      <td>0.545547</td>\n",
       "      <td>[164623.07, 0.07]</td>\n",
       "      <td>253.944170</td>\n",
       "      <td>39.833890</td>\n",
       "      <td>0     2022-08-21 14:48:00\n",
       "1     2022-08-21 14:...</td>\n",
       "      <td>0.134091</td>\n",
       "      <td>2.346667</td>\n",
       "      <td>0.222222</td>\n",
       "      <td>...</td>\n",
       "      <td>0.9851422</td>\n",
       "      <td>0.64467275</td>\n",
       "      <td>2684</td>\n",
       "      <td>2.368037</td>\n",
       "      <td>4797</td>\n",
       "      <td>114.453331</td>\n",
       "      <td>2.391843</td>\n",
       "      <td>5.332387</td>\n",
       "      <td>1.206586</td>\n",
       "      <td>0.640000</td>\n",
       "    </tr>\n",
       "    <tr>\n",
       "      <th>4798</th>\n",
       "      <td>8308</td>\n",
       "      <td>0.155788</td>\n",
       "      <td>0.545315</td>\n",
       "      <td>[190859.07, 0.07]</td>\n",
       "      <td>253.944170</td>\n",
       "      <td>39.833890</td>\n",
       "      <td>0     2022-08-22 13:46:00\n",
       "1     2022-08-22 13:...</td>\n",
       "      <td>1.495195</td>\n",
       "      <td>2.850278</td>\n",
       "      <td>0.138889</td>\n",
       "      <td>...</td>\n",
       "      <td>0.98438835</td>\n",
       "      <td>0.64488757</td>\n",
       "      <td>2684</td>\n",
       "      <td>2.368037</td>\n",
       "      <td>4798</td>\n",
       "      <td>69.200005</td>\n",
       "      <td>2.693104</td>\n",
       "      <td>7.226663</td>\n",
       "      <td>1.498888</td>\n",
       "      <td>0.786667</td>\n",
       "    </tr>\n",
       "    <tr>\n",
       "      <th>4799</th>\n",
       "      <td>8314</td>\n",
       "      <td>0.411993</td>\n",
       "      <td>0.808136</td>\n",
       "      <td>[96217.09, 0.09]</td>\n",
       "      <td>253.944170</td>\n",
       "      <td>39.833890</td>\n",
       "      <td>0     2022-09-15 08:24:00\n",
       "1     2022-09-15 08:...</td>\n",
       "      <td>0.171739</td>\n",
       "      <td>2.453333</td>\n",
       "      <td>0.280822</td>\n",
       "      <td>...</td>\n",
       "      <td>0.98952645</td>\n",
       "      <td>0.6367</td>\n",
       "      <td>2684</td>\n",
       "      <td>2.368037</td>\n",
       "      <td>4799</td>\n",
       "      <td>68.013329</td>\n",
       "      <td>1.030605</td>\n",
       "      <td>1.056574</td>\n",
       "      <td>0.858007</td>\n",
       "      <td>0.560000</td>\n",
       "    </tr>\n",
       "    <tr>\n",
       "      <th>4800</th>\n",
       "      <td>8316</td>\n",
       "      <td>0.018987</td>\n",
       "      <td>0.352857</td>\n",
       "      <td>[153786.09, 0.09, 182545.09, 187533.09, 186254...</td>\n",
       "      <td>253.944170</td>\n",
       "      <td>39.833890</td>\n",
       "      <td>0     2022-09-21 12:50:00\n",
       "1     2022-09-21 12:...</td>\n",
       "      <td>0.524000</td>\n",
       "      <td>2.000000</td>\n",
       "      <td>0.400990</td>\n",
       "      <td>...</td>\n",
       "      <td>1.0639029</td>\n",
       "      <td>0.634051</td>\n",
       "      <td>2684</td>\n",
       "      <td>2.368037</td>\n",
       "      <td>4800</td>\n",
       "      <td>28.957777</td>\n",
       "      <td>0.967689</td>\n",
       "      <td>2.267836</td>\n",
       "      <td>0.605248</td>\n",
       "      <td>0.355556</td>\n",
       "    </tr>\n",
       "    <tr>\n",
       "      <th>4801</th>\n",
       "      <td>8319</td>\n",
       "      <td>0.415252</td>\n",
       "      <td>0.832509</td>\n",
       "      <td>[246141.09, 0.09, 251126.09]</td>\n",
       "      <td>253.944170</td>\n",
       "      <td>39.833890</td>\n",
       "      <td>0     2022-09-30 08:18:00\n",
       "1     2022-09-30 08:...</td>\n",
       "      <td>3.010526</td>\n",
       "      <td>1.520000</td>\n",
       "      <td>0.726054</td>\n",
       "      <td>...</td>\n",
       "      <td>1.1461782</td>\n",
       "      <td>0.624663</td>\n",
       "      <td>2684</td>\n",
       "      <td>2.368037</td>\n",
       "      <td>4801</td>\n",
       "      <td>68.260002</td>\n",
       "      <td>1.363148</td>\n",
       "      <td>2.185124</td>\n",
       "      <td>0.776950</td>\n",
       "      <td>0.460000</td>\n",
       "    </tr>\n",
       "  </tbody>\n",
       "</table>\n",
       "<p>4802 rows × 23 columns</p>\n",
       "</div>"
      ],
      "text/plain": [
       "     index       nse        cc  \\\n",
       "0        1  0.531931  0.770260   \n",
       "1        2  0.934171  0.968712   \n",
       "2        3  0.410588  0.709249   \n",
       "3        4 -1.191935  0.810799   \n",
       "4        6  0.449628  0.676179   \n",
       "...    ...       ...       ...   \n",
       "4797  8307 -0.122722  0.545547   \n",
       "4798  8308  0.155788  0.545315   \n",
       "4799  8314  0.411993  0.808136   \n",
       "4800  8316  0.018987  0.352857   \n",
       "4801  8319  0.415252  0.832509   \n",
       "\n",
       "                                               storm_id   longitude  \\\n",
       "0                                     [252999.04, 0.04]  252.838319   \n",
       "1     [264818.04, 0.04, 262809.04, 266854.04, 270084...  252.838319   \n",
       "2                                     [276790.04, 0.04]  252.838319   \n",
       "3              [295592.04, 0.04, 296062.04, 1.06, 0.06]  252.838319   \n",
       "4                  [18800.06, 0.06, 26719.06, 26594.06]  252.838319   \n",
       "...                                                 ...         ...   \n",
       "4797                                  [164623.07, 0.07]  253.944170   \n",
       "4798                                  [190859.07, 0.07]  253.944170   \n",
       "4799                                   [96217.09, 0.09]  253.944170   \n",
       "4800  [153786.09, 0.09, 182545.09, 187533.09, 186254...  253.944170   \n",
       "4801                       [246141.09, 0.09, 251126.09]  253.944170   \n",
       "\n",
       "       latitude                                              times    peak_r  \\\n",
       "0     39.658308  0     2021-07-28 20:14:00\n",
       "1     2021-07-28 20:...  0.543105   \n",
       "1     39.658308  0     2021-07-29 16:56:00\n",
       "1     2021-07-29 16:...  0.086737   \n",
       "2     39.658308  0     2021-07-30 15:50:00\n",
       "1     2021-07-30 15:...  2.419231   \n",
       "3     39.658308  0     2021-07-31 08:30:00\n",
       "1     2021-07-31 08:...  0.424906   \n",
       "4     39.658308  0     2021-08-02 13:38:00\n",
       "1     2021-08-02 13:...  0.434488   \n",
       "...         ...                                                ...       ...   \n",
       "4797  39.833890  0     2022-08-21 14:48:00\n",
       "1     2022-08-21 14:...  0.134091   \n",
       "4798  39.833890  0     2022-08-22 13:46:00\n",
       "1     2022-08-22 13:...  1.495195   \n",
       "4799  39.833890  0     2022-09-15 08:24:00\n",
       "1     2022-09-15 08:...  0.171739   \n",
       "4800  39.833890  0     2022-09-21 12:50:00\n",
       "1     2022-09-21 12:...  0.524000   \n",
       "4801  39.833890  0     2022-09-30 08:18:00\n",
       "1     2022-09-30 08:...  3.010526   \n",
       "\n",
       "       peak_mrms  duration_r  ...  mult_correct         RQI  point_elev  \\\n",
       "0       4.608889    0.063830  ...     1.0068803  0.68295366        2938   \n",
       "1     102.840006    0.442197  ...     1.0262085   0.6992914        2938   \n",
       "2       4.160000    0.055901  ...     0.9239565    0.694086        2938   \n",
       "3       3.533334    0.891061  ...       1.05329  0.68663895        2938   \n",
       "4       7.082667    0.072874  ...     1.0066328   0.6786552        2938   \n",
       "...          ...         ...  ...           ...         ...         ...   \n",
       "4797    2.346667    0.222222  ...     0.9851422  0.64467275        2684   \n",
       "4798    2.850278    0.138889  ...    0.98438835  0.64488757        2684   \n",
       "4799    2.453333    0.280822  ...    0.98952645      0.6367        2684   \n",
       "4800    2.000000    0.400990  ...     1.0639029    0.634051        2684   \n",
       "4801    1.520000    0.726054  ...     1.1461782    0.624663        2684   \n",
       "\n",
       "     point_slope index         max       std        var      mean    median  \n",
       "0       5.242516     0  133.333328  6.747710  45.844292  2.373651  0.506667  \n",
       "1       5.242516     1   24.513334  1.887356  13.576319  0.761688  0.206667  \n",
       "2       5.242516     2  100.000000  6.016866  34.192680  2.377221  0.773333  \n",
       "3       5.242516     3   66.733330  3.438099  15.651801  1.620160  0.755556  \n",
       "4       5.242516     4   25.644442  1.052156   2.496178  0.608007  0.404444  \n",
       "...          ...   ...         ...       ...        ...       ...       ...  \n",
       "4797    2.368037  4797  114.453331  2.391843   5.332387  1.206586  0.640000  \n",
       "4798    2.368037  4798   69.200005  2.693104   7.226663  1.498888  0.786667  \n",
       "4799    2.368037  4799   68.013329  1.030605   1.056574  0.858007  0.560000  \n",
       "4800    2.368037  4800   28.957777  0.967689   2.267836  0.605248  0.355556  \n",
       "4801    2.368037  4801   68.260002  1.363148   2.185124  0.776950  0.460000  \n",
       "\n",
       "[4802 rows x 23 columns]"
      ]
     },
     "execution_count": 78,
     "metadata": {},
     "output_type": "execute_result"
    }
   ],
   "source": [
    "performance"
   ]
  },
  {
   "cell_type": "code",
   "execution_count": 81,
   "id": "5ae5206b",
   "metadata": {},
   "outputs": [],
   "source": [
    "# elevation at centroid\n",
    "filenames_elev = [i+'_'+str(j)+'_elev' for i in months for j in years]\n",
    "\n",
    "elev = []\n",
    "for i in range(len(filenames_elev)):\n",
    "    s = pd.read_feather(precip_folder+'\\\\'+filenames_elev[i])\n",
    "    s.storm_id = s.storm_id+unique[i]\n",
    "    elev.append(s)\n",
    "\n",
    "elev = pd.concat(elev)\n",
    "\n",
    "elev = [elev.loc[elev.storm_id.isin(performance.storm_id[i])].mean() for i in range(len(performance))]\n",
    "elev = pd.concat(elev,axis=1).T.reset_index()\n",
    "\n",
    "performance['storm_elev'] = elev.elevation"
   ]
  },
  {
   "cell_type": "code",
   "execution_count": 82,
   "id": "9948df30",
   "metadata": {},
   "outputs": [
    {
     "data": {
      "text/html": [
       "<div>\n",
       "<style scoped>\n",
       "    .dataframe tbody tr th:only-of-type {\n",
       "        vertical-align: middle;\n",
       "    }\n",
       "\n",
       "    .dataframe tbody tr th {\n",
       "        vertical-align: top;\n",
       "    }\n",
       "\n",
       "    .dataframe thead th {\n",
       "        text-align: right;\n",
       "    }\n",
       "</style>\n",
       "<table border=\"1\" class=\"dataframe\">\n",
       "  <thead>\n",
       "    <tr style=\"text-align: right;\">\n",
       "      <th></th>\n",
       "      <th>index</th>\n",
       "      <th>nse</th>\n",
       "      <th>cc</th>\n",
       "      <th>storm_id</th>\n",
       "      <th>longitude</th>\n",
       "      <th>latitude</th>\n",
       "      <th>times</th>\n",
       "      <th>peak_r</th>\n",
       "      <th>peak_mrms</th>\n",
       "      <th>duration_r</th>\n",
       "      <th>...</th>\n",
       "      <th>RQI</th>\n",
       "      <th>point_elev</th>\n",
       "      <th>point_slope</th>\n",
       "      <th>index</th>\n",
       "      <th>max</th>\n",
       "      <th>std</th>\n",
       "      <th>var</th>\n",
       "      <th>mean</th>\n",
       "      <th>median</th>\n",
       "      <th>storm_elev</th>\n",
       "    </tr>\n",
       "  </thead>\n",
       "  <tbody>\n",
       "    <tr>\n",
       "      <th>0</th>\n",
       "      <td>1</td>\n",
       "      <td>0.531931</td>\n",
       "      <td>0.770260</td>\n",
       "      <td>[252999.04, 0.04]</td>\n",
       "      <td>252.838319</td>\n",
       "      <td>39.658308</td>\n",
       "      <td>0     2021-07-28 20:14:00\n",
       "1     2021-07-28 20:...</td>\n",
       "      <td>0.543105</td>\n",
       "      <td>4.608889</td>\n",
       "      <td>0.063830</td>\n",
       "      <td>...</td>\n",
       "      <td>0.68295366</td>\n",
       "      <td>2938</td>\n",
       "      <td>5.242516</td>\n",
       "      <td>0</td>\n",
       "      <td>133.333328</td>\n",
       "      <td>6.747710</td>\n",
       "      <td>45.844292</td>\n",
       "      <td>2.373651</td>\n",
       "      <td>0.506667</td>\n",
       "      <td>2610.500000</td>\n",
       "    </tr>\n",
       "    <tr>\n",
       "      <th>1</th>\n",
       "      <td>2</td>\n",
       "      <td>0.934171</td>\n",
       "      <td>0.968712</td>\n",
       "      <td>[264818.04, 0.04, 262809.04, 266854.04, 270084...</td>\n",
       "      <td>252.838319</td>\n",
       "      <td>39.658308</td>\n",
       "      <td>0     2021-07-29 16:56:00\n",
       "1     2021-07-29 16:...</td>\n",
       "      <td>0.086737</td>\n",
       "      <td>102.840006</td>\n",
       "      <td>0.442197</td>\n",
       "      <td>...</td>\n",
       "      <td>0.6992914</td>\n",
       "      <td>2938</td>\n",
       "      <td>5.242516</td>\n",
       "      <td>1</td>\n",
       "      <td>24.513334</td>\n",
       "      <td>1.887356</td>\n",
       "      <td>13.576319</td>\n",
       "      <td>0.761688</td>\n",
       "      <td>0.206667</td>\n",
       "      <td>2631.000000</td>\n",
       "    </tr>\n",
       "    <tr>\n",
       "      <th>2</th>\n",
       "      <td>3</td>\n",
       "      <td>0.410588</td>\n",
       "      <td>0.709249</td>\n",
       "      <td>[276790.04, 0.04]</td>\n",
       "      <td>252.838319</td>\n",
       "      <td>39.658308</td>\n",
       "      <td>0     2021-07-30 15:50:00\n",
       "1     2021-07-30 15:...</td>\n",
       "      <td>2.419231</td>\n",
       "      <td>4.160000</td>\n",
       "      <td>0.055901</td>\n",
       "      <td>...</td>\n",
       "      <td>0.694086</td>\n",
       "      <td>2938</td>\n",
       "      <td>5.242516</td>\n",
       "      <td>2</td>\n",
       "      <td>100.000000</td>\n",
       "      <td>6.016866</td>\n",
       "      <td>34.192680</td>\n",
       "      <td>2.377221</td>\n",
       "      <td>0.773333</td>\n",
       "      <td>2818.500000</td>\n",
       "    </tr>\n",
       "    <tr>\n",
       "      <th>3</th>\n",
       "      <td>4</td>\n",
       "      <td>-1.191935</td>\n",
       "      <td>0.810799</td>\n",
       "      <td>[295592.04, 0.04, 296062.04, 1.06, 0.06]</td>\n",
       "      <td>252.838319</td>\n",
       "      <td>39.658308</td>\n",
       "      <td>0     2021-07-31 08:30:00\n",
       "1     2021-07-31 08:...</td>\n",
       "      <td>0.424906</td>\n",
       "      <td>3.533334</td>\n",
       "      <td>0.891061</td>\n",
       "      <td>...</td>\n",
       "      <td>0.68663895</td>\n",
       "      <td>2938</td>\n",
       "      <td>5.242516</td>\n",
       "      <td>3</td>\n",
       "      <td>66.733330</td>\n",
       "      <td>3.438099</td>\n",
       "      <td>15.651801</td>\n",
       "      <td>1.620160</td>\n",
       "      <td>0.755556</td>\n",
       "      <td>2361.200000</td>\n",
       "    </tr>\n",
       "    <tr>\n",
       "      <th>4</th>\n",
       "      <td>6</td>\n",
       "      <td>0.449628</td>\n",
       "      <td>0.676179</td>\n",
       "      <td>[18800.06, 0.06, 26719.06, 26594.06]</td>\n",
       "      <td>252.838319</td>\n",
       "      <td>39.658308</td>\n",
       "      <td>0     2021-08-02 13:38:00\n",
       "1     2021-08-02 13:...</td>\n",
       "      <td>0.434488</td>\n",
       "      <td>7.082667</td>\n",
       "      <td>0.072874</td>\n",
       "      <td>...</td>\n",
       "      <td>0.6786552</td>\n",
       "      <td>2938</td>\n",
       "      <td>5.242516</td>\n",
       "      <td>4</td>\n",
       "      <td>25.644442</td>\n",
       "      <td>1.052156</td>\n",
       "      <td>2.496178</td>\n",
       "      <td>0.608007</td>\n",
       "      <td>0.404444</td>\n",
       "      <td>2337.000000</td>\n",
       "    </tr>\n",
       "    <tr>\n",
       "      <th>...</th>\n",
       "      <td>...</td>\n",
       "      <td>...</td>\n",
       "      <td>...</td>\n",
       "      <td>...</td>\n",
       "      <td>...</td>\n",
       "      <td>...</td>\n",
       "      <td>...</td>\n",
       "      <td>...</td>\n",
       "      <td>...</td>\n",
       "      <td>...</td>\n",
       "      <td>...</td>\n",
       "      <td>...</td>\n",
       "      <td>...</td>\n",
       "      <td>...</td>\n",
       "      <td>...</td>\n",
       "      <td>...</td>\n",
       "      <td>...</td>\n",
       "      <td>...</td>\n",
       "      <td>...</td>\n",
       "      <td>...</td>\n",
       "      <td>...</td>\n",
       "    </tr>\n",
       "    <tr>\n",
       "      <th>4797</th>\n",
       "      <td>8307</td>\n",
       "      <td>-0.122722</td>\n",
       "      <td>0.545547</td>\n",
       "      <td>[164623.07, 0.07]</td>\n",
       "      <td>253.944170</td>\n",
       "      <td>39.833890</td>\n",
       "      <td>0     2022-08-21 14:48:00\n",
       "1     2022-08-21 14:...</td>\n",
       "      <td>0.134091</td>\n",
       "      <td>2.346667</td>\n",
       "      <td>0.222222</td>\n",
       "      <td>...</td>\n",
       "      <td>0.64467275</td>\n",
       "      <td>2684</td>\n",
       "      <td>2.368037</td>\n",
       "      <td>4797</td>\n",
       "      <td>114.453331</td>\n",
       "      <td>2.391843</td>\n",
       "      <td>5.332387</td>\n",
       "      <td>1.206586</td>\n",
       "      <td>0.640000</td>\n",
       "      <td>2525.500000</td>\n",
       "    </tr>\n",
       "    <tr>\n",
       "      <th>4798</th>\n",
       "      <td>8308</td>\n",
       "      <td>0.155788</td>\n",
       "      <td>0.545315</td>\n",
       "      <td>[190859.07, 0.07]</td>\n",
       "      <td>253.944170</td>\n",
       "      <td>39.833890</td>\n",
       "      <td>0     2022-08-22 13:46:00\n",
       "1     2022-08-22 13:...</td>\n",
       "      <td>1.495195</td>\n",
       "      <td>2.850278</td>\n",
       "      <td>0.138889</td>\n",
       "      <td>...</td>\n",
       "      <td>0.64488757</td>\n",
       "      <td>2684</td>\n",
       "      <td>2.368037</td>\n",
       "      <td>4798</td>\n",
       "      <td>69.200005</td>\n",
       "      <td>2.693104</td>\n",
       "      <td>7.226663</td>\n",
       "      <td>1.498888</td>\n",
       "      <td>0.786667</td>\n",
       "      <td>3171.500000</td>\n",
       "    </tr>\n",
       "    <tr>\n",
       "      <th>4799</th>\n",
       "      <td>8314</td>\n",
       "      <td>0.411993</td>\n",
       "      <td>0.808136</td>\n",
       "      <td>[96217.09, 0.09]</td>\n",
       "      <td>253.944170</td>\n",
       "      <td>39.833890</td>\n",
       "      <td>0     2022-09-15 08:24:00\n",
       "1     2022-09-15 08:...</td>\n",
       "      <td>0.171739</td>\n",
       "      <td>2.453333</td>\n",
       "      <td>0.280822</td>\n",
       "      <td>...</td>\n",
       "      <td>0.6367</td>\n",
       "      <td>2684</td>\n",
       "      <td>2.368037</td>\n",
       "      <td>4799</td>\n",
       "      <td>68.013329</td>\n",
       "      <td>1.030605</td>\n",
       "      <td>1.056574</td>\n",
       "      <td>0.858007</td>\n",
       "      <td>0.560000</td>\n",
       "      <td>2663.500000</td>\n",
       "    </tr>\n",
       "    <tr>\n",
       "      <th>4800</th>\n",
       "      <td>8316</td>\n",
       "      <td>0.018987</td>\n",
       "      <td>0.352857</td>\n",
       "      <td>[153786.09, 0.09, 182545.09, 187533.09, 186254...</td>\n",
       "      <td>253.944170</td>\n",
       "      <td>39.833890</td>\n",
       "      <td>0     2022-09-21 12:50:00\n",
       "1     2022-09-21 12:...</td>\n",
       "      <td>0.524000</td>\n",
       "      <td>2.000000</td>\n",
       "      <td>0.400990</td>\n",
       "      <td>...</td>\n",
       "      <td>0.634051</td>\n",
       "      <td>2684</td>\n",
       "      <td>2.368037</td>\n",
       "      <td>4800</td>\n",
       "      <td>28.957777</td>\n",
       "      <td>0.967689</td>\n",
       "      <td>2.267836</td>\n",
       "      <td>0.605248</td>\n",
       "      <td>0.355556</td>\n",
       "      <td>2545.714286</td>\n",
       "    </tr>\n",
       "    <tr>\n",
       "      <th>4801</th>\n",
       "      <td>8319</td>\n",
       "      <td>0.415252</td>\n",
       "      <td>0.832509</td>\n",
       "      <td>[246141.09, 0.09, 251126.09]</td>\n",
       "      <td>253.944170</td>\n",
       "      <td>39.833890</td>\n",
       "      <td>0     2022-09-30 08:18:00\n",
       "1     2022-09-30 08:...</td>\n",
       "      <td>3.010526</td>\n",
       "      <td>1.520000</td>\n",
       "      <td>0.726054</td>\n",
       "      <td>...</td>\n",
       "      <td>0.624663</td>\n",
       "      <td>2684</td>\n",
       "      <td>2.368037</td>\n",
       "      <td>4801</td>\n",
       "      <td>68.260002</td>\n",
       "      <td>1.363148</td>\n",
       "      <td>2.185124</td>\n",
       "      <td>0.776950</td>\n",
       "      <td>0.460000</td>\n",
       "      <td>2355.666667</td>\n",
       "    </tr>\n",
       "  </tbody>\n",
       "</table>\n",
       "<p>4802 rows × 24 columns</p>\n",
       "</div>"
      ],
      "text/plain": [
       "     index       nse        cc  \\\n",
       "0        1  0.531931  0.770260   \n",
       "1        2  0.934171  0.968712   \n",
       "2        3  0.410588  0.709249   \n",
       "3        4 -1.191935  0.810799   \n",
       "4        6  0.449628  0.676179   \n",
       "...    ...       ...       ...   \n",
       "4797  8307 -0.122722  0.545547   \n",
       "4798  8308  0.155788  0.545315   \n",
       "4799  8314  0.411993  0.808136   \n",
       "4800  8316  0.018987  0.352857   \n",
       "4801  8319  0.415252  0.832509   \n",
       "\n",
       "                                               storm_id   longitude  \\\n",
       "0                                     [252999.04, 0.04]  252.838319   \n",
       "1     [264818.04, 0.04, 262809.04, 266854.04, 270084...  252.838319   \n",
       "2                                     [276790.04, 0.04]  252.838319   \n",
       "3              [295592.04, 0.04, 296062.04, 1.06, 0.06]  252.838319   \n",
       "4                  [18800.06, 0.06, 26719.06, 26594.06]  252.838319   \n",
       "...                                                 ...         ...   \n",
       "4797                                  [164623.07, 0.07]  253.944170   \n",
       "4798                                  [190859.07, 0.07]  253.944170   \n",
       "4799                                   [96217.09, 0.09]  253.944170   \n",
       "4800  [153786.09, 0.09, 182545.09, 187533.09, 186254...  253.944170   \n",
       "4801                       [246141.09, 0.09, 251126.09]  253.944170   \n",
       "\n",
       "       latitude                                              times    peak_r  \\\n",
       "0     39.658308  0     2021-07-28 20:14:00\n",
       "1     2021-07-28 20:...  0.543105   \n",
       "1     39.658308  0     2021-07-29 16:56:00\n",
       "1     2021-07-29 16:...  0.086737   \n",
       "2     39.658308  0     2021-07-30 15:50:00\n",
       "1     2021-07-30 15:...  2.419231   \n",
       "3     39.658308  0     2021-07-31 08:30:00\n",
       "1     2021-07-31 08:...  0.424906   \n",
       "4     39.658308  0     2021-08-02 13:38:00\n",
       "1     2021-08-02 13:...  0.434488   \n",
       "...         ...                                                ...       ...   \n",
       "4797  39.833890  0     2022-08-21 14:48:00\n",
       "1     2022-08-21 14:...  0.134091   \n",
       "4798  39.833890  0     2022-08-22 13:46:00\n",
       "1     2022-08-22 13:...  1.495195   \n",
       "4799  39.833890  0     2022-09-15 08:24:00\n",
       "1     2022-09-15 08:...  0.171739   \n",
       "4800  39.833890  0     2022-09-21 12:50:00\n",
       "1     2022-09-21 12:...  0.524000   \n",
       "4801  39.833890  0     2022-09-30 08:18:00\n",
       "1     2022-09-30 08:...  3.010526   \n",
       "\n",
       "       peak_mrms  duration_r  ...         RQI point_elev  point_slope index  \\\n",
       "0       4.608889    0.063830  ...  0.68295366       2938     5.242516     0   \n",
       "1     102.840006    0.442197  ...   0.6992914       2938     5.242516     1   \n",
       "2       4.160000    0.055901  ...    0.694086       2938     5.242516     2   \n",
       "3       3.533334    0.891061  ...  0.68663895       2938     5.242516     3   \n",
       "4       7.082667    0.072874  ...   0.6786552       2938     5.242516     4   \n",
       "...          ...         ...  ...         ...        ...          ...   ...   \n",
       "4797    2.346667    0.222222  ...  0.64467275       2684     2.368037  4797   \n",
       "4798    2.850278    0.138889  ...  0.64488757       2684     2.368037  4798   \n",
       "4799    2.453333    0.280822  ...      0.6367       2684     2.368037  4799   \n",
       "4800    2.000000    0.400990  ...    0.634051       2684     2.368037  4800   \n",
       "4801    1.520000    0.726054  ...    0.624663       2684     2.368037  4801   \n",
       "\n",
       "             max       std        var      mean    median   storm_elev  \n",
       "0     133.333328  6.747710  45.844292  2.373651  0.506667  2610.500000  \n",
       "1      24.513334  1.887356  13.576319  0.761688  0.206667  2631.000000  \n",
       "2     100.000000  6.016866  34.192680  2.377221  0.773333  2818.500000  \n",
       "3      66.733330  3.438099  15.651801  1.620160  0.755556  2361.200000  \n",
       "4      25.644442  1.052156   2.496178  0.608007  0.404444  2337.000000  \n",
       "...          ...       ...        ...       ...       ...          ...  \n",
       "4797  114.453331  2.391843   5.332387  1.206586  0.640000  2525.500000  \n",
       "4798   69.200005  2.693104   7.226663  1.498888  0.786667  3171.500000  \n",
       "4799   68.013329  1.030605   1.056574  0.858007  0.560000  2663.500000  \n",
       "4800   28.957777  0.967689   2.267836  0.605248  0.355556  2545.714286  \n",
       "4801   68.260002  1.363148   2.185124  0.776950  0.460000  2355.666667  \n",
       "\n",
       "[4802 rows x 24 columns]"
      ]
     },
     "execution_count": 82,
     "metadata": {},
     "output_type": "execute_result"
    }
   ],
   "source": [
    "performance"
   ]
  },
  {
   "cell_type": "code",
   "execution_count": 53,
   "id": "1283635c",
   "metadata": {
    "scrolled": true
   },
   "outputs": [],
   "source": [
    "# accum\n",
    "filenames_accum = [i+'_'+str(j)+'_accum' for i in months for j in years]\n",
    "\n",
    "accum_mean = []\n",
    "accum_max = []\n",
    "for i in range(len(filenames_accum)):\n",
    "    s = pd.read_feather(precip_folder+'\\\\'+filenames_accum[i])\n",
    "    s.storm_id = s.storm_id+unique[i]\n",
    "    accum_mean.append(s.groupby(['storm_id']).mean())\n",
    "    accum_max.append(s.groupby(['storm_id']).max())\n",
    "\n",
    "accum_mean = pd.concat(accum_mean).reset_index()\n",
    "accum_max = pd.concat(accum_max).reset_index()\n",
    "\n",
    "accum_mean = [accum_mean.loc[accum_mean.storm_id==i] for i in performance.storm_id]\n",
    "accum_mean = pd.concat(accum_mean).reset_index()\n",
    "performance['accum_mean_storm'] = accum_mean.unknown\n",
    "\n",
    "accum_max = [accum_max.loc[accum_max.storm_id==i] for i in performance.storm_id]\n",
    "accum_max = pd.concat(accum_max).reset_index()\n",
    "performance['accum_max_storm'] = accum_max.unknown\n"
   ]
  },
  {
   "cell_type": "code",
   "execution_count": 54,
   "id": "21977643",
   "metadata": {},
   "outputs": [
    {
     "data": {
      "text/plain": [
       "\"# area of footprint\\nfilenames_area = [i+'_'+str(j)+'_area' for i in months for j in years]\\n\\narea = []\\nfor i in range(len(filenames_area)):\\n    s = pd.read_feather(precip_folder+'\\\\'+filenames_area[i])\\n    s.storm_id = s.storm_id+unique[i]\\n    area.append(s)\\n\\narea = pd.concat(area)\\n\\narea = [area.loc[area.storm_id==i] for i in performance.storm_id]\\narea = pd.concat(area).reset_index()\\nperformance['area_storm'] = area.area\""
      ]
     },
     "execution_count": 54,
     "metadata": {},
     "output_type": "execute_result"
    }
   ],
   "source": [
    "'''# area of footprint\n",
    "filenames_area = [i+'_'+str(j)+'_area' for i in months for j in years]\n",
    "\n",
    "area = []\n",
    "for i in range(len(filenames_area)):\n",
    "    s = pd.read_feather(precip_folder+'\\\\'+filenames_area[i])\n",
    "    s.storm_id = s.storm_id+unique[i]\n",
    "    area.append(s)\n",
    "\n",
    "area = pd.concat(area)\n",
    "\n",
    "area = [area.loc[area.storm_id==i] for i in performance.storm_id]\n",
    "area = pd.concat(area).reset_index()\n",
    "performance['area_storm'] = area.area'''\n"
   ]
  },
  {
   "cell_type": "code",
   "execution_count": 55,
   "id": "9c7cb687",
   "metadata": {},
   "outputs": [],
   "source": [
    "# storm duration\n",
    "filenames_dur = [i+'_'+str(j)+'_dur' for i in months for j in years]\n",
    "\n",
    "dur = []\n",
    "for i in range(len(filenames_dur)):\n",
    "    s = pd.read_feather(precip_folder+'\\\\'+filenames_dur[i])\n",
    "    s.storm_id = s.storm_id+unique[i]\n",
    "    dur.append(s)\n",
    "\n",
    "dur = pd.concat(dur)\n",
    "\n",
    "dur = [dur.loc[dur.storm_id==i] for i in performance.storm_id]\n",
    "dur = pd.concat(dur).reset_index()\n",
    "performance['duration_storm'] = dur['duration (min)']"
   ]
  },
  {
   "cell_type": "code",
   "execution_count": 56,
   "id": "f18a5df8",
   "metadata": {},
   "outputs": [],
   "source": [
    "# major length\n",
    "# minor length\n",
    "# eccentricity\n",
    "# area\n",
    "# max, mean, median, variance\n",
    "filenames_shape = [i+'_'+str(j)+'_shape' for i in months for j in years]\n",
    "\n",
    "shape = []\n",
    "for i in range(len(filenames_shape)):\n",
    "    s = pd.read_feather(precip_folder+'\\\\'+filenames_shape[i])\n",
    "    s.storm_id = s.storm_id+unique[i]\n",
    "    shape.append(s)\n",
    "shape = pd.concat(shape)\n",
    "shape = [shape.loc[shape.storm_id==i] for i in performance.storm_id]\n",
    "shape = pd.concat(shape)\n",
    "shape = shape.drop(columns=['storm_id']).reset_index()\n",
    "performance = pd.concat([performance,shape],axis=1)\n"
   ]
  },
  {
   "cell_type": "code",
   "execution_count": 57,
   "id": "e57f4963",
   "metadata": {},
   "outputs": [],
   "source": [
    "# velocity\n",
    "filenames_vel = [i+'_'+str(j)+'_vel' for i in months for j in years]\n",
    "\n",
    "vel = []\n",
    "for i in range(len(filenames_vel)):\n",
    "    s = pd.read_feather(precip_folder+'\\\\'+filenames_vel[i])\n",
    "    s.storm_id = s.storm_id+unique[i]\n",
    "    vel.append(s)\n",
    "\n",
    "vel = pd.concat(vel)\n",
    "\n",
    "vel = [vel.loc[vel.storm_id==i] for i in performance.storm_id]\n",
    "vel = pd.concat(vel).reset_index()\n",
    "performance['velocity_storm']=vel.velocity"
   ]
  },
  {
   "cell_type": "code",
   "execution_count": 58,
   "id": "306543da",
   "metadata": {
    "scrolled": false
   },
   "outputs": [],
   "source": [
    "performance=performance.drop(columns=['index', 'nse','cc','times','peak_r','duration_r','storm_id'])"
   ]
  },
  {
   "cell_type": "code",
   "execution_count": 59,
   "id": "af3b0353",
   "metadata": {},
   "outputs": [],
   "source": [
    "good = performance.loc[performance.label=='good'].drop(columns=['label'])\n",
    "bad = performance.loc[performance.label=='bad'].drop(columns=['label'])"
   ]
  },
  {
   "cell_type": "code",
   "execution_count": 60,
   "id": "ddd9d085",
   "metadata": {
    "scrolled": true
   },
   "outputs": [
    {
     "data": {
      "image/png": "[encoded data removed]",
      "text/plain": [
       "<Figure size 640x480 with 1 Axes>"
      ]
     },
     "metadata": {},
     "output_type": "display_data"
    },
    {
     "data": {
      "image/png": "[encoded data removed]",
      "text/plain": [
       "<Figure size 640x480 with 1 Axes>"
      ]
     },
     "metadata": {},
     "output_type": "display_data"
    },
    {
     "data": {
      "image/png": "[encoded data removed]",
      "text/plain": [
       "<Figure size 640x480 with 1 Axes>"
      ]
     },
     "metadata": {},
     "output_type": "display_data"
    },
    {
     "data": {
      "image/png": "[encoded data removed]",
      "text/plain": [
       "<Figure size 640x480 with 1 Axes>"
      ]
     },
     "metadata": {},
     "output_type": "display_data"
    },
    {
     "data": {
      "image/png": "[encoded data removed]",
      "text/plain": [
       "<Figure size 640x480 with 1 Axes>"
      ]
     },
     "metadata": {},
     "output_type": "display_data"
    },
    {
     "data": {
      "image/png": "[encoded data removed]",
      "text/plain": [
       "<Figure size 640x480 with 1 Axes>"
      ]
     },
     "metadata": {},
     "output_type": "display_data"
    },
    {
     "data": {
      "image/png": "[encoded data removed]",
      "text/plain": [
       "<Figure size 640x480 with 1 Axes>"
      ]
     },
     "metadata": {},
     "output_type": "display_data"
    },
    {
     "data": {
      "image/png": "[encoded data removed]",
      "text/plain": [
       "<Figure size 640x480 with 1 Axes>"
      ]
     },
     "metadata": {},
     "output_type": "display_data"
    },
    {
     "data": {
      "image/png": "[encoded data removed]",
      "text/plain": [
       "<Figure size 640x480 with 1 Axes>"
      ]
     },
     "metadata": {},
     "output_type": "display_data"
    },
    {
     "data": {
      "image/png": "[encoded data removed]",
      "text/plain": [
       "<Figure size 640x480 with 1 Axes>"
      ]
     },
     "metadata": {},
     "output_type": "display_data"
    },
    {
     "data": {
      "image/png": "[encoded data removed]",
      "text/plain": [
       "<Figure size 640x480 with 1 Axes>"
      ]
     },
     "metadata": {},
     "output_type": "display_data"
    },
    {
     "data": {
      "image/png": "[encoded data removed]",
      "text/plain": [
       "<Figure size 640x480 with 1 Axes>"
      ]
     },
     "metadata": {},
     "output_type": "display_data"
    },
    {
     "data": {
      "image/png": "[encoded data removed]",
      "text/plain": [
       "<Figure size 640x480 with 1 Axes>"
      ]
     },
     "metadata": {},
     "output_type": "display_data"
    },
    {
     "data": {
      "image/png": "[encoded data removed]",
      "text/plain": [
       "<Figure size 640x480 with 1 Axes>"
      ]
     },
     "metadata": {},
     "output_type": "display_data"
    },
    {
     "data": {
      "image/png": "[encoded data removed]",
      "text/plain": [
       "<Figure size 640x480 with 1 Axes>"
      ]
     },
     "metadata": {},
     "output_type": "display_data"
    },
    {
     "data": {
      "image/png": "[encoded data removed]",
      "text/plain": [
       "<Figure size 640x480 with 1 Axes>"
      ]
     },
     "metadata": {},
     "output_type": "display_data"
    },
    {
     "data": {
      "image/png": "[encoded data removed]",
      "text/plain": [
       "<Figure size 640x480 with 1 Axes>"
      ]
     },
     "metadata": {},
     "output_type": "display_data"
    },
    {
     "data": {
      "image/png": "[encoded data removed]",
      "text/plain": [
       "<Figure size 640x480 with 1 Axes>"
      ]
     },
     "metadata": {},
     "output_type": "display_data"
    },
    {
     "data": {
      "image/png": "[encoded data removed]",
      "text/plain": [
       "<Figure size 640x480 with 1 Axes>"
      ]
     },
     "metadata": {},
     "output_type": "display_data"
    },
    {
     "data": {
      "image/png": "[encoded data removed]",
      "text/plain": [
       "<Figure size 640x480 with 1 Axes>"
      ]
     },
     "metadata": {},
     "output_type": "display_data"
    },
    {
     "data": {
      "image/png": "[encoded data removed]",
      "text/plain": [
       "<Figure size 640x480 with 1 Axes>"
      ]
     },
     "metadata": {},
     "output_type": "display_data"
    },
    {
     "data": {
      "image/png": "[encoded data removed]",
      "text/plain": [
       "<Figure size 640x480 with 1 Axes>"
      ]
     },
     "metadata": {},
     "output_type": "display_data"
    },
    {
     "data": {
      "image/png": "[encoded data removed]",
      "text/plain": [
       "<Figure size 640x480 with 1 Axes>"
      ]
     },
     "metadata": {},
     "output_type": "display_data"
    }
   ],
   "source": [
    "for i in good.columns:\n",
    "    #plt.scatter(good.index,good[i],c='r',marker='+')\n",
    "    #plt.scatter(bad.index,bad[i],c='g',marker='+')\n",
    "    data = [good[i].astype('float').dropna(),bad[i].astype('float').dropna()]\n",
    "    \n",
    "    plt.violinplot(data)\n",
    "\n",
    "    plt.xticks([1,2],labels=['good', 'bad'])\n",
    "    plt.ylabel('observed values')\n",
    "    plt.title(i)\n",
    "    plt.show()"
   ]
  },
  {
   "cell_type": "code",
   "execution_count": 61,
   "id": "f5f06834",
   "metadata": {},
   "outputs": [],
   "source": [
    "performance['area']=performance['area'].astype('float')\n",
    "performance['axis_major_length']=performance['axis_major_length'].astype('float')\n",
    "performance['axis_minor_length']=performance['axis_minor_length'].astype('float')\n",
    "performance['eccentricity']=performance['eccentricity'].astype('float')"
   ]
  },
  {
   "cell_type": "code",
   "execution_count": 62,
   "id": "83473b82",
   "metadata": {
    "scrolled": true
   },
   "outputs": [
    {
     "data": {
      "text/html": [
       "<div>\n",
       "<style scoped>\n",
       "    .dataframe tbody tr th:only-of-type {\n",
       "        vertical-align: middle;\n",
       "    }\n",
       "\n",
       "    .dataframe tbody tr th {\n",
       "        vertical-align: top;\n",
       "    }\n",
       "\n",
       "    .dataframe thead th {\n",
       "        text-align: right;\n",
       "    }\n",
       "</style>\n",
       "<table border=\"1\" class=\"dataframe\">\n",
       "  <thead>\n",
       "    <tr style=\"text-align: right;\">\n",
       "      <th></th>\n",
       "      <th>peak_mrms</th>\n",
       "      <th>duration_mrms</th>\n",
       "      <th>label</th>\n",
       "      <th>month</th>\n",
       "      <th>latitude</th>\n",
       "      <th>longitude</th>\n",
       "      <th>mult_correct</th>\n",
       "      <th>RQI</th>\n",
       "      <th>point_elev</th>\n",
       "      <th>point_slope</th>\n",
       "      <th>...</th>\n",
       "      <th>median</th>\n",
       "      <th>storm_elev</th>\n",
       "      <th>accum_mean_storm</th>\n",
       "      <th>accum_max_storm</th>\n",
       "      <th>duration_storm</th>\n",
       "      <th>area</th>\n",
       "      <th>axis_major_length</th>\n",
       "      <th>axis_minor_length</th>\n",
       "      <th>eccentricity</th>\n",
       "      <th>velocity_storm</th>\n",
       "    </tr>\n",
       "  </thead>\n",
       "  <tbody>\n",
       "    <tr>\n",
       "      <th>297</th>\n",
       "      <td>1.066667</td>\n",
       "      <td>84.0</td>\n",
       "      <td>bad</td>\n",
       "      <td>7</td>\n",
       "      <td>40.543683</td>\n",
       "      <td>254.118267</td>\n",
       "      <td>0.9261701</td>\n",
       "      <td>0.70708257</td>\n",
       "      <td>3082</td>\n",
       "      <td>5.118838</td>\n",
       "      <td>...</td>\n",
       "      <td>0.026667</td>\n",
       "      <td>3171</td>\n",
       "      <td>0.006667</td>\n",
       "      <td>0.006667</td>\n",
       "      <td>0</td>\n",
       "      <td>1.0</td>\n",
       "      <td>0.000000</td>\n",
       "      <td>0.000000</td>\n",
       "      <td>0.000000</td>\n",
       "      <td>NaN</td>\n",
       "    </tr>\n",
       "    <tr>\n",
       "      <th>1331</th>\n",
       "      <td>1.146667</td>\n",
       "      <td>54.0</td>\n",
       "      <td>bad</td>\n",
       "      <td>5</td>\n",
       "      <td>40.558797</td>\n",
       "      <td>254.820255</td>\n",
       "      <td>0.95168996</td>\n",
       "      <td>0.69030136</td>\n",
       "      <td>1775</td>\n",
       "      <td>11.421252</td>\n",
       "      <td>...</td>\n",
       "      <td>0.026667</td>\n",
       "      <td>1540</td>\n",
       "      <td>0.006667</td>\n",
       "      <td>0.006667</td>\n",
       "      <td>0</td>\n",
       "      <td>1.0</td>\n",
       "      <td>0.000000</td>\n",
       "      <td>0.000000</td>\n",
       "      <td>0.000000</td>\n",
       "      <td>NaN</td>\n",
       "    </tr>\n",
       "    <tr>\n",
       "      <th>1363</th>\n",
       "      <td>1.053333</td>\n",
       "      <td>32.0</td>\n",
       "      <td>bad</td>\n",
       "      <td>9</td>\n",
       "      <td>40.407387</td>\n",
       "      <td>254.407520</td>\n",
       "      <td>0.9447607</td>\n",
       "      <td>0.6971067</td>\n",
       "      <td>2562</td>\n",
       "      <td>12.494040</td>\n",
       "      <td>...</td>\n",
       "      <td>0.140000</td>\n",
       "      <td>1508</td>\n",
       "      <td>0.034524</td>\n",
       "      <td>0.040000</td>\n",
       "      <td>0</td>\n",
       "      <td>14.0</td>\n",
       "      <td>6.581077</td>\n",
       "      <td>2.656458</td>\n",
       "      <td>0.914913</td>\n",
       "      <td>NaN</td>\n",
       "    </tr>\n",
       "    <tr>\n",
       "      <th>1367</th>\n",
       "      <td>4.026667</td>\n",
       "      <td>60.0</td>\n",
       "      <td>good</td>\n",
       "      <td>9</td>\n",
       "      <td>40.407387</td>\n",
       "      <td>254.407520</td>\n",
       "      <td>0.87801266</td>\n",
       "      <td>0.697167</td>\n",
       "      <td>2562</td>\n",
       "      <td>12.494040</td>\n",
       "      <td>...</td>\n",
       "      <td>0.146667</td>\n",
       "      <td>3053</td>\n",
       "      <td>0.036667</td>\n",
       "      <td>0.036667</td>\n",
       "      <td>0</td>\n",
       "      <td>1.0</td>\n",
       "      <td>0.000000</td>\n",
       "      <td>0.000000</td>\n",
       "      <td>0.000000</td>\n",
       "      <td>NaN</td>\n",
       "    </tr>\n",
       "    <tr>\n",
       "      <th>1381</th>\n",
       "      <td>4.506667</td>\n",
       "      <td>60.0</td>\n",
       "      <td>bad</td>\n",
       "      <td>7</td>\n",
       "      <td>40.407387</td>\n",
       "      <td>254.407520</td>\n",
       "      <td>0.8764059</td>\n",
       "      <td>0.6395299</td>\n",
       "      <td>2562</td>\n",
       "      <td>12.494040</td>\n",
       "      <td>...</td>\n",
       "      <td>0.153333</td>\n",
       "      <td>2844</td>\n",
       "      <td>0.038333</td>\n",
       "      <td>0.043333</td>\n",
       "      <td>0</td>\n",
       "      <td>8.0</td>\n",
       "      <td>4.507894</td>\n",
       "      <td>2.104493</td>\n",
       "      <td>0.884338</td>\n",
       "      <td>NaN</td>\n",
       "    </tr>\n",
       "    <tr>\n",
       "      <th>...</th>\n",
       "      <td>...</td>\n",
       "      <td>...</td>\n",
       "      <td>...</td>\n",
       "      <td>...</td>\n",
       "      <td>...</td>\n",
       "      <td>...</td>\n",
       "      <td>...</td>\n",
       "      <td>...</td>\n",
       "      <td>...</td>\n",
       "      <td>...</td>\n",
       "      <td>...</td>\n",
       "      <td>...</td>\n",
       "      <td>...</td>\n",
       "      <td>...</td>\n",
       "      <td>...</td>\n",
       "      <td>...</td>\n",
       "      <td>...</td>\n",
       "      <td>...</td>\n",
       "      <td>...</td>\n",
       "      <td>...</td>\n",
       "      <td>...</td>\n",
       "    </tr>\n",
       "    <tr>\n",
       "      <th>6381</th>\n",
       "      <td>2.373333</td>\n",
       "      <td>120.0</td>\n",
       "      <td>bad</td>\n",
       "      <td>7</td>\n",
       "      <td>40.265280</td>\n",
       "      <td>254.111390</td>\n",
       "      <td>0.97944874</td>\n",
       "      <td>0.64739</td>\n",
       "      <td>2837</td>\n",
       "      <td>1.970671</td>\n",
       "      <td>...</td>\n",
       "      <td>0.026667</td>\n",
       "      <td>2892</td>\n",
       "      <td>0.006667</td>\n",
       "      <td>0.006667</td>\n",
       "      <td>0</td>\n",
       "      <td>1.0</td>\n",
       "      <td>0.000000</td>\n",
       "      <td>0.000000</td>\n",
       "      <td>0.000000</td>\n",
       "      <td>NaN</td>\n",
       "    </tr>\n",
       "    <tr>\n",
       "      <th>6548</th>\n",
       "      <td>3.893334</td>\n",
       "      <td>48.0</td>\n",
       "      <td>bad</td>\n",
       "      <td>7</td>\n",
       "      <td>40.351667</td>\n",
       "      <td>253.784722</td>\n",
       "      <td>0.870102</td>\n",
       "      <td>0.7060096</td>\n",
       "      <td>2962</td>\n",
       "      <td>2.500761</td>\n",
       "      <td>...</td>\n",
       "      <td>0.066667</td>\n",
       "      <td>2599</td>\n",
       "      <td>0.010000</td>\n",
       "      <td>0.010000</td>\n",
       "      <td>0</td>\n",
       "      <td>1.0</td>\n",
       "      <td>0.000000</td>\n",
       "      <td>0.000000</td>\n",
       "      <td>0.000000</td>\n",
       "      <td>NaN</td>\n",
       "    </tr>\n",
       "    <tr>\n",
       "      <th>6590</th>\n",
       "      <td>3.720000</td>\n",
       "      <td>116.0</td>\n",
       "      <td>bad</td>\n",
       "      <td>6</td>\n",
       "      <td>40.347030</td>\n",
       "      <td>253.905670</td>\n",
       "      <td>1.0543368</td>\n",
       "      <td>0.5791561</td>\n",
       "      <td>2921</td>\n",
       "      <td>9.012845</td>\n",
       "      <td>...</td>\n",
       "      <td>0.066667</td>\n",
       "      <td>3257</td>\n",
       "      <td>0.010000</td>\n",
       "      <td>0.010000</td>\n",
       "      <td>0</td>\n",
       "      <td>1.0</td>\n",
       "      <td>0.000000</td>\n",
       "      <td>0.000000</td>\n",
       "      <td>0.000000</td>\n",
       "      <td>NaN</td>\n",
       "    </tr>\n",
       "    <tr>\n",
       "      <th>6605</th>\n",
       "      <td>17.653334</td>\n",
       "      <td>120.0</td>\n",
       "      <td>bad</td>\n",
       "      <td>7</td>\n",
       "      <td>40.347030</td>\n",
       "      <td>253.905670</td>\n",
       "      <td>1.0082786</td>\n",
       "      <td>0.5839421</td>\n",
       "      <td>2921</td>\n",
       "      <td>9.012845</td>\n",
       "      <td>...</td>\n",
       "      <td>0.040000</td>\n",
       "      <td>3028</td>\n",
       "      <td>0.010000</td>\n",
       "      <td>0.010000</td>\n",
       "      <td>0</td>\n",
       "      <td>1.0</td>\n",
       "      <td>0.000000</td>\n",
       "      <td>0.000000</td>\n",
       "      <td>0.000000</td>\n",
       "      <td>NaN</td>\n",
       "    </tr>\n",
       "    <tr>\n",
       "      <th>6775</th>\n",
       "      <td>1.680000</td>\n",
       "      <td>120.0</td>\n",
       "      <td>good</td>\n",
       "      <td>6</td>\n",
       "      <td>39.833890</td>\n",
       "      <td>253.944170</td>\n",
       "      <td>0.90539205</td>\n",
       "      <td>0.5992887</td>\n",
       "      <td>2684</td>\n",
       "      <td>2.368037</td>\n",
       "      <td>...</td>\n",
       "      <td>0.053333</td>\n",
       "      <td>3651</td>\n",
       "      <td>0.006667</td>\n",
       "      <td>0.006667</td>\n",
       "      <td>0</td>\n",
       "      <td>1.0</td>\n",
       "      <td>0.000000</td>\n",
       "      <td>0.000000</td>\n",
       "      <td>0.000000</td>\n",
       "      <td>NaN</td>\n",
       "    </tr>\n",
       "  </tbody>\n",
       "</table>\n",
       "<p>176 rows × 24 columns</p>\n",
       "</div>"
      ],
      "text/plain": [
       "      peak_mrms  duration_mrms label  month   latitude   longitude  \\\n",
       "297    1.066667           84.0   bad      7  40.543683  254.118267   \n",
       "1331   1.146667           54.0   bad      5  40.558797  254.820255   \n",
       "1363   1.053333           32.0   bad      9  40.407387  254.407520   \n",
       "1367   4.026667           60.0  good      9  40.407387  254.407520   \n",
       "1381   4.506667           60.0   bad      7  40.407387  254.407520   \n",
       "...         ...            ...   ...    ...        ...         ...   \n",
       "6381   2.373333          120.0   bad      7  40.265280  254.111390   \n",
       "6548   3.893334           48.0   bad      7  40.351667  253.784722   \n",
       "6590   3.720000          116.0   bad      6  40.347030  253.905670   \n",
       "6605  17.653334          120.0   bad      7  40.347030  253.905670   \n",
       "6775   1.680000          120.0  good      6  39.833890  253.944170   \n",
       "\n",
       "     mult_correct         RQI  point_elev  point_slope  ...    median  \\\n",
       "297     0.9261701  0.70708257        3082     5.118838  ...  0.026667   \n",
       "1331   0.95168996  0.69030136        1775    11.421252  ...  0.026667   \n",
       "1363    0.9447607   0.6971067        2562    12.494040  ...  0.140000   \n",
       "1367   0.87801266    0.697167        2562    12.494040  ...  0.146667   \n",
       "1381    0.8764059   0.6395299        2562    12.494040  ...  0.153333   \n",
       "...           ...         ...         ...          ...  ...       ...   \n",
       "6381   0.97944874     0.64739        2837     1.970671  ...  0.026667   \n",
       "6548     0.870102   0.7060096        2962     2.500761  ...  0.066667   \n",
       "6590    1.0543368   0.5791561        2921     9.012845  ...  0.066667   \n",
       "6605    1.0082786   0.5839421        2921     9.012845  ...  0.040000   \n",
       "6775   0.90539205   0.5992887        2684     2.368037  ...  0.053333   \n",
       "\n",
       "      storm_elev  accum_mean_storm  accum_max_storm  duration_storm  area  \\\n",
       "297         3171          0.006667         0.006667               0   1.0   \n",
       "1331        1540          0.006667         0.006667               0   1.0   \n",
       "1363        1508          0.034524         0.040000               0  14.0   \n",
       "1367        3053          0.036667         0.036667               0   1.0   \n",
       "1381        2844          0.038333         0.043333               0   8.0   \n",
       "...          ...               ...              ...             ...   ...   \n",
       "6381        2892          0.006667         0.006667               0   1.0   \n",
       "6548        2599          0.010000         0.010000               0   1.0   \n",
       "6590        3257          0.010000         0.010000               0   1.0   \n",
       "6605        3028          0.010000         0.010000               0   1.0   \n",
       "6775        3651          0.006667         0.006667               0   1.0   \n",
       "\n",
       "      axis_major_length  axis_minor_length  eccentricity  velocity_storm  \n",
       "297            0.000000           0.000000      0.000000             NaN  \n",
       "1331           0.000000           0.000000      0.000000             NaN  \n",
       "1363           6.581077           2.656458      0.914913             NaN  \n",
       "1367           0.000000           0.000000      0.000000             NaN  \n",
       "1381           4.507894           2.104493      0.884338             NaN  \n",
       "...                 ...                ...           ...             ...  \n",
       "6381           0.000000           0.000000      0.000000             NaN  \n",
       "6548           0.000000           0.000000      0.000000             NaN  \n",
       "6590           0.000000           0.000000      0.000000             NaN  \n",
       "6605           0.000000           0.000000      0.000000             NaN  \n",
       "6775           0.000000           0.000000      0.000000             NaN  \n",
       "\n",
       "[176 rows x 24 columns]"
      ]
     },
     "execution_count": 62,
     "metadata": {},
     "output_type": "execute_result"
    }
   ],
   "source": [
    "performance[performance.isna().any(axis=1)]"
   ]
  },
  {
   "cell_type": "code",
   "execution_count": 63,
   "id": "545a7600",
   "metadata": {},
   "outputs": [
    {
     "data": {
      "text/html": [
       "<div>\n",
       "<style scoped>\n",
       "    .dataframe tbody tr th:only-of-type {\n",
       "        vertical-align: middle;\n",
       "    }\n",
       "\n",
       "    .dataframe tbody tr th {\n",
       "        vertical-align: top;\n",
       "    }\n",
       "\n",
       "    .dataframe thead th {\n",
       "        text-align: right;\n",
       "    }\n",
       "</style>\n",
       "<table border=\"1\" class=\"dataframe\">\n",
       "  <thead>\n",
       "    <tr style=\"text-align: right;\">\n",
       "      <th></th>\n",
       "      <th>peak_mrms</th>\n",
       "      <th>duration_mrms</th>\n",
       "      <th>label</th>\n",
       "      <th>month</th>\n",
       "      <th>latitude</th>\n",
       "      <th>longitude</th>\n",
       "      <th>mult_correct</th>\n",
       "      <th>RQI</th>\n",
       "      <th>point_elev</th>\n",
       "      <th>point_slope</th>\n",
       "      <th>...</th>\n",
       "      <th>median</th>\n",
       "      <th>storm_elev</th>\n",
       "      <th>accum_mean_storm</th>\n",
       "      <th>accum_max_storm</th>\n",
       "      <th>duration_storm</th>\n",
       "      <th>area</th>\n",
       "      <th>axis_major_length</th>\n",
       "      <th>axis_minor_length</th>\n",
       "      <th>eccentricity</th>\n",
       "      <th>velocity_storm</th>\n",
       "    </tr>\n",
       "  </thead>\n",
       "  <tbody>\n",
       "    <tr>\n",
       "      <th>3</th>\n",
       "      <td>4.026667</td>\n",
       "      <td>126.0</td>\n",
       "      <td>bad</td>\n",
       "      <td>9</td>\n",
       "      <td>39.658308</td>\n",
       "      <td>252.838319</td>\n",
       "      <td>0.98523784</td>\n",
       "      <td>0.687836</td>\n",
       "      <td>2938</td>\n",
       "      <td>5.242516</td>\n",
       "      <td>...</td>\n",
       "      <td>0.453333</td>\n",
       "      <td>2070</td>\n",
       "      <td>0.652072</td>\n",
       "      <td>7.110000</td>\n",
       "      <td>112</td>\n",
       "      <td>341.0</td>\n",
       "      <td>25.397352</td>\n",
       "      <td>20.221292</td>\n",
       "      <td>0.605038</td>\n",
       "      <td>28.103452</td>\n",
       "    </tr>\n",
       "    <tr>\n",
       "      <th>8</th>\n",
       "      <td>15.146668</td>\n",
       "      <td>24.0</td>\n",
       "      <td>bad</td>\n",
       "      <td>8</td>\n",
       "      <td>39.658308</td>\n",
       "      <td>252.838319</td>\n",
       "      <td>0.998553</td>\n",
       "      <td>0.67797464</td>\n",
       "      <td>2938</td>\n",
       "      <td>5.242516</td>\n",
       "      <td>...</td>\n",
       "      <td>0.306667</td>\n",
       "      <td>2546</td>\n",
       "      <td>0.177241</td>\n",
       "      <td>0.420000</td>\n",
       "      <td>10</td>\n",
       "      <td>29.0</td>\n",
       "      <td>9.482668</td>\n",
       "      <td>4.214301</td>\n",
       "      <td>0.895818</td>\n",
       "      <td>63.426943</td>\n",
       "    </tr>\n",
       "    <tr>\n",
       "      <th>13</th>\n",
       "      <td>2.560000</td>\n",
       "      <td>124.0</td>\n",
       "      <td>good</td>\n",
       "      <td>9</td>\n",
       "      <td>39.658308</td>\n",
       "      <td>252.838319</td>\n",
       "      <td>1.2320983</td>\n",
       "      <td>0.6298011</td>\n",
       "      <td>2938</td>\n",
       "      <td>5.242516</td>\n",
       "      <td>...</td>\n",
       "      <td>0.040000</td>\n",
       "      <td>3237</td>\n",
       "      <td>0.016250</td>\n",
       "      <td>0.033333</td>\n",
       "      <td>4</td>\n",
       "      <td>8.0</td>\n",
       "      <td>4.898979</td>\n",
       "      <td>2.000000</td>\n",
       "      <td>0.912871</td>\n",
       "      <td>19.833636</td>\n",
       "    </tr>\n",
       "    <tr>\n",
       "      <th>14</th>\n",
       "      <td>2.560000</td>\n",
       "      <td>78.0</td>\n",
       "      <td>good</td>\n",
       "      <td>9</td>\n",
       "      <td>39.658308</td>\n",
       "      <td>252.838319</td>\n",
       "      <td>1.0520313</td>\n",
       "      <td>0.61474377</td>\n",
       "      <td>2938</td>\n",
       "      <td>5.242516</td>\n",
       "      <td>...</td>\n",
       "      <td>0.120000</td>\n",
       "      <td>1868</td>\n",
       "      <td>0.050000</td>\n",
       "      <td>0.130000</td>\n",
       "      <td>16</td>\n",
       "      <td>24.0</td>\n",
       "      <td>9.448694</td>\n",
       "      <td>3.456068</td>\n",
       "      <td>0.930704</td>\n",
       "      <td>15.062501</td>\n",
       "    </tr>\n",
       "    <tr>\n",
       "      <th>17</th>\n",
       "      <td>3.627556</td>\n",
       "      <td>64.0</td>\n",
       "      <td>bad</td>\n",
       "      <td>9</td>\n",
       "      <td>39.658308</td>\n",
       "      <td>252.838319</td>\n",
       "      <td>0.97955614</td>\n",
       "      <td>0.6888186</td>\n",
       "      <td>2938</td>\n",
       "      <td>5.242516</td>\n",
       "      <td>...</td>\n",
       "      <td>0.080000</td>\n",
       "      <td>3168</td>\n",
       "      <td>0.030000</td>\n",
       "      <td>0.030000</td>\n",
       "      <td>4</td>\n",
       "      <td>3.0</td>\n",
       "      <td>2.309401</td>\n",
       "      <td>1.333333</td>\n",
       "      <td>0.816497</td>\n",
       "      <td>326.507770</td>\n",
       "    </tr>\n",
       "    <tr>\n",
       "      <th>...</th>\n",
       "      <td>...</td>\n",
       "      <td>...</td>\n",
       "      <td>...</td>\n",
       "      <td>...</td>\n",
       "      <td>...</td>\n",
       "      <td>...</td>\n",
       "      <td>...</td>\n",
       "      <td>...</td>\n",
       "      <td>...</td>\n",
       "      <td>...</td>\n",
       "      <td>...</td>\n",
       "      <td>...</td>\n",
       "      <td>...</td>\n",
       "      <td>...</td>\n",
       "      <td>...</td>\n",
       "      <td>...</td>\n",
       "      <td>...</td>\n",
       "      <td>...</td>\n",
       "      <td>...</td>\n",
       "      <td>...</td>\n",
       "      <td>...</td>\n",
       "    </tr>\n",
       "    <tr>\n",
       "      <th>6731</th>\n",
       "      <td>3.650909</td>\n",
       "      <td>72.0</td>\n",
       "      <td>good</td>\n",
       "      <td>7</td>\n",
       "      <td>39.890560</td>\n",
       "      <td>253.963330</td>\n",
       "      <td>0.93436074</td>\n",
       "      <td>0.64595544</td>\n",
       "      <td>3106</td>\n",
       "      <td>6.494069</td>\n",
       "      <td>...</td>\n",
       "      <td>0.253333</td>\n",
       "      <td>3118</td>\n",
       "      <td>0.113333</td>\n",
       "      <td>0.333333</td>\n",
       "      <td>38</td>\n",
       "      <td>254.0</td>\n",
       "      <td>23.601133</td>\n",
       "      <td>14.319044</td>\n",
       "      <td>0.794923</td>\n",
       "      <td>14.726808</td>\n",
       "    </tr>\n",
       "    <tr>\n",
       "      <th>6735</th>\n",
       "      <td>1.146667</td>\n",
       "      <td>76.0</td>\n",
       "      <td>good</td>\n",
       "      <td>6</td>\n",
       "      <td>39.890560</td>\n",
       "      <td>253.963330</td>\n",
       "      <td>0.9935685</td>\n",
       "      <td>0.64195746</td>\n",
       "      <td>3106</td>\n",
       "      <td>6.494069</td>\n",
       "      <td>...</td>\n",
       "      <td>0.060000</td>\n",
       "      <td>1493</td>\n",
       "      <td>0.019474</td>\n",
       "      <td>0.036667</td>\n",
       "      <td>6</td>\n",
       "      <td>19.0</td>\n",
       "      <td>7.080721</td>\n",
       "      <td>4.859432</td>\n",
       "      <td>0.727327</td>\n",
       "      <td>37.831100</td>\n",
       "    </tr>\n",
       "    <tr>\n",
       "      <th>6741</th>\n",
       "      <td>3.226667</td>\n",
       "      <td>62.0</td>\n",
       "      <td>bad</td>\n",
       "      <td>7</td>\n",
       "      <td>39.890560</td>\n",
       "      <td>253.963330</td>\n",
       "      <td>0.9135597</td>\n",
       "      <td>0.67149186</td>\n",
       "      <td>3106</td>\n",
       "      <td>6.494069</td>\n",
       "      <td>...</td>\n",
       "      <td>0.186667</td>\n",
       "      <td>3595</td>\n",
       "      <td>0.088321</td>\n",
       "      <td>0.310000</td>\n",
       "      <td>50</td>\n",
       "      <td>272.0</td>\n",
       "      <td>41.427949</td>\n",
       "      <td>9.573153</td>\n",
       "      <td>0.972935</td>\n",
       "      <td>32.320074</td>\n",
       "    </tr>\n",
       "    <tr>\n",
       "      <th>6769</th>\n",
       "      <td>4.200000</td>\n",
       "      <td>72.0</td>\n",
       "      <td>bad</td>\n",
       "      <td>7</td>\n",
       "      <td>39.833890</td>\n",
       "      <td>253.944170</td>\n",
       "      <td>0.93436074</td>\n",
       "      <td>0.64595544</td>\n",
       "      <td>2684</td>\n",
       "      <td>2.368037</td>\n",
       "      <td>...</td>\n",
       "      <td>0.253333</td>\n",
       "      <td>3118</td>\n",
       "      <td>0.113333</td>\n",
       "      <td>0.333333</td>\n",
       "      <td>38</td>\n",
       "      <td>254.0</td>\n",
       "      <td>23.601133</td>\n",
       "      <td>14.319044</td>\n",
       "      <td>0.794923</td>\n",
       "      <td>14.726808</td>\n",
       "    </tr>\n",
       "    <tr>\n",
       "      <th>6775</th>\n",
       "      <td>1.680000</td>\n",
       "      <td>120.0</td>\n",
       "      <td>good</td>\n",
       "      <td>6</td>\n",
       "      <td>39.833890</td>\n",
       "      <td>253.944170</td>\n",
       "      <td>0.90539205</td>\n",
       "      <td>0.5992887</td>\n",
       "      <td>2684</td>\n",
       "      <td>2.368037</td>\n",
       "      <td>...</td>\n",
       "      <td>0.053333</td>\n",
       "      <td>3651</td>\n",
       "      <td>0.006667</td>\n",
       "      <td>0.006667</td>\n",
       "      <td>0</td>\n",
       "      <td>1.0</td>\n",
       "      <td>0.000000</td>\n",
       "      <td>0.000000</td>\n",
       "      <td>0.000000</td>\n",
       "      <td>NaN</td>\n",
       "    </tr>\n",
       "  </tbody>\n",
       "</table>\n",
       "<p>782 rows × 24 columns</p>\n",
       "</div>"
      ],
      "text/plain": [
       "      peak_mrms  duration_mrms label  month   latitude   longitude  \\\n",
       "3      4.026667          126.0   bad      9  39.658308  252.838319   \n",
       "8     15.146668           24.0   bad      8  39.658308  252.838319   \n",
       "13     2.560000          124.0  good      9  39.658308  252.838319   \n",
       "14     2.560000           78.0  good      9  39.658308  252.838319   \n",
       "17     3.627556           64.0   bad      9  39.658308  252.838319   \n",
       "...         ...            ...   ...    ...        ...         ...   \n",
       "6731   3.650909           72.0  good      7  39.890560  253.963330   \n",
       "6735   1.146667           76.0  good      6  39.890560  253.963330   \n",
       "6741   3.226667           62.0   bad      7  39.890560  253.963330   \n",
       "6769   4.200000           72.0   bad      7  39.833890  253.944170   \n",
       "6775   1.680000          120.0  good      6  39.833890  253.944170   \n",
       "\n",
       "     mult_correct         RQI  point_elev  point_slope  ...    median  \\\n",
       "3      0.98523784    0.687836        2938     5.242516  ...  0.453333   \n",
       "8        0.998553  0.67797464        2938     5.242516  ...  0.306667   \n",
       "13      1.2320983   0.6298011        2938     5.242516  ...  0.040000   \n",
       "14      1.0520313  0.61474377        2938     5.242516  ...  0.120000   \n",
       "17     0.97955614   0.6888186        2938     5.242516  ...  0.080000   \n",
       "...           ...         ...         ...          ...  ...       ...   \n",
       "6731   0.93436074  0.64595544        3106     6.494069  ...  0.253333   \n",
       "6735    0.9935685  0.64195746        3106     6.494069  ...  0.060000   \n",
       "6741    0.9135597  0.67149186        3106     6.494069  ...  0.186667   \n",
       "6769   0.93436074  0.64595544        2684     2.368037  ...  0.253333   \n",
       "6775   0.90539205   0.5992887        2684     2.368037  ...  0.053333   \n",
       "\n",
       "      storm_elev  accum_mean_storm  accum_max_storm  duration_storm   area  \\\n",
       "3           2070          0.652072         7.110000             112  341.0   \n",
       "8           2546          0.177241         0.420000              10   29.0   \n",
       "13          3237          0.016250         0.033333               4    8.0   \n",
       "14          1868          0.050000         0.130000              16   24.0   \n",
       "17          3168          0.030000         0.030000               4    3.0   \n",
       "...          ...               ...              ...             ...    ...   \n",
       "6731        3118          0.113333         0.333333              38  254.0   \n",
       "6735        1493          0.019474         0.036667               6   19.0   \n",
       "6741        3595          0.088321         0.310000              50  272.0   \n",
       "6769        3118          0.113333         0.333333              38  254.0   \n",
       "6775        3651          0.006667         0.006667               0    1.0   \n",
       "\n",
       "      axis_major_length  axis_minor_length  eccentricity  velocity_storm  \n",
       "3             25.397352          20.221292      0.605038       28.103452  \n",
       "8              9.482668           4.214301      0.895818       63.426943  \n",
       "13             4.898979           2.000000      0.912871       19.833636  \n",
       "14             9.448694           3.456068      0.930704       15.062501  \n",
       "17             2.309401           1.333333      0.816497      326.507770  \n",
       "...                 ...                ...           ...             ...  \n",
       "6731          23.601133          14.319044      0.794923       14.726808  \n",
       "6735           7.080721           4.859432      0.727327       37.831100  \n",
       "6741          41.427949           9.573153      0.972935       32.320074  \n",
       "6769          23.601133          14.319044      0.794923       14.726808  \n",
       "6775           0.000000           0.000000      0.000000             NaN  \n",
       "\n",
       "[782 rows x 24 columns]"
      ]
     },
     "execution_count": 63,
     "metadata": {},
     "output_type": "execute_result"
    }
   ],
   "source": [
    "performance.loc[performance.duration_mrms>performance.duration_storm]"
   ]
  },
  {
   "cell_type": "code",
   "execution_count": 64,
   "id": "6540ad06",
   "metadata": {},
   "outputs": [
    {
     "data": {
      "text/html": [
       "<div>\n",
       "<style scoped>\n",
       "    .dataframe tbody tr th:only-of-type {\n",
       "        vertical-align: middle;\n",
       "    }\n",
       "\n",
       "    .dataframe tbody tr th {\n",
       "        vertical-align: top;\n",
       "    }\n",
       "\n",
       "    .dataframe thead th {\n",
       "        text-align: right;\n",
       "    }\n",
       "</style>\n",
       "<table border=\"1\" class=\"dataframe\">\n",
       "  <thead>\n",
       "    <tr style=\"text-align: right;\">\n",
       "      <th></th>\n",
       "      <th>peak_mrms</th>\n",
       "      <th>duration_mrms</th>\n",
       "      <th>label</th>\n",
       "      <th>month</th>\n",
       "      <th>latitude</th>\n",
       "      <th>longitude</th>\n",
       "      <th>mult_correct</th>\n",
       "      <th>RQI</th>\n",
       "      <th>point_elev</th>\n",
       "      <th>point_slope</th>\n",
       "      <th>...</th>\n",
       "      <th>median</th>\n",
       "      <th>storm_elev</th>\n",
       "      <th>accum_mean_storm</th>\n",
       "      <th>accum_max_storm</th>\n",
       "      <th>duration_storm</th>\n",
       "      <th>area</th>\n",
       "      <th>axis_major_length</th>\n",
       "      <th>axis_minor_length</th>\n",
       "      <th>eccentricity</th>\n",
       "      <th>velocity_storm</th>\n",
       "    </tr>\n",
       "  </thead>\n",
       "  <tbody>\n",
       "    <tr>\n",
       "      <th>0</th>\n",
       "      <td>3.533334</td>\n",
       "      <td>206.0</td>\n",
       "      <td>bad</td>\n",
       "      <td>7</td>\n",
       "      <td>39.658308</td>\n",
       "      <td>252.838319</td>\n",
       "      <td>1.1501489</td>\n",
       "      <td>0.69813013</td>\n",
       "      <td>2938</td>\n",
       "      <td>5.242516</td>\n",
       "      <td>...</td>\n",
       "      <td>1.093333</td>\n",
       "      <td>1951</td>\n",
       "      <td>10.827909</td>\n",
       "      <td>149.270004</td>\n",
       "      <td>608</td>\n",
       "      <td>88498.0</td>\n",
       "      <td>436.952479</td>\n",
       "      <td>324.386531</td>\n",
       "      <td>0.669975</td>\n",
       "      <td>10.445303</td>\n",
       "    </tr>\n",
       "    <tr>\n",
       "      <th>1</th>\n",
       "      <td>6.547693</td>\n",
       "      <td>638.0</td>\n",
       "      <td>good</td>\n",
       "      <td>9</td>\n",
       "      <td>39.658308</td>\n",
       "      <td>252.838319</td>\n",
       "      <td>1.1748676</td>\n",
       "      <td>0.69969386</td>\n",
       "      <td>2938</td>\n",
       "      <td>5.242516</td>\n",
       "      <td>...</td>\n",
       "      <td>0.520000</td>\n",
       "      <td>2199</td>\n",
       "      <td>4.278591</td>\n",
       "      <td>51.676670</td>\n",
       "      <td>1750</td>\n",
       "      <td>191599.0</td>\n",
       "      <td>569.945934</td>\n",
       "      <td>447.847042</td>\n",
       "      <td>0.618517</td>\n",
       "      <td>19.805033</td>\n",
       "    </tr>\n",
       "    <tr>\n",
       "      <th>2</th>\n",
       "      <td>16.986667</td>\n",
       "      <td>274.0</td>\n",
       "      <td>good</td>\n",
       "      <td>8</td>\n",
       "      <td>39.658308</td>\n",
       "      <td>252.838319</td>\n",
       "      <td>0.9726879</td>\n",
       "      <td>0.68966454</td>\n",
       "      <td>2938</td>\n",
       "      <td>5.242516</td>\n",
       "      <td>...</td>\n",
       "      <td>0.640000</td>\n",
       "      <td>2097</td>\n",
       "      <td>9.228024</td>\n",
       "      <td>132.436676</td>\n",
       "      <td>3444</td>\n",
       "      <td>180221.0</td>\n",
       "      <td>540.003779</td>\n",
       "      <td>449.051297</td>\n",
       "      <td>0.555419</td>\n",
       "      <td>13.747385</td>\n",
       "    </tr>\n",
       "    <tr>\n",
       "      <th>3</th>\n",
       "      <td>4.026667</td>\n",
       "      <td>126.0</td>\n",
       "      <td>bad</td>\n",
       "      <td>9</td>\n",
       "      <td>39.658308</td>\n",
       "      <td>252.838319</td>\n",
       "      <td>0.98523784</td>\n",
       "      <td>0.687836</td>\n",
       "      <td>2938</td>\n",
       "      <td>5.242516</td>\n",
       "      <td>...</td>\n",
       "      <td>0.453333</td>\n",
       "      <td>2070</td>\n",
       "      <td>0.652072</td>\n",
       "      <td>7.110000</td>\n",
       "      <td>112</td>\n",
       "      <td>341.0</td>\n",
       "      <td>25.397352</td>\n",
       "      <td>20.221292</td>\n",
       "      <td>0.605038</td>\n",
       "      <td>28.103452</td>\n",
       "    </tr>\n",
       "    <tr>\n",
       "      <th>4</th>\n",
       "      <td>3.226667</td>\n",
       "      <td>136.0</td>\n",
       "      <td>bad</td>\n",
       "      <td>9</td>\n",
       "      <td>39.658308</td>\n",
       "      <td>252.838319</td>\n",
       "      <td>0.96083915</td>\n",
       "      <td>0.6965506</td>\n",
       "      <td>2938</td>\n",
       "      <td>5.242516</td>\n",
       "      <td>...</td>\n",
       "      <td>1.106667</td>\n",
       "      <td>2805</td>\n",
       "      <td>5.624537</td>\n",
       "      <td>82.930000</td>\n",
       "      <td>1144</td>\n",
       "      <td>81303.0</td>\n",
       "      <td>404.886526</td>\n",
       "      <td>340.647260</td>\n",
       "      <td>0.540506</td>\n",
       "      <td>16.591126</td>\n",
       "    </tr>\n",
       "    <tr>\n",
       "      <th>...</th>\n",
       "      <td>...</td>\n",
       "      <td>...</td>\n",
       "      <td>...</td>\n",
       "      <td>...</td>\n",
       "      <td>...</td>\n",
       "      <td>...</td>\n",
       "      <td>...</td>\n",
       "      <td>...</td>\n",
       "      <td>...</td>\n",
       "      <td>...</td>\n",
       "      <td>...</td>\n",
       "      <td>...</td>\n",
       "      <td>...</td>\n",
       "      <td>...</td>\n",
       "      <td>...</td>\n",
       "      <td>...</td>\n",
       "      <td>...</td>\n",
       "      <td>...</td>\n",
       "      <td>...</td>\n",
       "      <td>...</td>\n",
       "      <td>...</td>\n",
       "    </tr>\n",
       "    <tr>\n",
       "      <th>6777</th>\n",
       "      <td>1.520000</td>\n",
       "      <td>326.0</td>\n",
       "      <td>bad</td>\n",
       "      <td>9</td>\n",
       "      <td>39.833890</td>\n",
       "      <td>253.944170</td>\n",
       "      <td>1.1907164</td>\n",
       "      <td>0.627892</td>\n",
       "      <td>2684</td>\n",
       "      <td>2.368037</td>\n",
       "      <td>...</td>\n",
       "      <td>0.600000</td>\n",
       "      <td>1908</td>\n",
       "      <td>3.530297</td>\n",
       "      <td>52.100002</td>\n",
       "      <td>754</td>\n",
       "      <td>117295.0</td>\n",
       "      <td>596.534083</td>\n",
       "      <td>284.383009</td>\n",
       "      <td>0.879052</td>\n",
       "      <td>16.720377</td>\n",
       "    </tr>\n",
       "    <tr>\n",
       "      <th>6778</th>\n",
       "      <td>3.400000</td>\n",
       "      <td>482.0</td>\n",
       "      <td>bad</td>\n",
       "      <td>7</td>\n",
       "      <td>39.833890</td>\n",
       "      <td>253.944170</td>\n",
       "      <td>0.9120071</td>\n",
       "      <td>0.7063258</td>\n",
       "      <td>2684</td>\n",
       "      <td>2.368037</td>\n",
       "      <td>...</td>\n",
       "      <td>0.920000</td>\n",
       "      <td>3187</td>\n",
       "      <td>4.904636</td>\n",
       "      <td>92.263336</td>\n",
       "      <td>924</td>\n",
       "      <td>132140.0</td>\n",
       "      <td>504.606108</td>\n",
       "      <td>453.127194</td>\n",
       "      <td>0.440032</td>\n",
       "      <td>19.412259</td>\n",
       "    </tr>\n",
       "    <tr>\n",
       "      <th>6779</th>\n",
       "      <td>4.000000</td>\n",
       "      <td>306.0</td>\n",
       "      <td>bad</td>\n",
       "      <td>7</td>\n",
       "      <td>39.833890</td>\n",
       "      <td>253.944170</td>\n",
       "      <td>1.0671502</td>\n",
       "      <td>0.70246184</td>\n",
       "      <td>2684</td>\n",
       "      <td>2.368037</td>\n",
       "      <td>...</td>\n",
       "      <td>0.826667</td>\n",
       "      <td>1760</td>\n",
       "      <td>6.993005</td>\n",
       "      <td>122.390007</td>\n",
       "      <td>1562</td>\n",
       "      <td>191188.0</td>\n",
       "      <td>576.599293</td>\n",
       "      <td>447.425750</td>\n",
       "      <td>0.630766</td>\n",
       "      <td>21.075971</td>\n",
       "    </tr>\n",
       "    <tr>\n",
       "      <th>6780</th>\n",
       "      <td>12.026668</td>\n",
       "      <td>372.0</td>\n",
       "      <td>good</td>\n",
       "      <td>7</td>\n",
       "      <td>39.833890</td>\n",
       "      <td>253.944170</td>\n",
       "      <td>1.0234141</td>\n",
       "      <td>0.5840205</td>\n",
       "      <td>2684</td>\n",
       "      <td>2.368037</td>\n",
       "      <td>...</td>\n",
       "      <td>0.800000</td>\n",
       "      <td>2152</td>\n",
       "      <td>16.749559</td>\n",
       "      <td>118.476677</td>\n",
       "      <td>3756</td>\n",
       "      <td>121746.0</td>\n",
       "      <td>495.987247</td>\n",
       "      <td>354.171182</td>\n",
       "      <td>0.700071</td>\n",
       "      <td>11.982241</td>\n",
       "    </tr>\n",
       "    <tr>\n",
       "      <th>6781</th>\n",
       "      <td>3.230000</td>\n",
       "      <td>96.0</td>\n",
       "      <td>bad</td>\n",
       "      <td>7</td>\n",
       "      <td>39.833890</td>\n",
       "      <td>253.944170</td>\n",
       "      <td>0.92831516</td>\n",
       "      <td>0.58548373</td>\n",
       "      <td>2684</td>\n",
       "      <td>2.368037</td>\n",
       "      <td>...</td>\n",
       "      <td>0.720000</td>\n",
       "      <td>2855</td>\n",
       "      <td>2.929296</td>\n",
       "      <td>43.880001</td>\n",
       "      <td>456</td>\n",
       "      <td>49535.0</td>\n",
       "      <td>309.756736</td>\n",
       "      <td>274.783077</td>\n",
       "      <td>0.461590</td>\n",
       "      <td>14.413252</td>\n",
       "    </tr>\n",
       "  </tbody>\n",
       "</table>\n",
       "<p>6782 rows × 24 columns</p>\n",
       "</div>"
      ],
      "text/plain": [
       "      peak_mrms  duration_mrms label  month   latitude   longitude  \\\n",
       "0      3.533334          206.0   bad      7  39.658308  252.838319   \n",
       "1      6.547693          638.0  good      9  39.658308  252.838319   \n",
       "2     16.986667          274.0  good      8  39.658308  252.838319   \n",
       "3      4.026667          126.0   bad      9  39.658308  252.838319   \n",
       "4      3.226667          136.0   bad      9  39.658308  252.838319   \n",
       "...         ...            ...   ...    ...        ...         ...   \n",
       "6777   1.520000          326.0   bad      9  39.833890  253.944170   \n",
       "6778   3.400000          482.0   bad      7  39.833890  253.944170   \n",
       "6779   4.000000          306.0   bad      7  39.833890  253.944170   \n",
       "6780  12.026668          372.0  good      7  39.833890  253.944170   \n",
       "6781   3.230000           96.0   bad      7  39.833890  253.944170   \n",
       "\n",
       "     mult_correct         RQI  point_elev  point_slope  ...    median  \\\n",
       "0       1.1501489  0.69813013        2938     5.242516  ...  1.093333   \n",
       "1       1.1748676  0.69969386        2938     5.242516  ...  0.520000   \n",
       "2       0.9726879  0.68966454        2938     5.242516  ...  0.640000   \n",
       "3      0.98523784    0.687836        2938     5.242516  ...  0.453333   \n",
       "4      0.96083915   0.6965506        2938     5.242516  ...  1.106667   \n",
       "...           ...         ...         ...          ...  ...       ...   \n",
       "6777    1.1907164    0.627892        2684     2.368037  ...  0.600000   \n",
       "6778    0.9120071   0.7063258        2684     2.368037  ...  0.920000   \n",
       "6779    1.0671502  0.70246184        2684     2.368037  ...  0.826667   \n",
       "6780    1.0234141   0.5840205        2684     2.368037  ...  0.800000   \n",
       "6781   0.92831516  0.58548373        2684     2.368037  ...  0.720000   \n",
       "\n",
       "      storm_elev  accum_mean_storm  accum_max_storm  duration_storm      area  \\\n",
       "0           1951         10.827909       149.270004             608   88498.0   \n",
       "1           2199          4.278591        51.676670            1750  191599.0   \n",
       "2           2097          9.228024       132.436676            3444  180221.0   \n",
       "3           2070          0.652072         7.110000             112     341.0   \n",
       "4           2805          5.624537        82.930000            1144   81303.0   \n",
       "...          ...               ...              ...             ...       ...   \n",
       "6777        1908          3.530297        52.100002             754  117295.0   \n",
       "6778        3187          4.904636        92.263336             924  132140.0   \n",
       "6779        1760          6.993005       122.390007            1562  191188.0   \n",
       "6780        2152         16.749559       118.476677            3756  121746.0   \n",
       "6781        2855          2.929296        43.880001             456   49535.0   \n",
       "\n",
       "      axis_major_length  axis_minor_length  eccentricity  velocity_storm  \n",
       "0            436.952479         324.386531      0.669975       10.445303  \n",
       "1            569.945934         447.847042      0.618517       19.805033  \n",
       "2            540.003779         449.051297      0.555419       13.747385  \n",
       "3             25.397352          20.221292      0.605038       28.103452  \n",
       "4            404.886526         340.647260      0.540506       16.591126  \n",
       "...                 ...                ...           ...             ...  \n",
       "6777         596.534083         284.383009      0.879052       16.720377  \n",
       "6778         504.606108         453.127194      0.440032       19.412259  \n",
       "6779         576.599293         447.425750      0.630766       21.075971  \n",
       "6780         495.987247         354.171182      0.700071       11.982241  \n",
       "6781         309.756736         274.783077      0.461590       14.413252  \n",
       "\n",
       "[6782 rows x 24 columns]"
      ]
     },
     "execution_count": 64,
     "metadata": {},
     "output_type": "execute_result"
    }
   ],
   "source": [
    "performance"
   ]
  },
  {
   "cell_type": "code",
   "execution_count": null,
   "id": "a94dd203",
   "metadata": {},
   "outputs": [],
   "source": [
    "performance.to_csv('labeled.csv')"
   ]
  }
 ],
 "metadata": {
  "kernelspec": {
   "display_name": "Python 3 (ipykernel)",
   "language": "python",
   "name": "python3"
  },
  "language_info": {
   "codemirror_mode": {
    "name": "ipython",
    "version": 3
   },
   "file_extension": ".py",
   "mimetype": "text/x-python",
   "name": "python",
   "nbconvert_exporter": "python",
   "pygments_lexer": "ipython3",
   "version": "3.8.13"
  },
  "vscode": {
   "interpreter": {
    "hash": "d0aecf8d292e5c15734fc4afa3256eebe782d67300dfb49589358bb0d38ef1e5"
   }
  }
 },
 "nbformat": 4,
 "nbformat_minor": 5
}
