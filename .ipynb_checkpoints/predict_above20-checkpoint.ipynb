{
 "cells": [
  {
   "cell_type": "code",
   "execution_count": 1,
   "metadata": {},
   "outputs": [],
   "source": [
    "import xarray as xr\n",
    "import numpy as np\n",
    "import skimage.measure\n",
    "import pandas as pd\n",
    "from scipy.spatial import distance\n",
    "import skimage.measure\n",
    "from skimage.morphology import remove_small_objects,closing,binary_closing\n",
    "from scipy import ndimage\n",
    "import matplotlib.pyplot as plt\n",
    "import cartopy.crs as ccrs\n",
    "from datetime import datetime,timedelta\n",
    "import os\n",
    "from dask.distributed import Client\n",
    "import glob\n",
    "from mrms_gage import *"
   ]
  },
  {
   "cell_type": "code",
   "execution_count": 2,
   "metadata": {},
   "outputs": [
    {
     "name": "stderr",
     "output_type": "stream",
     "text": [
      "C:\\Users\\whitep\\.conda\\envs\\radar\\lib\\site-packages\\distributed\\node.py:183: UserWarning: Port 8787 is already in use.\n",
      "Perhaps you already have a cluster running?\n",
      "Hosting the HTTP server on port 60295 instead\n",
      "  warnings.warn(\n"
     ]
    }
   ],
   "source": [
    "client = Client()"
   ]
  },
  {
   "cell_type": "code",
   "execution_count": 3,
   "metadata": {},
   "outputs": [],
   "source": [
    "# Create a path to the code file\n",
    "codeDir = os.path.dirname(os.path.abspath(os.getcwd()))\n",
    "parentDir = os.path.dirname(codeDir)\n",
    "\n",
    "precip_folder = os.path.join(parentDir,\"precip_stats\")\n",
    "storm_folder = os.path.join(parentDir,\"CO_storm_output\")\n",
    "mrms_folder = os.path.join(parentDir,\"MRMS\",\"2min_rate_cat_month_CO\",\"eval\")\n",
    "\n",
    "unique = np.arange(0,0.1,0.01)"
   ]
  },
  {
   "cell_type": "code",
   "execution_count": 4,
   "metadata": {},
   "outputs": [],
   "source": [
    "os.chdir(mrms_folder)\n",
    "filenames_rate = glob.glob('*.grib2')\n",
    "os.chdir(storm_folder)\n",
    "filenames_storm = glob.glob('*.nc')\n",
    "os.chdir(precip_folder) \n",
    "filenames_accum = glob.glob('*_accum')"
   ]
  },
  {
   "cell_type": "code",
   "execution_count": 5,
   "metadata": {},
   "outputs": [
    {
     "name": "stderr",
     "output_type": "stream",
     "text": [
      "Ignoring index file 'Z:\\\\MRMS\\\\1hr_QPE_multi_cat_yr_CO\\\\2022_multiQPE_CO.grib2.923a8.idx' incompatible with GRIB file\n"
     ]
    }
   ],
   "source": [
    "# multisensor correction\n",
    "# open multisensor qpe for 2021,2022\n",
    "mrms_multi_folder = os.path.join(parentDir,\"MRMS\",\"1hr_QPE_multi_cat_yr_CO\")\n",
    "filenames_multi = glob.glob(mrms_multi_folder+'\\\\'+'*.grib2')\n",
    "mrms_multi = xr.open_mfdataset(filenames_multi,engine = \"cfgrib\",chunks={'time': '1MB'})\n",
    "\n",
    "# open radaronly qpe for 2021,2022\n",
    "mrms_radar_folder = os.path.join(parentDir,\"MRMS\",\"1hr_QPE_radar_cat_yr_CO\")\n",
    "filenames_radar = glob.glob(mrms_radar_folder+'\\\\'+'*.grib2')\n",
    "mrms_radar = xr.open_mfdataset(filenames_radar,engine = \"cfgrib\",chunks={'time': '1MB'})\n",
    "\n",
    "correction = (mrms_multi/mrms_radar)\n",
    "correction = correction.where(correction.unknown != np.inf).fillna(1)"
   ]
  },
  {
   "cell_type": "code",
   "execution_count": null,
   "metadata": {},
   "outputs": [],
   "source": [
    "for i in range(len(filenames_rate)):\n",
    "    mrms_rate = xr.open_dataset(mrms_folder+'\\\\'+filenames_rate[i],engine = \"cfgrib\",chunks={'time': '50MB'})\n",
    "    mrms_rate = mrms_rate.where(mrms_rate.longitude<=256,drop=True)\n",
    "    # convert to accum\n",
    "    mrms_accum = mrms_rate*(2/60)\n",
    "    # multisensor correction\n",
    "    correction_month = correction.sel(time=slice(mrms_accum.time[0],mrms_accum.time[-1]))\n",
    "    correction_month = correction_month.resample(time='2min').pad()\n",
    "    mrms_2_corrected = mrms_accum*correction_month\n",
    "    # change time to MST\n",
    "    mrms_2_corrected = time_change(mrms_2_corrected)\n",
    "    # get rid of neg values\n",
    "    mrms_2_corrected = mrms_2_corrected.where(mrms_2_corrected>=0)\n",
    "    # sample 8 hrs\n",
    "    mrms_2_corrected = mrms_2_corrected.resample(time='8h').sum()\n",
    "    # select values above threshold\n",
    "    mrms_2_corrected = mrms_2_corrected.where(mrms_2_corrected.unknown>20,drop=True)\n",
    "    # save month\n",
    "    name = filenames_rate[i][0:8]+'8hrsampleabove20mm'\n",
    "    path = parentDir+'\\\\predict_temp\\\\'+name+'.nc'\n",
    "    mrms_2_corrected.to_netcdf(path=path)"
   ]
  },
  {
   "cell_type": "code",
   "execution_count": null,
   "metadata": {},
   "outputs": [
    {
     "name": "stderr",
     "output_type": "stream",
     "text": [
      "Can't read index file 'Z:\\\\MRMS\\\\2min_rate_cat_month_CO\\\\eval\\\\aug_2021_rate_CO.grib2.923a8.idx'\n",
      "Traceback (most recent call last):\n",
      "  File \"C:\\Users\\whitep\\.conda\\envs\\radar\\lib\\site-packages\\cfgrib\\messages.py\", line 547, in from_indexpath_or_filestream\n",
      "    self = cls.from_indexpath(indexpath)\n",
      "  File \"C:\\Users\\whitep\\.conda\\envs\\radar\\lib\\site-packages\\cfgrib\\messages.py\", line 429, in from_indexpath\n",
      "    index = pickle.load(file)\n",
      "EOFError: Ran out of input\n"
     ]
    }
   ],
   "source": [
    "for i in range(len(filenames_rate)):\n",
    "    mrms_rate = xr.open_dataset(mrms_folder+'\\\\'+filenames_rate[i],engine = \"cfgrib\",chunks={'time': '50MB'})\n",
    "    mrms_rate = mrms_rate.where(mrms_rate.longitude<=256,drop=True)\n",
    "    # convert to accum\n",
    "    mrms_accum = mrms_rate*(2/60)\n",
    "    # multisensor correction\n",
    "    correction_month = correction.sel(time=slice(mrms_accum.time[0],mrms_accum.time[-1]))\n",
    "    correction_month = correction_month.resample(time='2min').pad()\n",
    "    mrms_2_corrected = mrms_accum*correction_month\n",
    "    # change time to MST\n",
    "    mrms_2_corrected = time_change(mrms_2_corrected)\n",
    "    # get rid of neg values\n",
    "    mrms_2_corrected = mrms_2_corrected.where(mrms_2_corrected>=0)\n",
    "    # sample 8 hrs\n",
    "    mrms_2_corrected = mrms_2_corrected.resample(time='8h').mean()\n",
    "    # select values above threshold\n",
    "    mrms_2_corrected = mrms_2_corrected.where(mrms_2_corrected.unknown>20,drop=True)\n",
    "    # save month\n",
    "    name = filenames_rate[i][0:8]+'8hrsampleabove20mm_mean'\n",
    "    path = parentDir+'\\\\predict_temp\\\\'+name+'.nc'\n",
    "    mrms_2_corrected.to_netcdf(path=path)"
   ]
  },
  {
   "cell_type": "code",
   "execution_count": null,
   "metadata": {},
   "outputs": [],
   "source": []
  }
 ],
 "metadata": {
  "kernelspec": {
   "display_name": "Python 3 (ipykernel)",
   "language": "python",
   "name": "python3"
  },
  "language_info": {
   "codemirror_mode": {
    "name": "ipython",
    "version": 3
   },
   "file_extension": ".py",
   "mimetype": "text/x-python",
   "name": "python",
   "nbconvert_exporter": "python",
   "pygments_lexer": "ipython3",
   "version": "3.8.13"
  },
  "vscode": {
   "interpreter": {
    "hash": "d0aecf8d292e5c15734fc4afa3256eebe782d67300dfb49589358bb0d38ef1e5"
   }
  }
 },
 "nbformat": 4,
 "nbformat_minor": 2
}
