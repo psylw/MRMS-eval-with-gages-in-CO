{
 "cells": [
  {
   "cell_type": "code",
   "execution_count": 95,
   "id": "48551566",
   "metadata": {},
   "outputs": [],
   "source": [
    "import pandas as pd\n",
    "from os import listdir\n",
    "import numpy as np\n",
    "from datetime import timedelta\n",
    "\n",
    "def get_usgsnew(data_folder):\n",
    "    # open\n",
    "    filenames = listdir(data_folder+'\\\\other_usgs')\n",
    "    locations = pd.read_csv(data_folder+'\\\\USGS_new.csv',index_col=0)\n",
    "\n",
    "    gage=[]\n",
    "    for i in filenames:\n",
    "        df = pd.read_csv(data_folder+'\\\\other_usgs\\\\'+i,sep='\\t',engine='python',skiprows=30) # remove header\n",
    "        df.iloc[:, 2] = pd.to_datetime(df.iloc[:, 2])\n",
    "        df = df.rename({df.iloc[:, 2].name: 'datetime'}, axis='columns')\n",
    "        df = df.rename({df.iloc[:, 4].name: 'accum'}, axis='columns')\n",
    "        df = df.loc[df.accum!='Ssn'] # remove 'ssn', meaning not recorded during offseason\n",
    "        df.accum = df.accum.astype('float')\n",
    "        df.accum = df.accum*25.4 #convert to mm from in\n",
    "        df = df.drop(df.columns[[0,1,3,5]],axis = 1)\n",
    "\n",
    "        df = df.set_index('datetime')\n",
    "        df = df[~df.index.duplicated()] # remove duplicated timesteps\n",
    "        df = df.resample('1Min').asfreq().fillna(0)\n",
    "        rate = df.accum.rolling(15,min_periods=1).sum()\n",
    "        rate = (rate*(60/15))\n",
    "        df['15_int'] = rate\n",
    "\n",
    "        gage.append(df)\n",
    "\n",
    "    coord = zip(locations.latitude,locations.longitude)\n",
    "    usgs = dict(zip(coord, gage))    \n",
    "    return usgs"
   ]
  }
 ],
 "metadata": {
  "kernelspec": {
   "display_name": "Python 3 (ipykernel)",
   "language": "python",
   "name": "python3"
  },
  "language_info": {
   "codemirror_mode": {
    "name": "ipython",
    "version": 3
   },
   "file_extension": ".py",
   "mimetype": "text/x-python",
   "name": "python",
   "nbconvert_exporter": "python",
   "pygments_lexer": "ipython3",
   "version": "3.8.13"
  }
 },
 "nbformat": 4,
 "nbformat_minor": 5
}
