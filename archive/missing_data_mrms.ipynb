{
 "cells": [
  {
   "cell_type": "code",
   "execution_count": 5,
   "id": "ae863dca",
   "metadata": {},
   "outputs": [],
   "source": [
    "import xarray as xr\n",
    "import matplotlib.pyplot as plt\n",
    "import os\n",
    "import glob\n",
    "import numpy as np"
   ]
  },
  {
   "cell_type": "code",
   "execution_count": 6,
   "id": "bce0c077",
   "metadata": {},
   "outputs": [],
   "source": [
    "# Create a path to the code file\n",
    "codeDir = os.path.dirname(os.path.abspath(os.getcwd()))\n",
    "parentDir = os.path.dirname(codeDir)\n",
    "\n",
    "precip_folder = os.path.join(parentDir,\"precip_stats\")\n",
    "storm_folder = os.path.join(parentDir,\"CO_storm_output\")\n",
    "mrms_folder = os.path.join(parentDir,\"MRMS\",\"2min_rate_cat_month_CO\",\"eval\")\n",
    "\n",
    "unique = np.arange(0,0.1,0.01)"
   ]
  },
  {
   "cell_type": "markdown",
   "id": "e5d13278",
   "metadata": {},
   "source": [
    "look at MRMS for 10 months"
   ]
  },
  {
   "cell_type": "code",
   "execution_count": 7,
   "id": "f048c158",
   "metadata": {},
   "outputs": [],
   "source": [
    "filenames_rate = glob.glob(mrms_folder+'\\\\'+'*.grib2')"
   ]
  },
  {
   "cell_type": "code",
   "execution_count": 9,
   "id": "92d27706",
   "metadata": {},
   "outputs": [
    {
     "name": "stderr",
     "output_type": "stream",
     "text": [
      "Can't read index file 'Z:\\\\MRMS\\\\2min_rate_cat_month_CO\\\\eval\\\\aug_2021_rate_CO.grib2.923a8.idx'\n",
      "Traceback (most recent call last):\n",
      "  File \"C:\\Users\\whitep\\Miniconda3\\envs\\radar\\lib\\site-packages\\cfgrib\\messages.py\", line 547, in from_indexpath_or_filestream\n",
      "    self = cls.from_indexpath(indexpath)\n",
      "  File \"C:\\Users\\whitep\\Miniconda3\\envs\\radar\\lib\\site-packages\\cfgrib\\messages.py\", line 429, in from_indexpath\n",
      "    index = pickle.load(file)\n",
      "EOFError: Ran out of input\n"
     ]
    }
   ],
   "source": [
    "mrms_rate = xr.open_dataset(filenames_rate[0],engine = \"cfgrib\",chunks={'time': '50MB'})"
   ]
  },
  {
   "cell_type": "code",
   "execution_count": 13,
   "id": "af757a4d",
   "metadata": {},
   "outputs": [
    {
     "name": "stderr",
     "output_type": "stream",
     "text": [
      "C:\\Users\\whitep\\Miniconda3\\envs\\radar\\lib\\site-packages\\xarray\\core\\indexing.py:1385: PerformanceWarning: Slicing is producing a large chunk. To accept the large\n",
      "chunk and silence this warning, set the option\n",
      "    >>> with dask.config.set(**{'array.slicing.split_large_chunks': False}):\n",
      "    ...     array[indexer]\n",
      "\n",
      "To avoid creating the large chunks, set the option\n",
      "    >>> with dask.config.set(**{'array.slicing.split_large_chunks': True}):\n",
      "    ...     array[indexer]\n",
      "  value = value[(slice(None),) * axis + (subkey,)]\n",
      "C:\\Users\\whitep\\Miniconda3\\envs\\radar\\lib\\site-packages\\xarray\\core\\indexing.py:1385: PerformanceWarning: Slicing is producing a large chunk. To accept the large\n",
      "chunk and silence this warning, set the option\n",
      "    >>> with dask.config.set(**{'array.slicing.split_large_chunks': False}):\n",
      "    ...     array[indexer]\n",
      "\n",
      "To avoid creating the large chunks, set the option\n",
      "    >>> with dask.config.set(**{'array.slicing.split_large_chunks': True}):\n",
      "    ...     array[indexer]\n",
      "  value = value[(slice(None),) * axis + (subkey,)]\n"
     ]
    }
   ],
   "source": [
    "test = mrms_rate.where(mrms_rate.unknown<0,drop=True)"
   ]
  },
  {
   "cell_type": "code",
   "execution_count": 38,
   "id": "3b970758",
   "metadata": {},
   "outputs": [],
   "source": [
    "test = test.to_dataframe()"
   ]
  },
  {
   "cell_type": "code",
   "execution_count": 43,
   "id": "a600c40a",
   "metadata": {},
   "outputs": [],
   "source": [
    "test=test.reset_index().groupby(['latitude','longitude']).sum().to_xarray()"
   ]
  },
  {
   "cell_type": "code",
   "execution_count": 1,
   "id": "23672b83",
   "metadata": {},
   "outputs": [
    {
     "ename": "NameError",
     "evalue": "name 'test' is not defined",
     "output_type": "error",
     "traceback": [
      "\u001b[1;31m---------------------------------------------------------------------------\u001b[0m",
      "\u001b[1;31mNameError\u001b[0m                                 Traceback (most recent call last)",
      "Input \u001b[1;32mIn [1]\u001b[0m, in \u001b[0;36m<cell line: 1>\u001b[1;34m()\u001b[0m\n\u001b[1;32m----> 1\u001b[0m \u001b[43mtest\u001b[49m\u001b[38;5;241m.\u001b[39mto_dataframe()\u001b[38;5;241m.\u001b[39mdropna()\u001b[38;5;241m.\u001b[39mmax()\n",
      "\u001b[1;31mNameError\u001b[0m: name 'test' is not defined"
     ]
    }
   ],
   "source": [
    "test.to_dataframe().dropna().max()"
   ]
  },
  {
   "cell_type": "code",
   "execution_count": 51,
   "id": "31d74ef1",
   "metadata": {},
   "outputs": [
    {
     "data": {
      "text/plain": [
       "<matplotlib.collections.QuadMesh at 0x1b6846061f0>"
      ]
     },
     "execution_count": 51,
     "metadata": {},
     "output_type": "execute_result"
    },
    {
     "data": {
      "image/png": "[encoded data removed]",
      "text/plain": [
       "<Figure size 432x288 with 2 Axes>"
      ]
     },
     "metadata": {
      "needs_background": "light"
     },
     "output_type": "display_data"
    }
   ],
   "source": [
    "test.unknown.plot()"
   ]
  }
 ],
 "metadata": {
  "kernelspec": {
   "display_name": "Python 3 (ipykernel)",
   "language": "python",
   "name": "python3"
  },
  "language_info": {
   "codemirror_mode": {
    "name": "ipython",
    "version": 3
   },
   "file_extension": ".py",
   "mimetype": "text/x-python",
   "name": "python",
   "nbconvert_exporter": "python",
   "pygments_lexer": "ipython3",
   "version": "3.8.13"
  }
 },
 "nbformat": 4,
 "nbformat_minor": 5
}
