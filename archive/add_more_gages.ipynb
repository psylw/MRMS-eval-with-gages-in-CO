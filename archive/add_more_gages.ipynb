{
 "cells": [
  {
   "cell_type": "code",
   "execution_count": 162,
   "id": "113d0430",
   "metadata": {},
   "outputs": [],
   "source": [
    "import os\n",
    "import numpy as np\n",
    "import xarray as xr\n",
    "from dask.distributed import Client\n",
    "import matplotlib.pyplot as plt\n",
    "from os import listdir\n",
    "import rioxarray as rxr\n",
    "import pandas as pd\n",
    "import os"
   ]
  },
  {
   "cell_type": "code",
   "execution_count": 163,
   "id": "257de486",
   "metadata": {},
   "outputs": [],
   "source": [
    "codeDir = os.path.dirname(os.path.abspath(os.getcwd()))\n",
    "parentDir = os.path.dirname(codeDir)"
   ]
  },
  {
   "cell_type": "code",
   "execution_count": 165,
   "id": "ee077bc3",
   "metadata": {},
   "outputs": [],
   "source": [
    "current_gages = pd.read_csv(parentDir+'\\\\gage_coord.csv',index_col=0)"
   ]
  },
  {
   "cell_type": "code",
   "execution_count": 164,
   "id": "eff554d5",
   "metadata": {},
   "outputs": [],
   "source": [
    "gage_folder = os.path.join(parentDir,\"precip_gage\")"
   ]
  },
  {
   "cell_type": "code",
   "execution_count": 58,
   "id": "5ea505bf",
   "metadata": {},
   "outputs": [],
   "source": [
    "gage_ET = pd.read_csv(gage_folder+'\\\\East Troublesome\\\\ET Sensor Metadata.csv',index_col=0)\n",
    "gage_ET = gage_ET.loc[gage_ET.Type=='rain']\n",
    "gage_ET['Longitude'] = -gage_ET['Longitude']+360"
   ]
  },
  {
   "cell_type": "code",
   "execution_count": 151,
   "id": "d9243b85",
   "metadata": {},
   "outputs": [],
   "source": [
    "gage_USGS = pd.read_csv(gage_folder+'\\\\USGS_3.csv',index_col=0)\n",
    "gage_USGS['Column5'] = gage_USGS['Column5']+360\n",
    "gage_USGS = gage_USGS.loc[gage_USGS['Column5']<=256]\n",
    "gage_USGS = gage_USGS.rename(columns={\"Column4\": \"latitude\", \"Column5\": \"longitude\"})"
   ]
  },
  {
   "cell_type": "code",
   "execution_count": 153,
   "id": "2cfd8832",
   "metadata": {},
   "outputs": [],
   "source": [
    "gage_USGS = gage_USGS.reset_index()"
   ]
  },
  {
   "cell_type": "code",
   "execution_count": 154,
   "id": "61ae4f50",
   "metadata": {},
   "outputs": [],
   "source": [
    "# find overlapping gages\n",
    "min_distance=[]\n",
    "for i in gage_USGS.index:\n",
    "    distance = []\n",
    "    for j in current_gages.index:\n",
    "        distance.append(gage_USGS.latitude[i]-current_gages.latitude[j])\n",
    "    \n",
    "    min_distance.append(np.min(np.abs(distance)))"
   ]
  },
  {
   "cell_type": "code",
   "execution_count": 155,
   "id": "0969d61c",
   "metadata": {},
   "outputs": [],
   "source": [
    "gage_USGS['lat_dist']=min_distance"
   ]
  },
  {
   "cell_type": "code",
   "execution_count": 156,
   "id": "78464fbe",
   "metadata": {},
   "outputs": [],
   "source": [
    "# find overlapping gages\n",
    "min_distance=[]\n",
    "for i in gage_USGS.index:\n",
    "    distance = []\n",
    "    for j in current_gages.index:\n",
    "        distance.append(gage_USGS.longitude[i]-current_gages.longitude[j])\n",
    "    \n",
    "    min_distance.append(np.min(np.abs(distance)))"
   ]
  },
  {
   "cell_type": "code",
   "execution_count": 157,
   "id": "34a62070",
   "metadata": {},
   "outputs": [],
   "source": [
    "gage_USGS['lon_dist']=min_distance"
   ]
  },
  {
   "cell_type": "code",
   "execution_count": 158,
   "id": "97b32cf5",
   "metadata": {},
   "outputs": [],
   "source": [
    "gage_USGS=gage_USGS.loc[(gage_USGS.lat_dist.abs()>.0005)&(gage_USGS.lon_dist.abs()>.0005)]"
   ]
  },
  {
   "cell_type": "code",
   "execution_count": 136,
   "id": "54b400c2",
   "metadata": {},
   "outputs": [],
   "source": [
    "# find overlapping gages\n",
    "min_distance=[]\n",
    "for i in gage_ET.index:\n",
    "    distance = []\n",
    "    for j in current_gages.index:\n",
    "        distance.append(gage_ET.Latitude[i]-current_gages.latitude[j])\n",
    "    \n",
    "    min_distance.append(np.min(np.abs(distance)))\n",
    "    \n",
    "gage_ET['lat_dist']=min_distance"
   ]
  },
  {
   "cell_type": "code",
   "execution_count": 137,
   "id": "ed5f9bda",
   "metadata": {},
   "outputs": [],
   "source": [
    "# find overlapping gages\n",
    "min_distance=[]\n",
    "for i in gage_ET.index:\n",
    "    distance = []\n",
    "    for j in current_gages.index:\n",
    "        distance.append(gage_ET.Longitude[i]-current_gages.longitude[j])\n",
    "    \n",
    "    min_distance.append(np.min(np.abs(distance)))\n",
    "    \n",
    "gage_ET['lon_dist']=min_distance"
   ]
  },
  {
   "cell_type": "code",
   "execution_count": 139,
   "id": "a3ecb8f2",
   "metadata": {},
   "outputs": [
    {
     "data": {
      "text/html": [
       "<div>\n",
       "<style scoped>\n",
       "    .dataframe tbody tr th:only-of-type {\n",
       "        vertical-align: middle;\n",
       "    }\n",
       "\n",
       "    .dataframe tbody tr th {\n",
       "        vertical-align: top;\n",
       "    }\n",
       "\n",
       "    .dataframe thead th {\n",
       "        text-align: right;\n",
       "    }\n",
       "</style>\n",
       "<table border=\"1\" class=\"dataframe\">\n",
       "  <thead>\n",
       "    <tr style=\"text-align: right;\">\n",
       "      <th></th>\n",
       "      <th>SiteID</th>\n",
       "      <th>Type</th>\n",
       "      <th>Latitude</th>\n",
       "      <th>Longitude</th>\n",
       "      <th>Elevation zone</th>\n",
       "      <th>Burn_status</th>\n",
       "      <th>Sensor_model</th>\n",
       "      <th>Sensor_install</th>\n",
       "      <th>Sensor_remove</th>\n",
       "      <th>Owner</th>\n",
       "      <th>Comments</th>\n",
       "      <th>lat_dist</th>\n",
       "      <th>lon_dist</th>\n",
       "    </tr>\n",
       "    <tr>\n",
       "      <th>Name</th>\n",
       "      <th></th>\n",
       "      <th></th>\n",
       "      <th></th>\n",
       "      <th></th>\n",
       "      <th></th>\n",
       "      <th></th>\n",
       "      <th></th>\n",
       "      <th></th>\n",
       "      <th></th>\n",
       "      <th></th>\n",
       "      <th></th>\n",
       "      <th></th>\n",
       "      <th></th>\n",
       "    </tr>\n",
       "  </thead>\n",
       "  <tbody>\n",
       "  </tbody>\n",
       "</table>\n",
       "</div>"
      ],
      "text/plain": [
       "Empty DataFrame\n",
       "Columns: [SiteID, Type, Latitude, Longitude, Elevation zone, Burn_status, Sensor_model, Sensor_install, Sensor_remove, Owner, Comments, lat_dist, lon_dist]\n",
       "Index: []"
      ]
     },
     "execution_count": 139,
     "metadata": {},
     "output_type": "execute_result"
    }
   ],
   "source": [
    "gage_ET.loc[(gage_ET.lat_dist.abs()<.0005)&(gage_ET.lon_dist.abs()<.0005)]"
   ]
  },
  {
   "cell_type": "code",
   "execution_count": 159,
   "id": "1ea8751f",
   "metadata": {},
   "outputs": [],
   "source": [
    "# save predict\n",
    "name = '\\\\USGS_new.csv'\n",
    "output = gage_folder+name\n",
    "gage_USGS.to_csv(output)"
   ]
  },
  {
   "cell_type": "code",
   "execution_count": 161,
   "id": "77422f99",
   "metadata": {},
   "outputs": [],
   "source": [
    "# save predict\n",
    "name = '\\\\ET_meta.csv'\n",
    "output = gage_folder+name\n",
    "gage_ET.to_csv(output)"
   ]
  },
  {
   "cell_type": "code",
   "execution_count": 167,
   "id": "f60464cb",
   "metadata": {},
   "outputs": [],
   "source": [
    "gage_ET = pd.read_csv(gage_folder+'\\\\ET_meta.csv',index_col=0)\n",
    "gage_USGS = pd.read_csv(gage_folder+'\\\\USGS_new.csv',index_col=0)"
   ]
  },
  {
   "cell_type": "code",
   "execution_count": 173,
   "id": "69e31daa",
   "metadata": {},
   "outputs": [
    {
     "data": {
      "image/png": "[encoded data removed]",
      "text/plain": [
       "<Figure size 1152x864 with 1 Axes>"
      ]
     },
     "metadata": {
      "needs_background": "light"
     },
     "output_type": "display_data"
    }
   ],
   "source": [
    "fig = plt.figure(1, figsize=(16, 12))\n",
    "plt.scatter(current_gages.longitude-360,current_gages.latitude,alpha=.5,label='current',linewidth=.1)\n",
    "plt.scatter(gage_ET.Longitude-360,gage_ET.Latitude,alpha=.5,label='ARS',linewidth=.1)\n",
    "plt.scatter(gage_USGS.longitude-360,gage_USGS.latitude,alpha=.5,label='USGS',linewidth=.1)\n",
    "#plt.xlim(253.8,254)\n",
    "#plt.ylim(40.2,40.4)\n",
    "plt.grid(True)"
   ]
  },
  {
   "cell_type": "code",
   "execution_count": null,
   "id": "3d2ad527",
   "metadata": {},
   "outputs": [],
   "source": []
  }
 ],
 "metadata": {
  "kernelspec": {
   "display_name": "Python 3 (ipykernel)",
   "language": "python",
   "name": "python3"
  },
  "language_info": {
   "codemirror_mode": {
    "name": "ipython",
    "version": 3
   },
   "file_extension": ".py",
   "mimetype": "text/x-python",
   "name": "python",
   "nbconvert_exporter": "python",
   "pygments_lexer": "ipython3",
   "version": "3.8.13"
  }
 },
 "nbformat": 4,
 "nbformat_minor": 5
}
