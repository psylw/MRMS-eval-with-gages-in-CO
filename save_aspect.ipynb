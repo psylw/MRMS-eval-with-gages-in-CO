{
 "cells": [
  {
   "cell_type": "code",
   "execution_count": 4,
   "id": "f7978acf",
   "metadata": {},
   "outputs": [
    {
     "name": "stdout",
     "output_type": "stream",
     "text": [
      "CPU times: total: 7h 47min 40s\n",
      "Wall time: 7h 47min 42s\n"
     ]
    }
   ],
   "source": [
    "%%time\n",
    "import xarray as xr\n",
    "import numpy as np\n",
    "import skimage.measure\n",
    "import pandas as pd\n",
    "from scipy.spatial import distance\n",
    "import skimage.measure\n",
    "from skimage.morphology import remove_small_objects,closing,binary_closing\n",
    "from scipy import ndimage\n",
    "from datetime import datetime,timedelta\n",
    "import os\n",
    "from dask.distributed import Client\n",
    "import glob\n",
    "from shapely.geometry import MultiPoint\n",
    "import geopandas as gpd\n",
    "import cartopy.crs as ccrs\n",
    "import rioxarray as rxr\n",
    "\n",
    "# Create a path to the code file\n",
    "codeDir = os.path.dirname(os.path.abspath(os.getcwd()))\n",
    "parentDir = os.path.dirname(codeDir)\n",
    "\n",
    "precip_folder = os.path.join(parentDir,\"precip_stats\")\n",
    "\n",
    "os.chdir(precip_folder)\n",
    "filenames_coord = glob.glob('*coord')\n",
    "\n",
    "# open aspect\n",
    "a = '\\\\CO_SRTM1arcsec_aspect.tif'\n",
    "folder = parentDir\n",
    "elev = folder+a\n",
    "codtm = rxr.open_rasterio(a)\n",
    "# change lon to match global lat/lon in grib file\n",
    "codtm = codtm.assign_coords(x=(((codtm.x + 360))))\n",
    "codtm = codtm.rename({'x':'longitude','y':'latitude'})\n",
    "codtm = codtm.sel(band=1)\n",
    "codtm = codtm.where(codtm>=0)\n",
    "\n",
    "for i in range(len(filenames_coord)):\n",
    "    coord = pd.read_feather(precip_folder+'\\\\'+filenames_coord[i])\n",
    "    aspect=[]\n",
    "\n",
    "    for j in range(len(coord)):\n",
    "        length = len(coord.latitude[j])\n",
    "        fill = np.full(length,1)\n",
    "\n",
    "        d = {'latitude':coord.latitude[j],'longitude':coord.longitude[j],'fill':fill}\n",
    "        a = pd.DataFrame(data=d)\n",
    "\n",
    "        a = a.groupby(['latitude','longitude']).mean()\n",
    "        a = a.to_xarray()\n",
    "\n",
    "        asp = codtm.sel(latitude=a.latitude,longitude=a.longitude,method='nearest')\n",
    "\n",
    "        ds = xr.Dataset(data_vars=dict(asp=([\"latitude\", \"longitude\"], asp.values)),\n",
    "            coords=dict(latitude=a.latitude,longitude=a.longitude,))\n",
    "\n",
    "        a = a.assign({'aspect':ds.asp})\n",
    "        a = a.where(a.fill==1)\n",
    "\n",
    "        aspect.append(a.aspect.mean())\n",
    "        \n",
    "    aspect = [i.values for i in aspect]\n",
    "\n",
    "    #save\n",
    "    df = pd.DataFrame({'storm_id':coord['storm_id'],'aspect':aspect})\n",
    "    \n",
    "    df.aspect = df.aspect.astype('float')\n",
    "\n",
    "    name = filenames_coord[i][0:8]+'_aspect'\n",
    "    output = parentDir+'\\\\precip_stats\\\\'+name\n",
    "    df.to_feather(output)\n"
   ]
  },
  {
   "cell_type": "code",
   "execution_count": null,
   "id": "ed788558",
   "metadata": {},
   "outputs": [],
   "source": []
  }
 ],
 "metadata": {
  "kernelspec": {
   "display_name": "Python 3 (ipykernel)",
   "language": "python",
   "name": "python3"
  },
  "language_info": {
   "codemirror_mode": {
    "name": "ipython",
    "version": 3
   },
   "file_extension": ".py",
   "mimetype": "text/x-python",
   "name": "python",
   "nbconvert_exporter": "python",
   "pygments_lexer": "ipython3",
   "version": "3.8.13"
  }
 },
 "nbformat": 4,
 "nbformat_minor": 5
}
