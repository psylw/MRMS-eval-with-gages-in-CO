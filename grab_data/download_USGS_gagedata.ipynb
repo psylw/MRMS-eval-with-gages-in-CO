{
 "cells": [
  {
   "cell_type": "code",
   "execution_count": 2,
   "id": "ac710413",
   "metadata": {},
   "outputs": [],
   "source": [
    "import pandas as pd\n",
    "import os\n",
    "import urllib.request\n",
    "from urllib.request import HTTPError"
   ]
  },
  {
   "cell_type": "code",
   "execution_count": 4,
   "id": "e20c24f9",
   "metadata": {},
   "outputs": [],
   "source": [
    "codeDir = os.path.dirname(os.path.abspath(os.getcwd()))\n",
    "parentDir = os.path.dirname(codeDir)\n",
    "gage_folder = os.path.join(parentDir,\"precip_gage\")\n"
   ]
  },
  {
   "cell_type": "code",
   "execution_count": 44,
   "id": "a33d6a98",
   "metadata": {},
   "outputs": [],
   "source": [
    "gage_id = pd.read_csv(gage_folder+'\\\\USGS_new.csv',index_col=0).reset_index().Column2"
   ]
  },
  {
   "cell_type": "code",
   "execution_count": 45,
   "id": "93a5348b",
   "metadata": {},
   "outputs": [],
   "source": [
    "gage_id = gage_id.astype('str')"
   ]
  },
  {
   "cell_type": "code",
   "execution_count": 46,
   "id": "a6261517",
   "metadata": {
    "scrolled": true
   },
   "outputs": [],
   "source": [
    "for i in range(len(gage_id)):\n",
    "    if len(gage_id[i])<8:\n",
    "        gage_id[i]=str(0)+gage_id[i]\n"
   ]
  },
  {
   "cell_type": "code",
   "execution_count": 48,
   "id": "086e004a",
   "metadata": {},
   "outputs": [],
   "source": [
    "destination = os.path.join(gage_folder,\"other_usgs\")\n",
    "\n",
    "for i in gage_id:\n",
    "    \n",
    "    filename = i\n",
    "    \n",
    "    url = 'https://nwis.waterservices.usgs.gov/nwis/iv/?sites='+filename+'&parameterCd=00045&startDT=2021-02-21T08:53:17.158-07:00&endDT=2023-02-21T08:53:17.158-07:00&siteStatus=all&format=rdb'\n",
    "    \n",
    "    fetched_request = urllib.request.urlopen(url)\n",
    "    \n",
    "    with open(destination + os.sep + filename, 'wb') as f:\n",
    "        f.write(fetched_request.read())"
   ]
  }
 ],
 "metadata": {
  "kernelspec": {
   "display_name": "Python 3 (ipykernel)",
   "language": "python",
   "name": "python3"
  },
  "language_info": {
   "codemirror_mode": {
    "name": "ipython",
    "version": 3
   },
   "file_extension": ".py",
   "mimetype": "text/x-python",
   "name": "python",
   "nbconvert_exporter": "python",
   "pygments_lexer": "ipython3",
   "version": "3.8.13"
  }
 },
 "nbformat": 4,
 "nbformat_minor": 5
}
