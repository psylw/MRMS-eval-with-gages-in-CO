{
 "cells": [
  {
   "cell_type": "code",
   "execution_count": null,
   "id": "1a80bbad",
   "metadata": {},
   "outputs": [],
   "source": [
    "import numpy as np\n",
    "import pandas as pd\n",
    "from numpy import nan\n",
    "\n",
    "from sklearn.ensemble import GradientBoostingClassifier, BaggingClassifier,GradientBoostingRegressor\n",
    "from sklearn.tree import DecisionTreeClassifier\n",
    "from sklearn.neighbors import KNeighborsClassifier\n",
    "from sklearn.svm import SVC\n",
    "from sklearn.ensemble import RandomForestClassifier, AdaBoostClassifier\n",
    "from sklearn.linear_model import LogisticRegression\n",
    "from sklearn.neural_network import MLPClassifier\n",
    "\n",
    "from sklearn.model_selection import KFold,cross_val_score,StratifiedKFold\n",
    "from sklearn.utils import resample\n",
    "from sklearn.model_selection import train_test_split,cross_validate,cross_val_predict,RandomizedSearchCV\n",
    "from sklearn.metrics import confusion_matrix,ConfusionMatrixDisplay,auc\n",
    "from sklearn.metrics import f1_score, roc_auc_score, recall_score, precision_score,precision_recall_curve,accuracy_score,roc_curve\n",
    "from sklearn.preprocessing import StandardScaler\n",
    "from sklearn.pipeline import make_pipeline\n",
    "from sklearn.feature_selection import VarianceThreshold,RFECV\n",
    "from imblearn.over_sampling import SMOTE,RandomOverSampler,ADASYN\n",
    "from imblearn.under_sampling import RandomUnderSampler\n",
    "from imblearn.pipeline import Pipeline\n",
    "from sklearn.decomposition import PCA\n",
    "from sklearn.manifold import TSNE\n",
    "\n",
    "from sklearn.feature_selection import SelectKBest\n",
    "from sklearn.feature_selection import f_classif, chi2,mutual_info_classif\n",
    "from sklearn.calibration import CalibratedClassifierCV,calibration_curve,CalibrationDisplay\n",
    "from sklearn.metrics import multilabel_confusion_matrix\n",
    "import xgboost as xgb\n",
    "import os\n",
    "\n",
    "from sklego.meta import Thresholder\n",
    "from sklearn.model_selection import GridSearchCV\n",
    "from sklearn.metrics import precision_score, recall_score, accuracy_score, make_scorer\n",
    "\n",
    "from collections import Counter\n",
    "import matplotlib.pyplot as plt\n",
    "import seaborn as sns\n",
    "\n",
    "import geopandas as gpd\n",
    "import cartopy.crs as ccrs"
   ]
  },
  {
   "cell_type": "code",
   "execution_count": null,
   "id": "c040e541",
   "metadata": {},
   "outputs": [],
   "source": [
    "codeDir = os.path.dirname(os.path.abspath(os.getcwd()))\n",
    "parentDir = os.path.dirname(codeDir)"
   ]
  },
  {
   "cell_type": "code",
   "execution_count": null,
   "id": "ddec4805",
   "metadata": {},
   "outputs": [],
   "source": [
    "df = pd.read_feather(parentDir+'\\\\intermediate_datadev2')"
   ]
  },
  {
   "cell_type": "code",
   "execution_count": null,
   "id": "3d46e953",
   "metadata": {},
   "outputs": [],
   "source": [
    "# remove samples where max mrms intensity < min possible gage intensity\n",
    "min_int = pd.read_feather(parentDir+'\\\\min_intensity_gage')\n",
    "min_int['gage_id'] = min_int.index\n",
    "min_int.min_intensity = min_int.min_intensity\n",
    "df['min_int'] = [min_int.loc[min_int.gage_id==df.gage_id[i][0]].min_intensity.values[0] for i in df.index]\n",
    "\n",
    "df = df.query('max_mrms > min_int')\n",
    "\n",
    "df = df.reset_index(drop=True).drop(columns=['min_int','gage_id','max_accum_atgage'])"
   ]
  },
  {
   "cell_type": "code",
   "execution_count": null,
   "id": "76db42dc",
   "metadata": {},
   "outputs": [],
   "source": [
    "# remove samples less than 1km apart, keep first\n",
    "distance_lessthan = 1\n",
    "df = remove_closest(df,distance_lessthan)"
   ]
  },
  {
   "cell_type": "code",
   "execution_count": null,
   "id": "b73b9e80",
   "metadata": {},
   "outputs": [],
   "source": [
    "# shift lon to 255.5, was 255 when i developed dataset\n",
    "df = df.loc[df.longitude<255.5]"
   ]
  },
  {
   "cell_type": "code",
   "execution_count": null,
   "id": "f15aeb5f",
   "metadata": {},
   "outputs": [],
   "source": [
    "df['label']=0\n",
    "df.loc[(df.AR_peak<=1/.3)&(df.AR_peak>=.3)&(df.AR_accum<=1/.25)&(df.AR_accum>=.25),['label']]=1\n",
    "\n",
    "df = df.loc[(df.AR_peak!=np.inf)&(df.AR_accum!=np.inf)]\n",
    "df = df.drop(columns=['AR_peak','AR_accum'])\n",
    "df = df.drop(columns=['std_int_point','std_accum_point','mean_accum_point','accum_mean_storm','accum_std_storm'])\n",
    "\n",
    "df = df.dropna()"
   ]
  },
  {
   "cell_type": "code",
   "execution_count": null,
   "id": "f9fc15e7",
   "metadata": {},
   "outputs": [],
   "source": [
    "data = df.drop(columns='label')\n",
    "labels = df.label.values\n",
    "scaler = StandardScaler()\n",
    "data=scaler.fit_transform(data)\n",
    "\n",
    "X_train, X_test, y_train, y_test = train_test_split(data, labels, test_size=0.2, random_state=42)\n",
    "\n",
    "cv = StratifiedKFold(n_splits=5, shuffle=True,random_state=1)"
   ]
  },
  {
   "cell_type": "code",
   "execution_count": null,
   "id": "8f529bf9",
   "metadata": {},
   "outputs": [],
   "source": [
    "# no zeros \n",
    "clf = GradientBoostingClassifier()\n",
    "clf.fit(data,labels)\n",
    "\n",
    "x = cross_validate(clf,data,labels, cv = cv,\n",
    "                     scoring=['f1','accuracy','roc_auc','precision','recall'])\n",
    "\n",
    "print(x['test_f1'])\n",
    "print('f1: '+str(round(x['test_f1'].mean(),2)))\n",
    "\n",
    "print(x['test_accuracy'])\n",
    "print('accuracy: '+str(round(x['test_accuracy'].mean(),2)))\n",
    "\n",
    "print(x['test_roc_auc'])\n",
    "print('roc_auc: '+str(round(x['test_roc_auc'].mean(),2)))\n",
    "\n",
    "print(x['test_precision'])\n",
    "print('precision: '+str(round(x['test_precision'].mean(),2)))\n",
    "\n",
    "print(x['test_recall'])\n",
    "print('recall: '+str(round(x['test_recall'].mean(),2)))"
   ]
  },
  {
   "cell_type": "code",
   "execution_count": null,
   "id": "e6c2bd73",
   "metadata": {},
   "outputs": [],
   "source": [
    "# remove when mrms reading below min gage recording\n",
    "\n",
    "clf = GradientBoostingClassifier()\n",
    "clf.fit(data,labels)\n",
    "\n",
    "x = cross_validate(clf,data,labels, cv = cv,\n",
    "                     scoring=['f1','accuracy','roc_auc','precision','recall'])\n",
    "\n",
    "print(x['test_f1'])\n",
    "print('f1: '+str(round(x['test_f1'].mean(),2)))\n",
    "\n",
    "print(x['test_accuracy'])\n",
    "print('accuracy: '+str(round(x['test_accuracy'].mean(),2)))\n",
    "\n",
    "print(x['test_roc_auc'])\n",
    "print('roc_auc: '+str(round(x['test_roc_auc'].mean(),2)))\n",
    "\n",
    "print(x['test_precision'])\n",
    "print('precision: '+str(round(x['test_precision'].mean(),2)))\n",
    "\n",
    "print(x['test_recall'])\n",
    "print('recall: '+str(round(x['test_recall'].mean(),2)))"
   ]
  },
  {
   "cell_type": "code",
   "execution_count": null,
   "id": "873bb74f",
   "metadata": {},
   "outputs": [],
   "source": [
    "# remove when mrms reading below min gage recording + buffer\n",
    "\n",
    "clf = GradientBoostingClassifier()\n",
    "clf.fit(data,labels)\n",
    "\n",
    "x = cross_validate(clf,data,labels, cv = cv,\n",
    "                     scoring=['f1','accuracy','roc_auc','precision','recall'])\n",
    "\n",
    "print(x['test_f1'])\n",
    "print('f1: '+str(round(x['test_f1'].mean(),2)))\n",
    "\n",
    "print(x['test_accuracy'])\n",
    "print('accuracy: '+str(round(x['test_accuracy'].mean(),2)))\n",
    "\n",
    "print(x['test_roc_auc'])\n",
    "print('roc_auc: '+str(round(x['test_roc_auc'].mean(),2)))\n",
    "\n",
    "print(x['test_precision'])\n",
    "print('precision: '+str(round(x['test_precision'].mean(),2)))\n",
    "\n",
    "print(x['test_recall'])\n",
    "print('recall: '+str(round(x['test_recall'].mean(),2)))"
   ]
  },
  {
   "cell_type": "code",
   "execution_count": null,
   "id": "31acca80",
   "metadata": {},
   "outputs": [],
   "source": [
    "# remove when mrms reading below min gage recording, shift threshold, label small int 1\n",
    "\n",
    "clf = GradientBoostingClassifier()\n",
    "clf.fit(data,labels)\n",
    "\n",
    "x = cross_validate(clf,data,labels, cv = cv,\n",
    "                     scoring=['f1','accuracy','roc_auc','precision','recall'])\n",
    "\n",
    "print(x['test_f1'])\n",
    "print('f1: '+str(round(x['test_f1'].mean(),2)))\n",
    "\n",
    "print(x['test_accuracy'])\n",
    "print('accuracy: '+str(round(x['test_accuracy'].mean(),2)))\n",
    "\n",
    "print(x['test_roc_auc'])\n",
    "print('roc_auc: '+str(round(x['test_roc_auc'].mean(),2)))\n",
    "\n",
    "print(x['test_precision'])\n",
    "print('precision: '+str(round(x['test_precision'].mean(),2)))\n",
    "\n",
    "print(x['test_recall'])\n",
    "print('recall: '+str(round(x['test_recall'].mean(),2)))"
   ]
  },
  {
   "cell_type": "code",
   "execution_count": null,
   "id": "fab8e5a4",
   "metadata": {},
   "outputs": [],
   "source": [
    "# change min intensity\n",
    "\n",
    "clf = GradientBoostingClassifier()\n",
    "clf.fit(data,labels)\n",
    "\n",
    "x = cross_validate(clf,data,labels, cv = cv,\n",
    "                     scoring=['f1','accuracy','roc_auc','precision','recall'])\n",
    "\n",
    "print(x['test_f1'])\n",
    "print('f1: '+str(round(x['test_f1'].mean(),2)))\n",
    "\n",
    "print(x['test_accuracy'])\n",
    "print('accuracy: '+str(round(x['test_accuracy'].mean(),2)))\n",
    "\n",
    "print(x['test_roc_auc'])\n",
    "print('roc_auc: '+str(round(x['test_roc_auc'].mean(),2)))\n",
    "\n",
    "print(x['test_precision'])\n",
    "print('precision: '+str(round(x['test_precision'].mean(),2)))\n",
    "\n",
    "print(x['test_recall'])\n",
    "print('recall: '+str(round(x['test_recall'].mean(),2)))"
   ]
  }
 ],
 "metadata": {
  "kernelspec": {
   "display_name": "Python 3 (ipykernel)",
   "language": "python",
   "name": "python3"
  },
  "language_info": {
   "codemirror_mode": {
    "name": "ipython",
    "version": 3
   },
   "file_extension": ".py",
   "mimetype": "text/x-python",
   "name": "python",
   "nbconvert_exporter": "python",
   "pygments_lexer": "ipython3",
   "version": "3.8.13"
  }
 },
 "nbformat": 4,
 "nbformat_minor": 5
}
